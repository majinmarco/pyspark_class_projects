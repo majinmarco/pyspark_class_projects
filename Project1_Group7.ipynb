{
  "nbformat": 4,
  "nbformat_minor": 0,
  "metadata": {
    "colab": {
      "provenance": [],
      "toc_visible": true
    },
    "kernelspec": {
      "name": "python3",
      "display_name": "Python 3"
    },
    "language_info": {
      "name": "python"
    },
    "gpuClass": "standard"
  },
  "cells": [
    {
      "cell_type": "markdown",
      "source": [
        "# Project 1: EDA with PySpark"
      ],
      "metadata": {
        "id": "ebTv_67Xec98"
      }
    },
    {
      "cell_type": "markdown",
      "source": [
        "* **Your Group Number:** 7\n",
        "* **Each Team Members Name and Student ID:** Marco Nardone Guerra(2727547), Kumar Manav(3010566)\n",
        "                                              "
      ],
      "metadata": {
        "id": "0P1jjFW3nDIt"
      }
    },
    {
      "cell_type": "markdown",
      "source": [
        "By submitting this group work, “I accept responsibility for my role in ensuring the integrity of the work submitted by the group in which I participated.”\n",
        "\n",
        "[source](https://www.rochester.edu/college/honesty/instructors/pledge.html)"
      ],
      "metadata": {
        "id": "j1tsuG6tnR5F"
      }
    },
    {
      "cell_type": "markdown",
      "source": [
        "# Introduction"
      ],
      "metadata": {
        "id": "WztDXE3lngQS"
      }
    },
    {
      "cell_type": "markdown",
      "source": [
        "The purpose of this project is to help you apply what you learned in the previous lectures to a real-world dataset. At the end of it, you will have a self-contained notebook that you can brag about in job interviews. I've left some code cells and given some info on dataframe shape to help you check your work...\n",
        "\n",
        "Now let's go tackle the PPP dataset and find some interesting trends using PySpark!"
      ],
      "metadata": {
        "id": "-4Km20MQgIWy"
      }
    },
    {
      "cell_type": "markdown",
      "source": [
        "## Download PPP data"
      ],
      "metadata": {
        "id": "aNh1_VfSfNjL"
      }
    },
    {
      "cell_type": "markdown",
      "source": [
        "You can download the data from here (https://data.sba.gov/dataset/ppp-foia). We will use the first three files.\n",
        "\n",
        "I have tried copying the link address and pasting it here (so no need to mount your Google Drive) - but the link address changes every few months, so instead we can download locally, drag to Google Drive, and use a shareable link."
      ],
      "metadata": {
        "id": "iT_jRh90egQd"
      }
    },
    {
      "cell_type": "code",
      "execution_count": null,
      "metadata": {
        "id": "fE3CH1V2eDJe"
      },
      "outputs": [],
      "source": [
        "# download the SBA data\n",
        "# would be great but the link changes every quarter!\n",
        "\n",
        "\n",
        "#!gdown https://data.sba.gov/dataset/8aa276e2-6cab-4f86-aca4-a7dde42adf24/resource/0187d0dd-1a59-4c99-a04d-982231e68778/download/public_150k_plus_220930.csv\n",
        "#!gdown https://data.sba.gov/dataset/8aa276e2-6cab-4f86-aca4-a7dde42adf24/resource/ef9a027d-6681-4e36-a1d8-82757dd210b4/download/public_up_to_150k_1_220930.csv\n",
        "#!gdown https://data.sba.gov/dataset/8aa276e2-6cab-4f86-aca4-a7dde42adf24/resource/cd9ec3d9-515a-4064-b843-2c22ad9046b4/download/public_up_to_150k_2_220930.csv"
      ]
    },
    {
      "cell_type": "markdown",
      "source": [
        "For some reason, I had to upgrade gdown to download a massive .csv file from my Google Drive... run this then try to download the files from your Google Drive!"
      ],
      "metadata": {
        "id": "lRXExyZVDush"
      }
    },
    {
      "cell_type": "code",
      "source": [
        "!pip install --upgrade --no-cache-dir gdown"
      ],
      "metadata": {
        "colab": {
          "base_uri": "https://localhost:8080/"
        },
        "id": "5YbNxESZDpxo",
        "outputId": "676d28ed-fd67-4bad-9d5e-43f2323b8f8a"
      },
      "execution_count": null,
      "outputs": [
        {
          "output_type": "stream",
          "name": "stdout",
          "text": [
            "Looking in indexes: https://pypi.org/simple, https://us-python.pkg.dev/colab-wheels/public/simple/\n",
            "Requirement already satisfied: gdown in /usr/local/lib/python3.8/dist-packages (4.6.3)\n",
            "Requirement already satisfied: six in /usr/local/lib/python3.8/dist-packages (from gdown) (1.15.0)\n",
            "Requirement already satisfied: tqdm in /usr/local/lib/python3.8/dist-packages (from gdown) (4.64.1)\n",
            "Requirement already satisfied: beautifulsoup4 in /usr/local/lib/python3.8/dist-packages (from gdown) (4.6.3)\n",
            "Requirement already satisfied: requests[socks] in /usr/local/lib/python3.8/dist-packages (from gdown) (2.25.1)\n",
            "Requirement already satisfied: filelock in /usr/local/lib/python3.8/dist-packages (from gdown) (3.9.0)\n",
            "Requirement already satisfied: chardet<5,>=3.0.2 in /usr/local/lib/python3.8/dist-packages (from requests[socks]->gdown) (4.0.0)\n",
            "Requirement already satisfied: idna<3,>=2.5 in /usr/local/lib/python3.8/dist-packages (from requests[socks]->gdown) (2.10)\n",
            "Requirement already satisfied: certifi>=2017.4.17 in /usr/local/lib/python3.8/dist-packages (from requests[socks]->gdown) (2022.12.7)\n",
            "Requirement already satisfied: urllib3<1.27,>=1.21.1 in /usr/local/lib/python3.8/dist-packages (from requests[socks]->gdown) (1.24.3)\n",
            "Requirement already satisfied: PySocks!=1.5.7,>=1.5.6 in /usr/local/lib/python3.8/dist-packages (from requests[socks]->gdown) (1.7.1)\n"
          ]
        }
      ]
    },
    {
      "cell_type": "code",
      "source": [
        "# https://drive.google.com/file/d/1M7aLPd3zugBlbuap1DJ5rqqr4RbFvVSL/view?usp=share_link\n",
        "# https://drive.google.com/file/d/1patd3xkDygiD0N2TspfdfqnPYvPGW8ky/view?usp=share_link\n",
        "# https://drive.google.com/file/d/18jmnZ1AmyhqMZ1UryqE_x-5P6SypPmJd/view?usp=share_link \n",
        "!gdown 1M7aLPd3zugBlbuap1DJ5rqqr4RbFvVSL\n",
        "!gdown 1patd3xkDygiD0N2TspfdfqnPYvPGW8ky\n",
        "!gdown 18jmnZ1AmyhqMZ1UryqE_x-5P6SypPmJd"
      ],
      "metadata": {
        "colab": {
          "base_uri": "https://localhost:8080/"
        },
        "id": "f6Iy2yi4ukos",
        "outputId": "a8c903e6-5ebb-4dd2-cebd-ea21b104445c"
      },
      "execution_count": null,
      "outputs": [
        {
          "output_type": "stream",
          "name": "stdout",
          "text": [
            "Downloading...\n",
            "From: https://drive.google.com/uc?id=1M7aLPd3zugBlbuap1DJ5rqqr4RbFvVSL\n",
            "To: /content/public_up_to_150k_2_230101.csv\n",
            "100% 412M/412M [00:02<00:00, 194MB/s]\n",
            "Downloading...\n",
            "From: https://drive.google.com/uc?id=1patd3xkDygiD0N2TspfdfqnPYvPGW8ky\n",
            "To: /content/public_up_to_150k_1_230101.csv\n",
            "100% 414M/414M [00:03<00:00, 113MB/s] \n",
            "Downloading...\n",
            "From: https://drive.google.com/uc?id=18jmnZ1AmyhqMZ1UryqE_x-5P6SypPmJd\n",
            "To: /content/public_150k_plus_230101.csv\n",
            "100% 452M/452M [00:09<00:00, 49.7MB/s]\n"
          ]
        }
      ]
    },
    {
      "cell_type": "markdown",
      "source": [
        "If you look left, you should be able to see the three big .csv files on the lefthand side."
      ],
      "metadata": {
        "id": "miskYYfBeu45"
      }
    },
    {
      "cell_type": "markdown",
      "source": [
        "## Download zipcode-level socioeconomic data\n",
        "It's generally not known what census tract a business resides in, but the zipcode is almost always known. \n",
        "\n",
        "This repo (https://github.com/Ro-Data/Ro-Census-Summaries-By-Zipcode) has zipcode-level census attributes. I have downloaded all of the files to our local runtime on the left."
      ],
      "metadata": {
        "id": "zcF03DIPfPqq"
      }
    },
    {
      "cell_type": "code",
      "source": [
        "!gdown https://raw.githubusercontent.com/Ro-Data/Ro-Census-Summaries-By-Zipcode/master/econ.txt\n",
        "!gdown https://raw.githubusercontent.com/Ro-Data/Ro-Census-Summaries-By-Zipcode/master/demo.txt\n",
        "!gdown https://raw.githubusercontent.com/Ro-Data/Ro-Census-Summaries-By-Zipcode/master/housing.txt\n",
        "!gdown https://raw.githubusercontent.com/Ro-Data/Ro-Census-Summaries-By-Zipcode/master/rural_urban.txt\n",
        "!gdown https://raw.githubusercontent.com/Ro-Data/Ro-Census-Summaries-By-Zipcode/master/social.txt"
      ],
      "metadata": {
        "colab": {
          "base_uri": "https://localhost:8080/"
        },
        "id": "97iQRyaofvlD",
        "outputId": "e5ea94ea-52f6-4ad0-a910-7f002c4096eb"
      },
      "execution_count": null,
      "outputs": [
        {
          "output_type": "stream",
          "name": "stdout",
          "text": [
            "Downloading...\n",
            "From: https://raw.githubusercontent.com/Ro-Data/Ro-Census-Summaries-By-Zipcode/master/econ.txt\n",
            "To: /content/econ.txt\n",
            "49.7MB [00:00, 93.3MB/s]\n",
            "Downloading...\n",
            "From: https://raw.githubusercontent.com/Ro-Data/Ro-Census-Summaries-By-Zipcode/master/demo.txt\n",
            "To: /content/demo.txt\n",
            "26.7MB [00:00, 86.4MB/s]\n",
            "Downloading...\n",
            "From: https://raw.githubusercontent.com/Ro-Data/Ro-Census-Summaries-By-Zipcode/master/housing.txt\n",
            "To: /content/housing.txt\n",
            "49.0MB [00:01, 32.1MB/s]\n",
            "Downloading...\n",
            "From: https://raw.githubusercontent.com/Ro-Data/Ro-Census-Summaries-By-Zipcode/master/rural_urban.txt\n",
            "To: /content/rural_urban.txt\n",
            "923kB [00:00, 18.3MB/s]       \n",
            "Downloading...\n",
            "From: https://raw.githubusercontent.com/Ro-Data/Ro-Census-Summaries-By-Zipcode/master/social.txt\n",
            "To: /content/social.txt\n",
            "46.0MB [00:00, 49.7MB/s]\n"
          ]
        }
      ]
    },
    {
      "cell_type": "markdown",
      "source": [
        "# Install Spark"
      ],
      "metadata": {
        "id": "l0Riiafgg0Ot"
      }
    },
    {
      "cell_type": "code",
      "execution_count": null,
      "metadata": {
        "id": "H5Eqa_wqGE7c"
      },
      "outputs": [],
      "source": [
        "# install java\n",
        "!apt-get install openjdk-8-jdk-headless -qq > /dev/null\n",
        "\n",
        "# install spark (change the version number if needed)\n",
        "!wget -q https://archive.apache.org/dist/spark/spark-3.3.1/spark-3.3.1-bin-hadoop3.tgz\n",
        "\n",
        "# unzip the spark file to the current folder\n",
        "!tar xf spark-3.3.1-bin-hadoop3.tgz\n",
        "\n",
        "# set your spark folder to your system path environment. \n",
        "import os\n",
        "os.environ[\"JAVA_HOME\"] = \"/usr/lib/jvm/java-8-openjdk-amd64\"\n",
        "os.environ[\"SPARK_HOME\"] = \"/content/spark-3.3.1-bin-hadoop3\"\n",
        "\n",
        "\n",
        "# install findspark using pip\n",
        "!pip install -q findspark\n",
        "\n",
        "import findspark\n",
        "findspark.init()"
      ]
    },
    {
      "cell_type": "markdown",
      "source": [
        "# Start session"
      ],
      "metadata": {
        "id": "CRxEW8DkGXCF"
      }
    },
    {
      "cell_type": "markdown",
      "source": [
        "We start the builder pattern `SparkSession.builder` and then chain a configuration parameter that defined the application name."
      ],
      "metadata": {
        "id": "JuJ0P_fPhMro"
      }
    },
    {
      "cell_type": "markdown",
      "source": [
        "Providing a useful `appName` helps you identify which programs are running on your Spark cluster."
      ],
      "metadata": {
        "id": "J2w5YYf2hsUx"
      }
    },
    {
      "cell_type": "code",
      "source": [
        "from pyspark.sql import SparkSession\n",
        "import pyspark.sql.functions as F\n",
        "\n",
        "spark = SparkSession.builder\\\n",
        "        .appName(\"Project1_EDA_with_PySpark\")\\\n",
        "        .getOrCreate()"
      ],
      "metadata": {
        "id": "O3AIwdPaGWTy"
      },
      "execution_count": null,
      "outputs": []
    },
    {
      "cell_type": "code",
      "source": [
        "# for concise script, we import all functions as F\n",
        "import pyspark.sql.functions as F"
      ],
      "metadata": {
        "id": "-UEZxn3yBxNQ"
      },
      "execution_count": null,
      "outputs": []
    },
    {
      "cell_type": "markdown",
      "source": [
        "# 🔴 Organize your folders (5 pts)"
      ],
      "metadata": {
        "id": "r5Hvs1R5EJqr"
      }
    },
    {
      "cell_type": "markdown",
      "source": [
        "## (1) Create a folder on the local runtime called 'census' and copy all of the .txt files over to this folder\n",
        "Like we did in class!"
      ],
      "metadata": {
        "id": "4QmlwI_Khtco"
      }
    },
    {
      "cell_type": "code",
      "source": [
        "# make a directory called census\n",
        "%mkdir /content/census"
      ],
      "metadata": {
        "id": "woUFusuGh_tH",
        "colab": {
          "base_uri": "https://localhost:8080/"
        },
        "outputId": "e29e5f02-b621-45dc-f1ef-9e763a35a992"
      },
      "execution_count": null,
      "outputs": [
        {
          "output_type": "stream",
          "name": "stdout",
          "text": [
            "mkdir: cannot create directory ‘/content/census’: File exists\n"
          ]
        }
      ]
    },
    {
      "cell_type": "code",
      "source": [
        "# move all of the txt files we just downloaded\n",
        "%mv /content/*.txt /content/census"
      ],
      "metadata": {
        "id": "NFm3e40Gj2Pb"
      },
      "execution_count": null,
      "outputs": []
    },
    {
      "cell_type": "markdown",
      "source": [
        "## (2) Create a folder on the local runtime called 'PPP' and copy all of the .csv files over to this folder\n",
        "Like we did in class! Use mv and not cp."
      ],
      "metadata": {
        "id": "tsO8jVgy8Vna"
      }
    },
    {
      "cell_type": "code",
      "source": [
        "# make a directory called PPP\n",
        "%mkdir /content/PPP"
      ],
      "metadata": {
        "id": "Qu0_pDlrnJKF",
        "colab": {
          "base_uri": "https://localhost:8080/"
        },
        "outputId": "7cc8d6db-ce8f-4469-ac54-362481d66f73"
      },
      "execution_count": null,
      "outputs": [
        {
          "output_type": "stream",
          "name": "stdout",
          "text": [
            "mkdir: cannot create directory ‘/content/PPP’: File exists\n"
          ]
        }
      ]
    },
    {
      "cell_type": "code",
      "source": [
        "# move all of the csv files we just downloaded\n",
        "%mv /content/*.csv /content/PPP"
      ],
      "metadata": {
        "id": "c4zTna5onGea"
      },
      "execution_count": null,
      "outputs": []
    },
    {
      "cell_type": "markdown",
      "source": [
        "# 🔴 Clean the PPP data (10 points)"
      ],
      "metadata": {
        "id": "rE34nkW2EcGf"
      }
    },
    {
      "cell_type": "markdown",
      "source": [
        "## (1) Append/concatenate all of the PPP csv files together\n",
        "You should end up with ~2.76M rows and 53 columns if you did it right. You only need one line of code if you use the wildcard. Make sure you print the rows and column count to check your work or points off!"
      ],
      "metadata": {
        "id": "NOSbkyu5pCpj"
      }
    },
    {
      "cell_type": "code",
      "source": [
        "#we use .union to append all files\n",
        "PPP = spark.read.csv('/content/PPP/public_150k_plus_230101.csv', header=True).union(\n",
        "      spark.read.csv('/content/PPP/public_up_to_150k_1_230101.csv', header=True)).union(\n",
        "      spark.read.csv('/content/PPP/public_up_to_150k_2_230101.csv', header=True)\n",
        "    )"
      ],
      "metadata": {
        "id": "63nvhcTKmtD2"
      },
      "execution_count": null,
      "outputs": []
    },
    {
      "cell_type": "code",
      "source": [
        "PPP.show(5)"
      ],
      "metadata": {
        "id": "2S_UqVuCowPN",
        "colab": {
          "base_uri": "https://localhost:8080/"
        },
        "outputId": "a560073d-c801-4e3a-b6a2-2f8596b174f1"
      },
      "execution_count": null,
      "outputs": [
        {
          "output_type": "stream",
          "name": "stdout",
          "text": [
            "+----------+------------+-------------+----------------+--------------------+--------------------+----------------+-------------+-----------+--------------+------------+----+---------------------+---------------------+---------------------+-----------------+-------------+-------------------------+--------------------+----------------------+-------------------+--------------------+------------------+-------------------+----------------+------------+----------------------+----------------+-----------------+------------+----------+-----+------------+---------+--------------------+--------------------+-----------------+---------------+-------------------------+------------+----------------------+-------------------+---------------------+--------------------+---------------------------+--------------------+---------------------+----------------------+----------+-----------+---------+-----------------+---------------+\n",
            "|LoanNumber|DateApproved|SBAOfficeCode|ProcessingMethod|        BorrowerName|     BorrowerAddress|    BorrowerCity|BorrowerState|BorrowerZip|LoanStatusDate|  LoanStatus|Term|SBAGuarantyPercentage|InitialApprovalAmount|CurrentApprovalAmount|UndisbursedAmount|FranchiseName|ServicingLenderLocationID| ServicingLenderName|ServicingLenderAddress|ServicingLenderCity|ServicingLenderState|ServicingLenderZip|RuralUrbanIndicator|HubzoneIndicator|LMIIndicator|BusinessAgeDescription|     ProjectCity|ProjectCountyName|ProjectState|ProjectZip|   CD|JobsReported|NAICSCode|                Race|           Ethnicity|UTILITIES_PROCEED|PAYROLL_PROCEED|MORTGAGE_INTEREST_PROCEED|RENT_PROCEED|REFINANCE_EIDL_PROCEED|HEALTH_CARE_PROCEED|DEBT_INTEREST_PROCEED|        BusinessType|OriginatingLenderLocationID|   OriginatingLender|OriginatingLenderCity|OriginatingLenderState|    Gender|    Veteran|NonProfit|ForgivenessAmount|ForgivenessDate|\n",
            "+----------+------------+-------------+----------------+--------------------+--------------------+----------------+-------------+-----------+--------------+------------+----+---------------------+---------------------+---------------------+-----------------+-------------+-------------------------+--------------------+----------------------+-------------------+--------------------+------------------+-------------------+----------------+------------+----------------------+----------------+-----------------+------------+----------+-----+------------+---------+--------------------+--------------------+-----------------+---------------+-------------------------+------------+----------------------+-------------------+---------------------+--------------------+---------------------------+--------------------+---------------------+----------------------+----------+-----------+---------+-----------------+---------------+\n",
            "|9547507704|  05/01/2020|         0464|             PPP|SUMTER COATINGS, ...|2410 Highway 15 S...|          Sumter|         null| 29150-9662|    12/18/2020|Paid in Full|  24|                  100|            769358.78|            769358.78|                0|         null|                    19248|        Synovus Bank|         1148 Broadway|           COLUMBUS|                  GA|        31901-2429|                  U|               N|           N|  Existing or more ...|          Sumter|           SUMTER|          SC|29150-9662|SC-05|          62|   325510|          Unanswered|   Unknown/NotStated|             null|      769358.78|                     null|        null|                  null|               null|                 null|         Corporation|                      19248|        Synovus Bank|             COLUMBUS|                    GA|Unanswered| Unanswered|     null|        773553.37|     11/20/2020|\n",
            "|9777677704|  05/01/2020|         0464|             PPP|PLEASANT PLACES, ...| 7684 Southrail Road|North Charleston|         null| 29420-9000|    09/28/2021|Paid in Full|  24|                  100|            736927.79|            736927.79|                0|         null|                    19248|        Synovus Bank|         1148 Broadway|           COLUMBUS|                  GA|        31901-2429|                  U|               Y|           Y|  Existing or more ...|North Charleston|       CHARLESTON|          SC|29420-9000|SC-06|          73|   561730|               White|   Unknown/NotStated|             null|      736927.79|                     null|        null|                  null|               null|                 null| Sole Proprietorship|                      19248|        Synovus Bank|             COLUMBUS|                    GA|Male Owned|Non-Veteran|     null|        746336.24|     08/12/2021|\n",
            "|5791407702|  05/01/2020|         1013|             PPP|BOYER CHILDREN'S ...|    1850 BOYER AVE E|         SEATTLE|         null| 98112-2922|    03/17/2021|Paid in Full|  24|                  100|               691355|               691355|                0|         null|                     9551|Bank of America, ...|  100 N Tryon St, S...|          CHARLOTTE|                  NC|        28202-4024|                  U|               N|           N|  New Business or 2...|         SEATTLE|             KING|          WA|98112-2922|WA-07|          75|     null|          Unanswered|   Unknown/NotStated|             null|         691355|                     null|        null|                  null|               null|                 null|Non-Profit Organi...|                       9551|Bank of America, ...|            CHARLOTTE|                    NC|Unanswered| Unanswered|        Y|        696677.49|     02/10/2021|\n",
            "|6223567700|  05/01/2020|         0920|             PPP|KIRTLEY CONSTRUCT...|1661 MARTIN RANCH RD|  SAN BERNARDINO|         null| 92407-1740|    10/16/2021|Paid in Full|  24|                  100|               499871|               499871|                0|         null|                     9551|Bank of America, ...|  100 N Tryon St, S...|          CHARLOTTE|                  NC|        28202-4024|                  U|               N|           N|  New Business or 2...|  SAN BERNARDINO|   SAN BERNARDINO|          CA|92407-1740|CA-08|          21|   236115|American Indian o...|Not Hispanic or L...|             null|         499871|                     null|        null|                  null|               null|                 null|         Corporation|                       9551|Bank of America, ...|            CHARLOTTE|                    NC|Male Owned|Non-Veteran|     null|        395264.11|     09/10/2021|\n",
            "|9662437702|  05/01/2020|         0101|             PPP|        AERO BOX LLC|                 N/A|             N/A|         null|       null|    08/17/2021|Paid in Full|  24|                  100|               367437|               367437|                0|         null|                    57328|The Huntington Na...|         17 S High St.|           COLUMBUS|                  OH|        43215-3413|                  U|               N|           N|            Unanswered|             N/A|             null|          NA|       N/A| null|          25|   484210|          Unanswered|   Unknown/NotStated|             null|         367437|                     null|        null|                  null|               null|                 null|                null|                      57328|The Huntington Na...|             COLUMBUS|                    OH|Unanswered| Unanswered|     null|        370819.35|     04/08/2021|\n",
            "+----------+------------+-------------+----------------+--------------------+--------------------+----------------+-------------+-----------+--------------+------------+----+---------------------+---------------------+---------------------+-----------------+-------------+-------------------------+--------------------+----------------------+-------------------+--------------------+------------------+-------------------+----------------+------------+----------------------+----------------+-----------------+------------+----------+-----+------------+---------+--------------------+--------------------+-----------------+---------------+-------------------------+------------+----------------------+-------------------+---------------------+--------------------+---------------------------+--------------------+---------------------+----------------------+----------+-----------+---------+-----------------+---------------+\n",
            "only showing top 5 rows\n",
            "\n"
          ]
        }
      ]
    },
    {
      "cell_type": "code",
      "source": [
        "# shape of data:\n",
        "print((PPP.count(), len(PPP.columns)))"
      ],
      "metadata": {
        "id": "XVZDvP3Xo9HA",
        "colab": {
          "base_uri": "https://localhost:8080/"
        },
        "outputId": "e6fac4cc-cfde-4be6-8c82-fe919c572c6d"
      },
      "execution_count": null,
      "outputs": [
        {
          "output_type": "stream",
          "name": "stdout",
          "text": [
            "(2768531, 53)\n"
          ]
        }
      ]
    },
    {
      "cell_type": "markdown",
      "source": [
        "There are zipcode fields for the business and the banks! But be careful, there are null values!"
      ],
      "metadata": {
        "id": "vjxn6yenCxce"
      }
    },
    {
      "cell_type": "markdown",
      "source": [
        "## (2) Clean the zipcode column for PPP files\n",
        "There are some that are missing and there are some that have a long format (12345-6789).\n",
        "\n",
        "We only want records where the `BorrowerZip`:\n",
        "*  zip code exists (is non-null)\n",
        "*  if it does exist, make return only the first 5 digits (https://www.datasciencemadesimple.com/extract-first-n-and-last-n-character-in-pyspark/)\n",
        "\n",
        "Now answer:\n",
        "* How many rows did you drop? \n",
        "* What percentage of the original data was returned? Do you think this is acceptable data quality?"
      ],
      "metadata": {
        "id": "MGdzCWWXqYbh"
      }
    },
    {
      "cell_type": "code",
      "source": [
        "PPP_zip_cut = PPP.select(PPP.columns # select all columns\n",
        "                ).where(PPP.BorrowerZip != 0 # where BorrowerZip is not null\n",
        "                ).withColumn(\"BorrowerZip\", F.substring(PPP.BorrowerZip, 1, 6)) # and those that are left are limited to 5 digits"
      ],
      "metadata": {
        "id": "3n9yfbIFppv5"
      },
      "execution_count": null,
      "outputs": []
    },
    {
      "cell_type": "code",
      "source": [
        "PPP_zip_cut.show(5)"
      ],
      "metadata": {
        "id": "vzL0jQiJr-tz",
        "colab": {
          "base_uri": "https://localhost:8080/"
        },
        "outputId": "f765280e-cd31-401c-ce8d-b55331b48533"
      },
      "execution_count": null,
      "outputs": [
        {
          "output_type": "stream",
          "name": "stdout",
          "text": [
            "+----------+------------+-------------+----------------+--------------------+--------------------+------------+-------------+-----------+--------------+------------+----+---------------------+---------------------+---------------------+-----------------+-------------+-------------------------+--------------------+----------------------+-------------------+--------------------+------------------+-------------------+----------------+------------+----------------------+-----------+-----------------+------------+----------+---+------------+---------+----------+-----------------+-----------------+---------------+-------------------------+------------+----------------------+-------------------+---------------------+--------------------+---------------------------+--------------------+---------------------+----------------------+----------+----------+---------+-----------------+---------------+\n",
            "|LoanNumber|DateApproved|SBAOfficeCode|ProcessingMethod|        BorrowerName|     BorrowerAddress|BorrowerCity|BorrowerState|BorrowerZip|LoanStatusDate|  LoanStatus|Term|SBAGuarantyPercentage|InitialApprovalAmount|CurrentApprovalAmount|UndisbursedAmount|FranchiseName|ServicingLenderLocationID| ServicingLenderName|ServicingLenderAddress|ServicingLenderCity|ServicingLenderState|ServicingLenderZip|RuralUrbanIndicator|HubzoneIndicator|LMIIndicator|BusinessAgeDescription|ProjectCity|ProjectCountyName|ProjectState|ProjectZip| CD|JobsReported|NAICSCode|      Race|        Ethnicity|UTILITIES_PROCEED|PAYROLL_PROCEED|MORTGAGE_INTEREST_PROCEED|RENT_PROCEED|REFINANCE_EIDL_PROCEED|HEALTH_CARE_PROCEED|DEBT_INTEREST_PROCEED|        BusinessType|OriginatingLenderLocationID|   OriginatingLender|OriginatingLenderCity|OriginatingLenderState|    Gender|   Veteran|NonProfit|ForgivenessAmount|ForgivenessDate|\n",
            "+----------+------------+-------------+----------------+--------------------+--------------------+------------+-------------+-----------+--------------+------------+----+---------------------+---------------------+---------------------+-----------------+-------------+-------------------------+--------------------+----------------------+-------------------+--------------------+------------------+-------------------+----------------+------------+----------------------+-----------+-----------------+------------+----------+---+------------+---------+----------+-----------------+-----------------+---------------+-------------------------+------------+----------------------+-------------------+---------------------+--------------------+---------------------------+--------------------+---------------------+----------------------+----------+----------+---------+-----------------+---------------+\n",
            "|6110847106|  04/14/2020|         1084|             PPP|ARCTIC SLOPE NATI...|        7000 Uula St|      BARROW|           AK|      99723|    08/21/2021|Paid in Full|  24|                  100|              7666768|              7666768|                0|         null|                    89628|National Cooperat...|         139 S High St|          HILLSBORO|                  OH|        45133-1442|                  R|               N|           N|  Existing or more ...|     BARROW|      NORTH SLOPE|          AK|99723-0001|AK-|         295|   813920|Unanswered|Unknown/NotStated|             null|        7666768|                     null|        null|                  null|               null|                 null|Non-Profit Organi...|                      89628|National Cooperat...|            HILLSBORO|                    OH|Unanswered|Unanswered|        Y|       7761324.81|     07/13/2021|\n",
            "|6650277102|  04/14/2020|         1084|             PPP|SOUTH PENINSULA H...|4300 BARTLETT STREET|       HOMER|           AK|      99603|    06/09/2021|Paid in Full|  24|                  100|            6528631.4|            6528631.4|                0|         null|                     3386|First National Ba...|        101 W 36th Ave|          ANCHORAGE|                  AK|        99503-5904|                  R|               Y|           N|  Existing or more ...|      HOMER|  KENAI PENINSULA|          AK|99603-0001|AK-|         439|   622110|Unanswered|Unknown/NotStated|             null|     5037890.65|                     null|        null|                  null|         1490740.75|                 null|         Corporation|                       3386|First National Ba...|            ANCHORAGE|                    AK|Unanswered|Unanswered|     null|       6598389.38|     05/18/2021|\n",
            "|6732787302|  04/30/2020|         1084|             PPP|TYONEK GLOBAL SER...|           1689 C ST|   ANCHORAGE|           AK|      99501|          null| Exemption 4|  30|                  100|              6422316|              6422316|                0|         null|                    44449|PNC Bank, Nationa...|      222 Delaware Ave|         WILMINGTON|                  DE|        19801-1621|                  U|               Y|           Y|  Existing or more ...|  ANCHORAGE|        ANCHORAGE|          AK|99501-5115|AK-|         478|   611420|Unanswered|Unknown/NotStated|             null|        6422316|                     null|        null|                  null|               null|                 null|Limited  Liabilit...|                     102000|    First Source FCU|         NEW HARTFORD|                    NY|Unanswered|Unanswered|     null|       4353656.88|     07/14/2022|\n",
            "|6735557309|  04/30/2020|         1084|             PPP|TYONEK WORLDWIDE ...|           1689 C ST|   ANCHORAGE|           AK|      99501|          null| Exemption 4|  60|                  100|              6412487|              6412487|                0|         null|                    44449|PNC Bank, Nationa...|      222 Delaware Ave|         WILMINGTON|                  DE|        19801-1621|                  U|               Y|           Y|  Existing or more ...|  ANCHORAGE|        ANCHORAGE|          AK|99501-5115|AK-|          42|   488190|Unanswered|Unknown/NotStated|             null|        6412487|                     null|        null|                  null|               null|                 null|Subchapter S Corp...|                     102000|    First Source FCU|         NEW HARTFORD|                    NY|Unanswered|Unanswered|     null|       6226308.99|     10/21/2022|\n",
            "|2256077301|  04/29/2020|         1084|             PPP|KATMAI HEALTH SER...|11001 O'MALLEY CE...|   Anchorage|           AK|      99515|    11/23/2021|Paid in Full|  24|                  100|              5036100|              5036100|                0|         null|                   225134|         Truist Bank|        214 N Tryon St|          CHARLOTTE|                  NC|        28202-1078|                  U|               N|           N|  Existing or more ...|  Anchorage|        ANCHORAGE|          AK|99515-0001|AK-|         500|   621111|Unanswered|Unknown/NotStated|             null|        5036100|                     null|        null|                  null|               null|                 null|Limited  Liabilit...|                     225134|         Truist Bank|            CHARLOTTE|                    NC|Unanswered|Unanswered|     null|       5091636.99|     06/11/2021|\n",
            "+----------+------------+-------------+----------------+--------------------+--------------------+------------+-------------+-----------+--------------+------------+----+---------------------+---------------------+---------------------+-----------------+-------------+-------------------------+--------------------+----------------------+-------------------+--------------------+------------------+-------------------+----------------+------------+----------------------+-----------+-----------------+------------+----------+---+------------+---------+----------+-----------------+-----------------+---------------+-------------------------+------------+----------------------+-------------------+---------------------+--------------------+---------------------------+--------------------+---------------------+----------------------+----------+----------+---------+-----------------+---------------+\n",
            "only showing top 5 rows\n",
            "\n"
          ]
        }
      ]
    },
    {
      "cell_type": "code",
      "source": [
        "# How many we dropped:\n",
        "PPP.count() - PPP_zip_cut.count()"
      ],
      "metadata": {
        "id": "CzKK_qFRsHb2",
        "colab": {
          "base_uri": "https://localhost:8080/"
        },
        "outputId": "99162712-76da-4a79-cdf0-6b8057830316"
      },
      "execution_count": null,
      "outputs": [
        {
          "output_type": "execute_result",
          "data": {
            "text/plain": [
              "2055949"
            ]
          },
          "metadata": {},
          "execution_count": 18
        }
      ]
    },
    {
      "cell_type": "code",
      "source": [
        "# What % of the original data was returned:\n",
        "print(f\"%{1 - (PPP_zip_cut.count()/PPP.count())}\")"
      ],
      "metadata": {
        "id": "tXlYCqGbsaRP",
        "colab": {
          "base_uri": "https://localhost:8080/"
        },
        "outputId": "042c489b-161f-4116-9b65-77279b8072ba"
      },
      "execution_count": null,
      "outputs": [
        {
          "output_type": "stream",
          "name": "stdout",
          "text": [
            "%0.7426136821296203\n"
          ]
        }
      ]
    },
    {
      "cell_type": "markdown",
      "source": [
        "This is definitely acceptable, as it only resulted in losing <1% of the data"
      ],
      "metadata": {
        "id": "YmBYT8fcs99U"
      }
    },
    {
      "cell_type": "code",
      "source": [
        "PPP_zip_cut.printSchema()"
      ],
      "metadata": {
        "id": "46uYLm50xKNf",
        "colab": {
          "base_uri": "https://localhost:8080/"
        },
        "outputId": "8caf948c-a0b7-432e-bb23-55d5c35ee894"
      },
      "execution_count": null,
      "outputs": [
        {
          "output_type": "stream",
          "name": "stdout",
          "text": [
            "root\n",
            " |-- LoanNumber: string (nullable = true)\n",
            " |-- DateApproved: string (nullable = true)\n",
            " |-- SBAOfficeCode: string (nullable = true)\n",
            " |-- ProcessingMethod: string (nullable = true)\n",
            " |-- BorrowerName: string (nullable = true)\n",
            " |-- BorrowerAddress: string (nullable = true)\n",
            " |-- BorrowerCity: string (nullable = true)\n",
            " |-- BorrowerState: string (nullable = true)\n",
            " |-- BorrowerZip: string (nullable = true)\n",
            " |-- LoanStatusDate: string (nullable = true)\n",
            " |-- LoanStatus: string (nullable = true)\n",
            " |-- Term: string (nullable = true)\n",
            " |-- SBAGuarantyPercentage: string (nullable = true)\n",
            " |-- InitialApprovalAmount: string (nullable = true)\n",
            " |-- CurrentApprovalAmount: string (nullable = true)\n",
            " |-- UndisbursedAmount: string (nullable = true)\n",
            " |-- FranchiseName: string (nullable = true)\n",
            " |-- ServicingLenderLocationID: string (nullable = true)\n",
            " |-- ServicingLenderName: string (nullable = true)\n",
            " |-- ServicingLenderAddress: string (nullable = true)\n",
            " |-- ServicingLenderCity: string (nullable = true)\n",
            " |-- ServicingLenderState: string (nullable = true)\n",
            " |-- ServicingLenderZip: string (nullable = true)\n",
            " |-- RuralUrbanIndicator: string (nullable = true)\n",
            " |-- HubzoneIndicator: string (nullable = true)\n",
            " |-- LMIIndicator: string (nullable = true)\n",
            " |-- BusinessAgeDescription: string (nullable = true)\n",
            " |-- ProjectCity: string (nullable = true)\n",
            " |-- ProjectCountyName: string (nullable = true)\n",
            " |-- ProjectState: string (nullable = true)\n",
            " |-- ProjectZip: string (nullable = true)\n",
            " |-- CD: string (nullable = true)\n",
            " |-- JobsReported: string (nullable = true)\n",
            " |-- NAICSCode: string (nullable = true)\n",
            " |-- Race: string (nullable = true)\n",
            " |-- Ethnicity: string (nullable = true)\n",
            " |-- UTILITIES_PROCEED: string (nullable = true)\n",
            " |-- PAYROLL_PROCEED: string (nullable = true)\n",
            " |-- MORTGAGE_INTEREST_PROCEED: string (nullable = true)\n",
            " |-- RENT_PROCEED: string (nullable = true)\n",
            " |-- REFINANCE_EIDL_PROCEED: string (nullable = true)\n",
            " |-- HEALTH_CARE_PROCEED: string (nullable = true)\n",
            " |-- DEBT_INTEREST_PROCEED: string (nullable = true)\n",
            " |-- BusinessType: string (nullable = true)\n",
            " |-- OriginatingLenderLocationID: string (nullable = true)\n",
            " |-- OriginatingLender: string (nullable = true)\n",
            " |-- OriginatingLenderCity: string (nullable = true)\n",
            " |-- OriginatingLenderState: string (nullable = true)\n",
            " |-- Gender: string (nullable = true)\n",
            " |-- Veteran: string (nullable = true)\n",
            " |-- NonProfit: string (nullable = true)\n",
            " |-- ForgivenessAmount: string (nullable = true)\n",
            " |-- ForgivenessDate: string (nullable = true)\n",
            "\n"
          ]
        }
      ]
    },
    {
      "cell_type": "markdown",
      "source": [
        "# 🔴 Clean up ALL census files (10 points)\n",
        "Try to use as little code as possible. You should end up with exactly 33120 rows and ~900 columns (depending on if you dropped the dirty zip code column.)"
      ],
      "metadata": {
        "id": "-dtzAgMW8rjj"
      }
    },
    {
      "cell_type": "markdown",
      "source": [
        "## (1) Read the files"
      ],
      "metadata": {
        "id": "lGJsqYfMqkTd"
      }
    },
    {
      "cell_type": "code",
      "source": [
        "#read all files by specifing location and delimeter type\n",
        "demo = spark.read.option(\"header\", \"true\") \\\n",
        "    .option(\"delimiter\", \"\\t\") \\\n",
        "    .csv(\"/content/census/demo.txt\")\n",
        "econ = spark.read.option(\"header\", \"true\") \\\n",
        "    .option(\"delimiter\", \"\\t\") \\\n",
        "    .csv(\"/content/census/econ.txt\")\n",
        "housing = spark.read.option(\"header\", \"true\") \\\n",
        "    .option(\"delimiter\", \"\\t\") \\\n",
        "    .csv(\"/content/census/housing.txt\")\n",
        "rural_urban = spark.read.option(\"header\", \"true\") \\\n",
        "    .option(\"delimiter\", \"\\t\") \\\n",
        "    .csv(\"/content/census/rural_urban.txt\")\n",
        "social = spark.read.option(\"header\", \"true\") \\\n",
        "    .option(\"delimiter\", \"\\t\") \\\n",
        "    .csv(\"/content/census/social.txt\")"
      ],
      "metadata": {
        "id": "pCIrUsTYoNaQ"
      },
      "execution_count": null,
      "outputs": []
    },
    {
      "cell_type": "code",
      "source": [
        "demo.show()"
      ],
      "metadata": {
        "id": "e9Rq8BU4toV5",
        "colab": {
          "base_uri": "https://localhost:8080/"
        },
        "outputId": "89ad455d-3f59-4cde-fd83-8a03377a4ad0"
      },
      "execution_count": null,
      "outputs": [
        {
          "output_type": "stream",
          "name": "stdout",
          "text": [
            "+-----+---------------------------------------+--------------------------------------------+--------------------------------------------+----------------------------------------------+----------------------------------------------+-----------------------------------------------------+-----------------------------------------------------+----------------------------------------------------+----------------------------------------------------+------------------------------------------------------+------------------------------------------------------+------------------------------------------------------+------------------------------------------------------+------------------------------------------------------+------------------------------------------------------+------------------------------------------------------+------------------------------------------------------+------------------------------------------------------+------------------------------------------------------+------------------------------------------------------+------------------------------------------------------+------------------------------------------------------+------------------------------------------------------+------------------------------------------------------+------------------------------------------------------+------------------------------------------------------+------------------------------------------------------+------------------------------------------------------+------------------------------------------------------+---------------------------------------------------------+---------------------------------------------------------+-------------------------------------------------+---------------------------------------------------------+---------------------------------------------------------+---------------------------------------------------------+---------------------------------------------------------+---------------------------------------------------------+---------------------------------------------------------+---------------------------------------------------------+---------------------------------------------------------+--------------------------------------------------------+--------------------------------------------------------+----------------------------------------------------------+----------------------------------------------------------+--------------------------------------------------------+--------------------------------------------------------+----------------------------------------------------------+----------------------------------------------------------+--------------------------------+-----------------------------------------+-----------------------------------------+--------------------------------------------------+--------------------------------------------------+-----------------------------------------------+-----------------------------------------------+-----------------------------------------------+-----------------------------------------------+---------------------------------------------------------------------------+---------------------------------------------------------------------------+-------------------------------------------------------------------------------------------------------------+-------------------------------------------------------------------------------------------------------------+-------------------------------------------------------------------------------------------------------------+-------------------------------------------------------------------------------------------------------------+-----------------------------------------------------------------------------------------------------------+-----------------------------------------------------------------------------------------------------------+----------------------------------------------------------------------------------------------------------+----------------------------------------------------------------------------------------------------------+-----------------------------------------------+-----------------------------------------------+---------------------------------------------------------------+---------------------------------------------------------------+----------------------------------------------------------------+----------------------------------------------------------------+-----------------------------------------------------------------+-----------------------------------------------------------------+-----------------------------------------------------------------+-----------------------------------------------------------------+---------------------------------------------------------------+---------------------------------------------------------------+-------------------------------------------------------------------+-------------------------------------------------------------------+--------------------------------------------------------------+--------------------------------------------------------------+------------------------------------------------------------------------------------+------------------------------------------------------------------------------------+-------------------------------------------------------------------------------------------------------------+-------------------------------------------------------------------------------------------------------------+-------------------------------------------------------------------------------------------------------------------+-------------------------------------------------------------------------------------------------------------------+----------------------------------------------------------------------------------------------------+----------------------------------------------------------------------------------------------------+--------------------------------------------------------------------------------------------------------------------+--------------------------------------------------------------------------------------------------------------------+-----------------------------------------------+-----------------------------------------------+---------------------------------------------------------------------------+---------------------------------------------------------------------------+-------------------------------------------------------------------------------------------------------+-------------------------------------------------------------------------------------------------------+---------------------------------------------------------------------------+---------------------------------------------------------------------------+-------------------------------------------------------------------------------------------------------+-------------------------------------------------------------------------------------------------------+---------------------------------------------------------------------------------------------------------+---------------------------------------------------------------------------------------------------------+---------------------------------------------------------------------------------------------------------+---------------------------------------------------------------------------------------------------------+-------------------------------------------------------------------------------------------------------------------------------------+-------------------------------------------------------------------------------------------------------------------------------------+---------------------------------------------------------------------------------------------------------+---------------------------------------------------------------------------------------------------------+----------------------------------------------------------------------------------------------------------------------------------------------+----------------------------------------------------------------------------------------------------------------------------------------------+---------------------------------------------------------------------------------------------------------+---------------------------------------------------------------------------------------------------------+-------------------------------------------------------+--------------------------------------------------------------------------------------+--------------------------------------------------------------------------------------+-------------------------------------------------------------------------------------------------------+-------------------------------------------------------------------------------------------------------+------------------------------------------------------------------------------------------------------------+------------------------------------------------------------------------------------------------------------+-----------------------------------------------------------------------------------------------------+-----------------------------------------------------------------------------------------------------+-----------------------------------------------------------------------------------------------------+-----------------------------------------------------------------------------------------------------+------------------------------------------------------------------------------+------------------------------------------------------------------------------+---------------------------------------------------------------------------------------------+---------------------------------------------------------------------------------------------+---------------------------------------------------------------------------------------------+---------------------------------------------------------------------------------------------+-------------------------------------------------------------------------------------------------------------------------+-------------------------------------------------------------------------------------------------------------------------+---------------------------------------------------------------------------------------------+---------------------------------------------------------------------------------------------+----------------------------------------------------------------------------------------------------------------------------------+----------------------------------------------------------------------------------------------------------------------------------+---------------------------------------------------------------------------------------------+---------------------------------------------------------------------------------------------+---------------------------------------------------------------------------------------------------------+---------------------------------------------------------------------------------------------------------+-----------------------------------------------------------------------------------------------------------------------------------+-----------------------------------------------------------------------------------------------------------------------------------+-----------------------------------------------------------------------------------------------------------------------------------------------------------+-----------------------------------------------------------------------------------------------------------------------------------------------------------+-------------------------------------------------------------+-----------------------------------------------------------------------+----------------------------------------------------------------------------+----------------------------------------------------------------------------+------------------------------------------------------------------------------+------------------------------------------------------------------------------+\n",
            "|ZCTA5|sex_and_age-population-total_population|sex_and_age-population-male_total_population|sex_and_age-percent-male-of-total_population|sex_and_age-population-female_total_population|sex_and_age-percent-female-of-total_population|sex_and_age-population-under_5_years_total_population|sex_and_age-percent-under_5_years-of-total_population|sex_and_age-population-5_to_9_years_total_population|sex_and_age-percent-5_to_9_years-of-total_population|sex_and_age-population-10_to_14_years_total_population|sex_and_age-percent-10_to_14_years-of-total_population|sex_and_age-population-15_to_19_years_total_population|sex_and_age-percent-15_to_19_years-of-total_population|sex_and_age-population-20_to_24_years_total_population|sex_and_age-percent-20_to_24_years-of-total_population|sex_and_age-population-25_to_34_years_total_population|sex_and_age-percent-25_to_34_years-of-total_population|sex_and_age-population-35_to_44_years_total_population|sex_and_age-percent-35_to_44_years-of-total_population|sex_and_age-population-45_to_54_years_total_population|sex_and_age-percent-45_to_54_years-of-total_population|sex_and_age-population-55_to_59_years_total_population|sex_and_age-percent-55_to_59_years-of-total_population|sex_and_age-population-60_to_64_years_total_population|sex_and_age-percent-60_to_64_years-of-total_population|sex_and_age-population-65_to_74_years_total_population|sex_and_age-percent-65_to_74_years-of-total_population|sex_and_age-population-75_to_84_years_total_population|sex_and_age-percent-75_to_84_years-of-total_population|sex_and_age-population-85_years_and_over_total_population|sex_and_age-percent-85_years_and_over-of-total_population|sex_and_age-age-median_age_years_total_population|sex_and_age-population-18_years_and_over_total_population|sex_and_age-percent-18_years_and_over-of-total_population|sex_and_age-population-21_years_and_over_total_population|sex_and_age-percent-21_years_and_over-of-total_population|sex_and_age-population-62_years_and_over_total_population|sex_and_age-percent-62_years_and_over-of-total_population|sex_and_age-population-65_years_and_over_total_population|sex_and_age-percent-65_years_and_over-of-total_population|sex_and_age-population-male_18_years_and_over_population|sex_and_age-percent-male-of-18_years_and_over_population|sex_and_age-population-female_18_years_and_over_population|sex_and_age-percent-female-of-18_years_and_over_population|sex_and_age-population-male_65_years_and_over_population|sex_and_age-percent-male-of-65_years_and_over_population|sex_and_age-population-female_65_years_and_over_population|sex_and_age-percent-female-of-65_years_and_over_population|race-population-total_population|race-population-one_race_total_population|race-percent-one_race-of-total_population|race-population-two_or_more_races_total_population|race-percent-two_or_more_races-of-total_population|race-population-one_race_white_total_population|race-percent-one_race_white-of-total_population|race-population-one_race_black_total_population|race-percent-one_race_black-of-total_population|race-population-one_race_american_indian_and_alaska_native_total_population|race-percent-one_race_american_indian_and_alaska_native-of-total_population|race_detailed-population-one_race_american_indian_and_alaska_native_cherokee_tribal_grouping_total_population|race_detailed-percent-one_race_american_indian_and_alaska_native_cherokee_tribal_grouping-of-total_population|race_detailed-population-one_race_american_indian_and_alaska_native_chippewa_tribal_grouping_total_population|race_detailed-percent-one_race_american_indian_and_alaska_native_chippewa_tribal_grouping-of-total_population|race_detailed-population-one_race_american_indian_and_alaska_native_navajo_tribal_grouping_total_population|race_detailed-percent-one_race_american_indian_and_alaska_native_navajo_tribal_grouping-of-total_population|race_detailed-population-one_race_american_indian_and_alaska_native_sioux_tribal_grouping_total_population|race_detailed-percent-one_race_american_indian_and_alaska_native_sioux_tribal_grouping-of-total_population|race-population-one_race_asian_total_population|race-percent-one_race_asian-of-total_population|race_detailed-population-one_race_asian_indian_total_population|race_detailed-percent-one_race_asian_indian-of-total_population|race_detailed-population-one_race_asian_chinese_total_population|race_detailed-percent-one_race_asian_chinese-of-total_population|race_detailed-population-one_race_asian_filipino_total_population|race_detailed-percent-one_race_asian_filipino-of-total_population|race_detailed-population-one_race_asian_japanese_total_population|race_detailed-percent-one_race_asian_japanese-of-total_population|race_detailed-population-one_race_asian_korean_total_population|race_detailed-percent-one_race_asian_korean-of-total_population|race_detailed-population-one_race_asian_vietnamese_total_population|race_detailed-percent-one_race_asian_vietnamese-of-total_population|race_detailed-population-one_race_asian_other_total_population|race_detailed-percent-one_race_asian_other-of-total_population|race-population-one_race_native_hawaiian_and_other_pacific_islander_total_population|race-percent-one_race_native_hawaiian_and_other_pacific_islander-of-total_population|race_detailed-population-one_race_native_hawaiian_and_other_pacific_islander_native_hawaiian_total_population|race_detailed-percent-one_race_native_hawaiian_and_other_pacific_islander_native_hawaiian-of-total_population|race_detailed-population-one_race_native_hawaiian_and_other_pacific_islander_guamanian_or_chamorro_total_population|race_detailed-percent-one_race_native_hawaiian_and_other_pacific_islander_guamanian_or_chamorro-of-total_population|race_detailed-population-one_race_native_hawaiian_and_other_pacific_islander_samoan_total_population|race_detailed-percent-one_race_native_hawaiian_and_other_pacific_islander_samoan-of-total_population|race_detailed-population-one_race_native_hawaiian_and_other_pacific_islander_other_pacific_islander_total_population|race_detailed-percent-one_race_native_hawaiian_and_other_pacific_islander_other_pacific_islander-of-total_population|race-population-one_race_other_total_population|race-percent-one_race_other-of-total_population|race_detailed-population-two_or_more_races-white_and_black_total_population|race_detailed-percent-two_or_more_races-white_and_black-of-total_population|race_detailed-population-two_or_more_races-white_and_american_indian_and_alaska_native_total_population|race_detailed-percent-two_or_more_races-white_and_american_indian_and_alaska_native-of-total_population|race_detailed-population-two_or_more_races-white_and_asian_total_population|race_detailed-percent-two_or_more_races-white_and_asian-of-total_population|race_detailed-population-two_or_more_races-black_and_american_indian_and_alaska_native_total_population|race_detailed-percent-two_or_more_races-black_and_american_indian_and_alaska_native-of-total_population|race_detailed-population-race_alone_or_in_combination_with_one_or_more_other_races_white_total_population|race_detailed-percent-race_alone_or_in_combination_with_one_or_more_other_races_white-of-total_population|race_detailed-population-race_alone_or_in_combination_with_one_or_more_other_races_black_total_population|race_detailed-percent-race_alone_or_in_combination_with_one_or_more_other_races_black-of-total_population|race_detailed-population-race_alone_or_in_combination_with_one_or_more_other_races_american_indian_and_alaska_native_total_population|race_detailed-percent-race_alone_or_in_combination_with_one_or_more_other_races_american_indian_and_alaska_native-of-total_population|race_detailed-population-race_alone_or_in_combination_with_one_or_more_other_races_asian_total_population|race_detailed-percent-race_alone_or_in_combination_with_one_or_more_other_races_asian-of-total_population|race_detailed-population-race_alone_or_in_combination_with_one_or_more_other_races_native_hawaiian_and_other_pacific_islander_total_population|race_detailed-percent-race_alone_or_in_combination_with_one_or_more_other_races_native_hawaiian_and_other_pacific_islander-of-total_population|race_detailed-population-race_alone_or_in_combination_with_one_or_more_other_races_other_total_population|race_detailed-percent-race_alone_or_in_combination_with_one_or_more_other_races_other-of-total_population|hispanic_or_latino_and_race-population-total_population|hispanic_or_latino_and_race-population-hispanic_or_latino_of_any_race_total_population|hispanic_or_latino_and_race-percent-hispanic_or_latino_of_any_race-of-total_population|hispanic_or_latino_and_race_detailed-population-hispanic_or_latino_of_any_race_mexican_total_population|hispanic_or_latino_and_race_detailed-percent-hispanic_or_latino_of_any_race_mexican-of-total_population|hispanic_or_latino_and_race_detailed-population-hispanic_or_latino_of_any_race_puerto_rican_total_population|hispanic_or_latino_and_race_detailed-percent-hispanic_or_latino_of_any_race_puerto_rican-of-total_population|hispanic_or_latino_and_race_detailed-population-hispanic_or_latino_of_any_race_cuban_total_population|hispanic_or_latino_and_race_detailed-percent-hispanic_or_latino_of_any_race_cuban-of-total_population|hispanic_or_latino_and_race_detailed-population-hispanic_or_latino_of_any_race_other_total_population|hispanic_or_latino_and_race_detailed-percent-hispanic_or_latino_of_any_race_other-of-total_population|hispanic_or_latino_and_race-population-not_hispanic_or_latino_total_population|hispanic_or_latino_and_race-percent-not_hispanic_or_latino-of-total_population|hispanic_or_latino_and_race_detailed-population-not_hispanic_or_latino_white_total_population|hispanic_or_latino_and_race_detailed-percent-not_hispanic_or_latino_white-of-total_population|hispanic_or_latino_and_race_detailed-population-not_hispanic_or_latino_black_total_population|hispanic_or_latino_and_race_detailed-percent-not_hispanic_or_latino_black-of-total_population|hispanic_or_latino_and_race_detailed-population-not_hispanic_or_latino_american_indian_and_alaska_native_total_population|hispanic_or_latino_and_race_detailed-percent-not_hispanic_or_latino_american_indian_and_alaska_native-of-total_population|hispanic_or_latino_and_race_detailed-population-not_hispanic_or_latino_asian_total_population|hispanic_or_latino_and_race_detailed-percent-not_hispanic_or_latino_asian-of-total_population|hispanic_or_latino_and_race_detailed-population-not_hispanic_or_latino_native_hawaiian_and_other_pacific_islander_total_population|hispanic_or_latino_and_race_detailed-percent-not_hispanic_or_latino_native_hawaiian_and_other_pacific_islander-of-total_population|hispanic_or_latino_and_race_detailed-population-not_hispanic_or_latino_other_total_population|hispanic_or_latino_and_race_detailed-percent-not_hispanic_or_latino_other-of-total_population|hispanic_or_latino_and_race_detailed-population-not_hispanic_or_latino_two_or_more_races_total_population|hispanic_or_latino_and_race_detailed-percent-not_hispanic_or_latino_two_or_more_races-of-total_population|hispanic_or_latino_and_race_detailed-population-not_hispanic_or_latino_two_or_more_races_including_some_other_race_total_population|hispanic_or_latino_and_race_detailed-percent-not_hispanic_or_latino_two_or_more_races_including_some_other_race-of-total_population|hispanic_or_latino_and_race_detailed-population-not_hispanic_or_latino_two_or_more_races_excluding_some_other_race_and_three_or_more_races_total_population|hispanic_or_latino_and_race_detailed-percent-not_hispanic_or_latino_two_or_more_races_excluding_some_other_race_and_three_or_more_races-of-total_population|hispanic_or_latino_and_race-housing_units-total_housing_units|citizen_voting_age_population-population-citizen_18_and_over_population|citizen_voting_age_population-population-male_citizen_18_and_over_population|citizen_voting_age_population-percent-male-of-citizen_18_and_over_population|citizen_voting_age_population-population-female_citizen_18_and_over_population|citizen_voting_age_population-percent-female-of-citizen_18_and_over_population|\n",
            "+-----+---------------------------------------+--------------------------------------------+--------------------------------------------+----------------------------------------------+----------------------------------------------+-----------------------------------------------------+-----------------------------------------------------+----------------------------------------------------+----------------------------------------------------+------------------------------------------------------+------------------------------------------------------+------------------------------------------------------+------------------------------------------------------+------------------------------------------------------+------------------------------------------------------+------------------------------------------------------+------------------------------------------------------+------------------------------------------------------+------------------------------------------------------+------------------------------------------------------+------------------------------------------------------+------------------------------------------------------+------------------------------------------------------+------------------------------------------------------+------------------------------------------------------+------------------------------------------------------+------------------------------------------------------+------------------------------------------------------+------------------------------------------------------+---------------------------------------------------------+---------------------------------------------------------+-------------------------------------------------+---------------------------------------------------------+---------------------------------------------------------+---------------------------------------------------------+---------------------------------------------------------+---------------------------------------------------------+---------------------------------------------------------+---------------------------------------------------------+---------------------------------------------------------+--------------------------------------------------------+--------------------------------------------------------+----------------------------------------------------------+----------------------------------------------------------+--------------------------------------------------------+--------------------------------------------------------+----------------------------------------------------------+----------------------------------------------------------+--------------------------------+-----------------------------------------+-----------------------------------------+--------------------------------------------------+--------------------------------------------------+-----------------------------------------------+-----------------------------------------------+-----------------------------------------------+-----------------------------------------------+---------------------------------------------------------------------------+---------------------------------------------------------------------------+-------------------------------------------------------------------------------------------------------------+-------------------------------------------------------------------------------------------------------------+-------------------------------------------------------------------------------------------------------------+-------------------------------------------------------------------------------------------------------------+-----------------------------------------------------------------------------------------------------------+-----------------------------------------------------------------------------------------------------------+----------------------------------------------------------------------------------------------------------+----------------------------------------------------------------------------------------------------------+-----------------------------------------------+-----------------------------------------------+---------------------------------------------------------------+---------------------------------------------------------------+----------------------------------------------------------------+----------------------------------------------------------------+-----------------------------------------------------------------+-----------------------------------------------------------------+-----------------------------------------------------------------+-----------------------------------------------------------------+---------------------------------------------------------------+---------------------------------------------------------------+-------------------------------------------------------------------+-------------------------------------------------------------------+--------------------------------------------------------------+--------------------------------------------------------------+------------------------------------------------------------------------------------+------------------------------------------------------------------------------------+-------------------------------------------------------------------------------------------------------------+-------------------------------------------------------------------------------------------------------------+-------------------------------------------------------------------------------------------------------------------+-------------------------------------------------------------------------------------------------------------------+----------------------------------------------------------------------------------------------------+----------------------------------------------------------------------------------------------------+--------------------------------------------------------------------------------------------------------------------+--------------------------------------------------------------------------------------------------------------------+-----------------------------------------------+-----------------------------------------------+---------------------------------------------------------------------------+---------------------------------------------------------------------------+-------------------------------------------------------------------------------------------------------+-------------------------------------------------------------------------------------------------------+---------------------------------------------------------------------------+---------------------------------------------------------------------------+-------------------------------------------------------------------------------------------------------+-------------------------------------------------------------------------------------------------------+---------------------------------------------------------------------------------------------------------+---------------------------------------------------------------------------------------------------------+---------------------------------------------------------------------------------------------------------+---------------------------------------------------------------------------------------------------------+-------------------------------------------------------------------------------------------------------------------------------------+-------------------------------------------------------------------------------------------------------------------------------------+---------------------------------------------------------------------------------------------------------+---------------------------------------------------------------------------------------------------------+----------------------------------------------------------------------------------------------------------------------------------------------+----------------------------------------------------------------------------------------------------------------------------------------------+---------------------------------------------------------------------------------------------------------+---------------------------------------------------------------------------------------------------------+-------------------------------------------------------+--------------------------------------------------------------------------------------+--------------------------------------------------------------------------------------+-------------------------------------------------------------------------------------------------------+-------------------------------------------------------------------------------------------------------+------------------------------------------------------------------------------------------------------------+------------------------------------------------------------------------------------------------------------+-----------------------------------------------------------------------------------------------------+-----------------------------------------------------------------------------------------------------+-----------------------------------------------------------------------------------------------------+-----------------------------------------------------------------------------------------------------+------------------------------------------------------------------------------+------------------------------------------------------------------------------+---------------------------------------------------------------------------------------------+---------------------------------------------------------------------------------------------+---------------------------------------------------------------------------------------------+---------------------------------------------------------------------------------------------+-------------------------------------------------------------------------------------------------------------------------+-------------------------------------------------------------------------------------------------------------------------+---------------------------------------------------------------------------------------------+---------------------------------------------------------------------------------------------+----------------------------------------------------------------------------------------------------------------------------------+----------------------------------------------------------------------------------------------------------------------------------+---------------------------------------------------------------------------------------------+---------------------------------------------------------------------------------------------+---------------------------------------------------------------------------------------------------------+---------------------------------------------------------------------------------------------------------+-----------------------------------------------------------------------------------------------------------------------------------+-----------------------------------------------------------------------------------------------------------------------------------+-----------------------------------------------------------------------------------------------------------------------------------------------------------+-----------------------------------------------------------------------------------------------------------------------------------------------------------+-------------------------------------------------------------+-----------------------------------------------------------------------+----------------------------------------------------------------------------+----------------------------------------------------------------------------+------------------------------------------------------------------------------+------------------------------------------------------------------------------+\n",
            "|00601|                                  17800|                                        8704|                                       0.489|                                          9096|                                         0.511|                                                  937|                                                0.053|                                                1082|                                               0.061|                                                  1309|                                   0.07400000000000001|                                                  1307|                                                 0.073|                                                  1278|                                   0.07200000000000001|                                                  2225|                                                 0.125|                                                  2081|                                   0.11699999999999999|                                                  2420|                                                 0.136|                                                  1264|                                                 0.071|                                                  1083|                                                 0.061|                                                  1685|                                                 0.095|                                                   860|                                                 0.048|                                                      269|                                                    0.015|                                             38.6|                                                    13670|                                                    0.768|                                                    12941|                                                    0.727|                                                     3428|                                                    0.193|                                                     2814|                                                    0.158|                                                    6597|                                                   0.483|                                                      7073|                                                     0.517|                                                    1298|                                                   0.461|                                                      1516|                                                     0.539|                           17800|                                    17611|                       0.9890000000000001|                                               189|                              0.011000000000000001|                                          14436|                             0.8109999999999999|                                            108|                                          0.006|                                                                         21|                                                                      0.001|                                                                                                            0|                                                                                                          0.0|                                                                                                            0|                                                                                                          0.0|                                                                                                          0|                                                                                                        0.0|                                                                                                         0|                                                                                                       0.0|                                              0|                                            0.0|                                                              0|                                                            0.0|                                                               0|                                                             0.0|                                                                0|                                                              0.0|                                                                0|                                                              0.0|                                                              0|                                                            0.0|                                                                  0|                                                                0.0|                                                             0|                                                           0.0|                                                                                   0|                                                                                 0.0|                                                                                                            0|                                                                                                          0.0|                                                                                                                  0|                                                                                                                0.0|                                                                                                   0|                                                                                                 0.0|                                                                                                                   0|                                                                                                                 0.0|                                           3046|                                          0.171|                                                                        128|                                                       0.006999999999999999|                                                                                                      0|                                                                                                    0.0|                                                                          0|                                                                        0.0|                                                                                                     22|                                                                                                  0.001|                                                                                                    14596|                                                                                                     0.82|                                                                                                      258|                                                                                     0.013999999999999999|                                                                                                                                   63|                                                                                                                                0.004|                                                                                                        0|                                                                                                      0.0|                                                                                                                                             0|                                                                                                                                           0.0|                                                                                                     3085|                                                                                      0.17300000000000001|                                                  17800|                                                                                 17764|                                                                                 0.998|                                                                                                      0|                                                                                                    0.0|                                                                                                       17666|                                                                                                       0.992|                                                                                                    0|                                                                                                  0.0|                                                                                                   98|                                                                                                0.006|                                                                            36|                                                                         0.002|                                                                                           28|                                                                                        0.002|                                                                                            0|                                                                                          0.0|                                                                                                                        8|                                                                                                                      0.0|                                                                                            0|                                                                                          0.0|                                                                                                                                 0|                                                                                                                               0.0|                                                                                            0|                                                                                          0.0|                                                                                                        0|                                                                                                      0.0|                                                                                                                                  0|                                                                                                                                0.0|                                                                                                                                                          0|                                                                                                                                                        0.0|                                                         7290|                                                                  13646|                                                                        6573|                                                         0.48200000000000004|                                                                          7073|                                                                         0.518|\n",
            "|00602|                                  39716|                                       19509|                                       0.491|                                         20207|                                         0.509|                                                 1906|                                                0.048|                                                2464|                                               0.062|                                                  2186|                                                 0.055|                                                  2830|                                                 0.071|                                                  2784|                                                  0.07|                                                  5016|                                                 0.126|                                                  5044|                                                 0.127|                                                  5801|                                                 0.146|                                                  2736|                                                 0.069|                                                  2830|                                                 0.071|                                                  3821|                                                 0.096|                                                  1631|                                  0.040999999999999995|                                                      667|                                                    0.017|                                             40.0|                                                    31483|                                       0.7929999999999999|                                                    29821|                                       0.7509999999999999|                                                     7743|                                                    0.195|                                                     6119|                                                    0.154|                                                   15293|                                                   0.486|                                                     16190|                                                     0.514|                                                    2859|                                                   0.467|                                                      3260|                                        0.5329999999999999|                           39716|                                    25527|                                    0.643|                                             14189|                               0.35700000000000004|                                          22941|                                          0.578|                                            968|                                          0.024|                                                                          0|                                                                        0.0|                                                                                                            0|                                                                                                          0.0|                                                                                                            0|                                                                                                          0.0|                                                                                                          0|                                                                                                        0.0|                                                                                                         0|                                                                                                       0.0|                                             74|                                          0.002|                                                             17|                                                            0.0|                                                              57|                                                           0.001|                                                                0|                                                              0.0|                                                                0|                                                              0.0|                                                              0|                                                            0.0|                                                                  0|                                                                0.0|                                                             0|                                                           0.0|                                                                                   0|                                                                                 0.0|                                                                                                            0|                                                                                                          0.0|                                                                                                                  0|                                                                                                                0.0|                                                                                                   0|                                                                                                 0.0|                                                                                                                   0|                                                                                                                 0.0|                                           1544|                                          0.039|                                                                      11125|                                                                       0.28|                                                                                                    900|                                                                                                  0.023|                                                                          0|                                                                        0.0|                                                                                                     70|                                                                                                  0.002|                                                                                                    37006|                                                                                                    0.932|                                                                                                    14109|                                                                                                    0.355|                                                                                                                                 2900|                                                                                                                                0.073|                                                                                                      112|                                                                                                    0.003|                                                                                                                                             0|                                                                                                                                           0.0|                                                                                                     1708|                                                                                                    0.043|                                                  39716|                                                                                 37117|                                                                                 0.935|                                                                                                     84|                                                                                                  0.002|                                                                                                       36656|                                                                                          0.9229999999999999|                                                                                                  113|                                                                                                0.003|                                                                                                  264|                                                                                 0.006999999999999999|                                                                          2599|                                                                         0.065|                                                                                         1527|                                                                                        0.038|                                                                                           22|                                                                                        0.001|                                                                                                                        0|                                                                                                                      0.0|                                                                                           59|                                                                                        0.001|                                                                                                                                 0|                                                                                                                               0.0|                                                                                           31|                                                                                        0.001|                                                                                                      960|                                                                                                    0.024|                                                                                                                                 32|                                                                                                                              0.001|                                                                                                                                                        928|                                                                                                                                                      0.023|                                                        17312|                                                                  31048|                                                                       15156|                                                                       0.488|                                                                         15892|                                                                         0.512|\n",
            "|00603|                                  51565|                                       25208|                                       0.489|                                         26357|                                         0.511|                                                 2547|                                                0.049|                                                3132|                                               0.061|                                                  3190|                                                 0.062|                                                  3628|                                                  0.07|                                                  3479|                                                 0.067|                                                  6360|                                   0.12300000000000001|                                                  6635|                                                 0.129|                                                  6650|                                                 0.129|                                                  3101|                                                  0.06|                                                  3485|                                                 0.068|                                                  5681|                                                  0.11|                                                  2912|                                  0.055999999999999994|                                                      765|                                                    0.015|                                             40.0|                                                    40573|                                                    0.787|                                                    38381|                                       0.7440000000000001|                                                    11540|                                      0.22399999999999998|                                                     9358|                                      0.18100000000000002|                                                   19398|                                                   0.478|                                                     21175|                                                     0.522|                                                    4276|                                                   0.457|                                                      5082|                                        0.5429999999999999|                           51565|                                    44690|                                    0.867|                                              6875|                                             0.133|                                          35176|                                          0.682|                                           2149|                                          0.042|                                                                        106|                                                                      0.002|                                                                                                            0|                                                                                                          0.0|                                                                                                            0|                                                                                                          0.0|                                                                                                          0|                                                                                                        0.0|                                                                                                         0|                                                                                                       0.0|                                            638|                                          0.012|                                                            387|                                                          0.008|                                                             101|                                                           0.002|                                                               47|                                                            0.001|                                                              103|                                                            0.002|                                                              0|                                                            0.0|                                                                  0|                                                                0.0|                                                             0|                                                           0.0|                                                                                  11|                                                                                 0.0|                                                                                                           11|                                                                                                          0.0|                                                                                                                  0|                                                                                                                0.0|                                                                                                   0|                                                                                                 0.0|                                                                                                                   0|                                                                                                                 0.0|                                           6610|                                          0.128|                                                                       6166|                                                                       0.12|                                                                                                     36|                                                                                                  0.001|                                                                         38|                                                                      0.001|                                                                                                     10|                                                                                                    0.0|                                                                                                    41932|                                                                                                    0.813|                                                                                                     8564|                                                                                                    0.166|                                                                                                                                  463|                                                                                                                 0.009000000000000001|                                                                                                      767|                                                                                                    0.015|                                                                                                                                            11|                                                                                                                                           0.0|                                                                                                     6944|                                                                                                    0.135|                                                  51565|                                                                                 49928|                                                                                 0.968|                                                                                                    129|                                                                                                  0.003|                                                                                                       49073|                                                                                          0.9520000000000001|                                                                                                    0|                                                                                                  0.0|                                                                                                  726|                                                                                 0.013999999999999999|                                                                          1637|                                                                         0.032|                                                                                          645|                                                                         0.013000000000000001|                                                                                          186|                                                                                        0.004|                                                                                                                        0|                                                                                                                      0.0|                                                                                          191|                                                                                        0.004|                                                                                                                                11|                                                                                                                               0.0|                                                                                          121|                                                                                        0.002|                                                                                                      483|                                                                                     0.009000000000000001|                                                                                                                                  0|                                                                                                                                0.0|                                                                                                                                                        483|                                                                                                                                       0.009000000000000001|                                                        24594|                                                                  40167|                                                                       19185|                                                                       0.478|                                                                         20982|                                                                         0.522|\n",
            "|00606|                                   6320|                                        3137|                                       0.496|                                          3183|                                         0.504|                                                  329|                                 0.052000000000000005|                                                 287|                                               0.045|                                                   400|                                                 0.063|                                                   465|                                   0.07400000000000001|                                                   458|                                   0.07200000000000001|                                                   658|                                   0.10400000000000001|                                                   808|                                                 0.128|                                                   940|                                                 0.149|                                                   316|                                                  0.05|                                                   587|                                   0.09300000000000001|                                                   649|                                   0.10300000000000001|                                                   267|                                                 0.042|                                                      156|                                                    0.025|                                             42.4|                                                     5038|                                                    0.797|                                                     4754|                                                    0.752|                                                     1432|                                      0.22699999999999998|                                                     1072|                                                     0.17|                                                    2446|                                                   0.486|                                                      2592|                                                     0.514|                                                     520|                                                   0.485|                                                       552|                                                     0.515|                            6320|                                     6160|                                    0.975|                                               160|                                             0.025|                                           3739|                             0.5920000000000001|                                            175|                           0.027999999999999997|                                                                          0|                                                                        0.0|                                                                                                            0|                                                                                                          0.0|                                                                                                            0|                                                                                                          0.0|                                                                                                          0|                                                                                                        0.0|                                                                                                         0|                                                                                                       0.0|                                              0|                                            0.0|                                                              0|                                                            0.0|                                                               0|                                                             0.0|                                                                0|                                                              0.0|                                                                0|                                                              0.0|                                                              0|                                                            0.0|                                                                  0|                                                                0.0|                                                             0|                                                           0.0|                                                                                   0|                                                                                 0.0|                                                                                                            0|                                                                                                          0.0|                                                                                                                  0|                                                                                                                0.0|                                                                                                   0|                                                                                                 0.0|                                                                                                                   0|                                                                                                                 0.0|                                           2246|                                          0.355|                                                                         83|                                                       0.013000000000000001|                                                                                                      0|                                                                                                    0.0|                                                                          0|                                                                        0.0|                                                                                                      0|                                                                                                    0.0|                                                                                                     3899|                                                                                                    0.617|                                                                                                      258|                                                                                     0.040999999999999995|                                                                                                                                    0|                                                                                                                                  0.0|                                                                                                        0|                                                                                                      0.0|                                                                                                                                             0|                                                                                                                                           0.0|                                                                                                     2323|                                                                                                    0.368|                                                   6320|                                                                                  6309|                                                                                 0.998|                                                                                                      0|                                                                                                    0.0|                                                                                                        6277|                                                                                                       0.993|                                                                                                    1|                                                                                                  0.0|                                                                                                   31|                                                                                                0.005|                                                                            11|                                                                         0.002|                                                                                           11|                                                                                        0.002|                                                                                            0|                                                                                          0.0|                                                                                                                        0|                                                                                                                      0.0|                                                                                            0|                                                                                          0.0|                                                                                                                                 0|                                                                                                                               0.0|                                                                                            0|                                                                                          0.0|                                                                                                        0|                                                                                                      0.0|                                                                                                                                  0|                                                                                                                                0.0|                                                                                                                                                          0|                                                                                                                                                        0.0|                                                         2763|                                                                   5007|                                                                        2425|                                                                       0.484|                                                                          2582|                                                                         0.516|\n",
            "|00610|                                  27976|                                       13528|                                       0.484|                                         14448|                                         0.516|                                                 1345|                                                0.048|                                                1366|                                               0.049|                                                  2021|                                   0.07200000000000001|                                                  2029|                                                 0.073|                                                  1978|                                                 0.071|                                                  3269|                                   0.11699999999999999|                                                  3678|                                                 0.131|                                                  3849|                                                 0.138|                                                  1730|                                                 0.062|                                                  1753|                                                 0.063|                                                  2971|                                                 0.106|                                                  1485|                                                 0.053|                                                      502|                                     0.018000000000000002|                                             40.6|                                                    22034|                                       0.7879999999999999|                                                    20751|                                                    0.742|                                                     5986|                                                    0.214|                                                     4958|                                                    0.177|                                                   10458|                                                   0.475|                                                     11576|                                                     0.525|                                                    2229|                                                    0.45|                                                      2729|                                                      0.55|                           27976|                                    24182|                       0.8640000000000001|                                              3794|                                             0.136|                                          16259|                                          0.581|                                           1018|                           0.036000000000000004|                                                                          0|                                                                        0.0|                                                                                                            0|                                                                                                          0.0|                                                                                                            0|                                                                                                          0.0|                                                                                                          0|                                                                                                        0.0|                                                                                                         0|                                                                                                       0.0|                                             33|                                          0.001|                                                              0|                                                            0.0|                                                               0|                                                             0.0|                                                                0|                                                              0.0|                                                                0|                                                              0.0|                                                              0|                                                            0.0|                                                                  0|                                                                0.0|                                                            33|                                                         0.001|                                                                                   1|                                                                                 0.0|                                                                                                            1|                                                                                                          0.0|                                                                                                                  0|                                                                                                                0.0|                                                                                                   0|                                                                                                 0.0|                                                                                                                   0|                                                                                                                 0.0|                                           6871|                            0.24600000000000002|                                                                       2567|                                                                      0.092|                                                                                                    212|                                                                                                  0.008|                                                                          0|                                                                        0.0|                                                                                                     56|                                                                                                  0.002|                                                                                                    19920|                                                                                       0.7120000000000001|                                                                                                     4534|                                                                                                    0.162|                                                                                                                                 1133|                                                                                                                                 0.04|                                                                                                       41|                                                                                                    0.001|                                                                                                                                            32|                                                                                                                                         0.001|                                                                                                     6974|                                                                                                    0.249|                                                  27976|                                                                                 27394|                                                                    0.9790000000000001|                                                                                                     50|                                                                                                  0.002|                                                                                                       27134|                                                                                                        0.97|                                                                                                  103|                                                                                                0.004|                                                                                                  107|                                                                                                0.004|                                                                           582|                                                                         0.021|                                                                                          411|                                                                                        0.015|                                                                                           15|                                                                                        0.001|                                                                                                                        0|                                                                                                                      0.0|                                                                                            0|                                                                                          0.0|                                                                                                                                 1|                                                                                                                               0.0|                                                                                           31|                                                                                        0.001|                                                                                                      124|                                                                                                    0.004|                                                                                                                                  0|                                                                                                                                0.0|                                                                                                                                                        124|                                                                                                                                                      0.004|                                                        12265|                                                                  21981|                                                                       10410|                                                                       0.474|                                                                         11571|                                                                         0.526|\n",
            "|00612|                                  63884|                                       30387|                         0.47600000000000003|                                         33497|                                         0.524|                                                 3442|                                 0.054000000000000006|                                                3362|                                               0.053|                                                  4370|                                                 0.068|                                                  4471|                                                  0.07|                                                  4773|                                                 0.075|                                                  7369|                                                 0.115|                                                  7913|                                                 0.124|                                                  8618|                                                 0.135|                                                  3519|                                                 0.055|                                                  3919|                                                 0.061|                                                  6773|                                                 0.106|                                                  3810|                                                  0.06|                                                     1545|                                                    0.024|                                             40.7|                                                    50003|                                       0.7829999999999999|                                                    46966|                                                    0.735|                                                    14494|                                      0.22699999999999998|                                                    12128|                                                     0.19|                                                   22909|                                     0.45799999999999996|                                                     27094|                                                     0.542|                                                    5001|                                     0.41200000000000003|                                                      7127|                                                     0.588|                           63884|                                    62387|                                    0.977|                                              1497|                                             0.023|                                          52902|                                          0.828|                                           3346|                           0.052000000000000005|                                                                        252|                                                                      0.004|                                                                                                            0|                                                                                                          0.0|                                                                                                            0|                                                                                                          0.0|                                                                                                          0|                                                                                                        0.0|                                                                                                         0|                                                                                                       0.0|                                            678|                           0.011000000000000001|                                                            669|                                                           0.01|                                                               0|                                                             0.0|                                                                0|                                                              0.0|                                                                9|                                                              0.0|                                                              0|                                                            0.0|                                                                  0|                                                                0.0|                                                             0|                                                           0.0|                                                                                   0|                                                                                 0.0|                                                                                                            0|                                                                                                          0.0|                                                                                                                  0|                                                                                                                0.0|                                                                                                   0|                                                                                                 0.0|                                                                                                                   0|                                                                                                                 0.0|                                           5209|                            0.08199999999999999|                                                                        843|                                                       0.013000000000000001|                                                                                                      0|                                                                                                    0.0|                                                                          0|                                                                        0.0|                                                                                                      0|                                                                                                    0.0|                                                                                                    54301|                                                                                                     0.85|                                                                                                     4341|                                                                                                    0.068|                                                                                                                                  306|                                                                                                                                0.005|                                                                                                      747|                                                                                                    0.012|                                                                                                                                             8|                                                                                                                                           0.0|                                                                                                     5740|                                                                                                     0.09|                                                  63884|                                                                                 63657|                                                                                 0.996|                                                                                                    331|                                                                                                  0.005|                                                                                                       62534|                                                                                          0.9790000000000001|                                                                                                  386|                                                                                                0.006|                                                                                                  406|                                                                                                0.006|                                                                           227|                                                                         0.004|                                                                                          165|                                                                                        0.003|                                                                                           10|                                                                                          0.0|                                                                                                                       11|                                                                                                                      0.0|                                                                                            0|                                                                                          0.0|                                                                                                                                 0|                                                                                                                               0.0|                                                                                           16|                                                                                          0.0|                                                                                                       25|                                                                                                      0.0|                                                                                                                                  0|                                                                                                                                0.0|                                                                                                                                                         25|                                                                                                                                                        0.0|                                                        29821|                                                                  49712|                                                                       22766|                                                         0.45799999999999996|                                                                         26946|                                                                         0.542|\n",
            "|00616|                                  10321|                                        4819|                                       0.467|                                          5502|                            0.5329999999999999|                                                  490|                                                0.047|                                                 412|                                                0.04|                                                   467|                                                 0.045|                                                   679|                                                 0.066|                                                   562|                                  0.054000000000000006|                                                  1327|                                                 0.129|                                                  1420|                                                 0.138|                                                  1476|                                   0.14300000000000002|                                                   670|                                                 0.065|                                                   566|                                                 0.055|                                                  1330|                                                 0.129|                                                   628|                                                 0.061|                                                      294|                                     0.027999999999999997|                                             43.9|                                                     8617|                                                    0.835|                                                     8099|                                                    0.785|                                                     2553|                                                    0.247|                                                     2252|                                                    0.218|                                                    4040|                                                   0.469|                                                      4577|                                                     0.531|                                                     997|                                     0.44299999999999995|                                                      1255|                                                     0.557|                           10321|                                     9978|                       0.9670000000000001|                                               343|                                             0.033|                                           9222|                                          0.894|                                            424|                           0.040999999999999995|                                                                         32|                                                                      0.003|                                                                                                            0|                                                                                                          0.0|                                                                                                            0|                                                                                                          0.0|                                                                                                          0|                                                                                                        0.0|                                                                                                         0|                                                                                                       0.0|                                              0|                                            0.0|                                                              0|                                                            0.0|                                                               0|                                                             0.0|                                                                0|                                                              0.0|                                                                0|                                                              0.0|                                                              0|                                                            0.0|                                                                  0|                                                                0.0|                                                             0|                                                           0.0|                                                                                   0|                                                                                 0.0|                                                                                                            0|                                                                                                          0.0|                                                                                                                  0|                                                                                                                0.0|                                                                                                   0|                                                                                                 0.0|                                                                                                                   0|                                                                                                                 0.0|                                            300|                           0.028999999999999998|                                                                        259|                                                                      0.025|                                                                                                      0|                                                                                                    0.0|                                                                          0|                                                                        0.0|                                                                                                     59|                                                                                                  0.006|                                                                                                     9506|                                                                                       0.9209999999999999|                                                                                                      742|                                                                                      0.07200000000000001|                                                                                                                                   91|                                                                                                                 0.009000000000000001|                                                                                                        0|                                                                                                      0.0|                                                                                                                                             0|                                                                                                                                           0.0|                                                                                                      325|                                                                                                    0.031|                                                  10321|                                                                                 10274|                                                                                 0.995|                                                                                                     95|                                                                                   0.009000000000000001|                                                                                                       10091|                                                                                                       0.978|                                                                                                   36|                                                                                                0.003|                                                                                                   52|                                                                                                0.005|                                                                            47|                                                                         0.005|                                                                                           47|                                                                                        0.005|                                                                                            0|                                                                                          0.0|                                                                                                                        0|                                                                                                                      0.0|                                                                                            0|                                                                                          0.0|                                                                                                                                 0|                                                                                                                               0.0|                                                                                            0|                                                                                          0.0|                                                                                                        0|                                                                                                      0.0|                                                                                                                                  0|                                                                                                                                0.0|                                                                                                                                                          0|                                                                                                                                                        0.0|                                                         4586|                                                                   8571|                                                                        4029|                                                                        0.47|                                                                          4542|                                                                          0.53|\n",
            "|00617|                                  24648|                                       11744|                         0.47600000000000003|                                         12904|                                         0.524|                                                 1379|                                 0.055999999999999994|                                                1451|                                0.059000000000000004|                                                  1773|                                   0.07200000000000001|                                                  1714|                                                  0.07|                                                  1726|                                                  0.07|                                                  3219|                                                 0.131|                                                  3504|                                                 0.142|                                                  2989|                                                 0.121|                                                  1233|                                                  0.05|                                                  1521|                                                 0.062|                                                  2440|                                                 0.099|                                                  1260|                                                 0.051|                                                      439|                                     0.018000000000000002|                                             38.1|                                                    18986|                                                     0.77|                                                    17893|                                                    0.726|                                                     5094|                                                    0.207|                                                     4139|                                                    0.168|                                                    8812|                                     0.46399999999999997|                                                     10174|                                                     0.536|                                                    1884|                                                   0.455|                                                      2255|                                                     0.545|                           24648|                                    24295|                                    0.986|                                               353|                              0.013999999999999999|                                          22641|                                          0.919|                                            560|                                          0.023|                                                                          0|                                                                        0.0|                                                                                                            0|                                                                                                          0.0|                                                                                                            0|                                                                                                          0.0|                                                                                                          0|                                                                                                        0.0|                                                                                                         0|                                                                                                       0.0|                                             96|                                          0.004|                                                             70|                                                          0.003|                                                              26|                                                           0.001|                                                                0|                                                              0.0|                                                                0|                                                              0.0|                                                              0|                                                            0.0|                                                                  0|                                                                0.0|                                                             0|                                                           0.0|                                                                                   0|                                                                                 0.0|                                                                                                            0|                                                                                                          0.0|                                                                                                                  0|                                                                                                                0.0|                                                                                                   0|                                                                                                 0.0|                                                                                                                   0|                                                                                                                 0.0|                                            998|                                           0.04|                                                                        237|                                                                       0.01|                                                                                                      0|                                                                                                    0.0|                                                                          0|                                                                        0.0|                                                                                                      0|                                                                                                    0.0|                                                                                                    22994|                                                                                       0.9329999999999999|                                                                                                      886|                                                                                     0.036000000000000004|                                                                                                                                   89|                                                                                                                                0.004|                                                                                                       96|                                                                                                    0.004|                                                                                                                                             0|                                                                                                                                           0.0|                                                                                                     1025|                                                                                                    0.042|                                                  24648|                                                                                 24491|                                                                    0.9940000000000001|                                                                                                     54|                                                                                                  0.002|                                                                                                       24285|                                                                                                       0.985|                                                                                                   54|                                                                                                0.002|                                                                                                   98|                                                                                                0.004|                                                                           157|                                                                         0.006|                                                                                           98|                                                                                        0.004|                                                                                           30|                                                                                        0.001|                                                                                                                        0|                                                                                                                      0.0|                                                                                           11|                                                                                          0.0|                                                                                                                                 0|                                                                                                                               0.0|                                                                                            0|                                                                                          0.0|                                                                                                       18|                                                                                                    0.001|                                                                                                                                  0|                                                                                                                                0.0|                                                                                                                                                         18|                                                                                                                                                      0.001|                                                         9896|                                                                  18908|                                                                        8735|                                                                       0.462|                                                                         10173|                                                            0.5379999999999999|\n",
            "|00622|                                   7385|                                        3534|                                       0.479|                                          3851|                                         0.521|                                                  299|                                                 0.04|                                                 450|                                               0.061|                                                   448|                                                 0.061|                                                   539|                                                 0.073|                                                   398|                                  0.054000000000000006|                                                   595|                                                 0.081|                                                   833|                                                 0.113|                                                   998|                                                 0.135|                                                   484|                                                 0.066|                                                   426|                                  0.057999999999999996|                                                  1097|                                                 0.149|                                                   656|                                   0.08900000000000001|                                                      162|                                     0.022000000000000002|                                             45.9|                                                     5887|                                                    0.797|                                                     5574|                                                    0.755|                                                     2177|                                                    0.295|                                                     1915|                                                    0.259|                                                    2678|                                                   0.455|                                                      3209|                                                     0.545|                                                     876|                                                   0.457|                                                      1039|                                        0.5429999999999999|                            7385|                                     7375|                       0.9990000000000001|                                                10|                                             0.001|                                           4530|                                          0.613|                                             95|                           0.013000000000000001|                                                                          0|                                                                        0.0|                                                                                                            0|                                                                                                          0.0|                                                                                                            0|                                                                                                          0.0|                                                                                                          0|                                                                                                        0.0|                                                                                                         0|                                                                                                       0.0|                                              0|                                            0.0|                                                              0|                                                            0.0|                                                               0|                                                             0.0|                                                                0|                                                              0.0|                                                                0|                                                              0.0|                                                              0|                                                            0.0|                                                                  0|                                                                0.0|                                                             0|                                                           0.0|                                                                                   0|                                                                                 0.0|                                                                                                            0|                                                                                                          0.0|                                                                                                                  0|                                                                                                                0.0|                                                                                                   0|                                                                                                 0.0|                                                                                                                   0|                                                                                                                 0.0|                                           2750|                            0.37200000000000005|                                                                         10|                                                                      0.001|                                                                                                      0|                                                                                                    0.0|                                                                          0|                                                                        0.0|                                                                                                      0|                                                                                                    0.0|                                                                                                     4540|                                                                                                    0.615|                                                                                                      105|                                                                                     0.013999999999999999|                                                                                                                                    0|                                                                                                                                  0.0|                                                                                                        0|                                                                                                      0.0|                                                                                                                                             0|                                                                                                                                           0.0|                                                                                                     2750|                                                                                      0.37200000000000005|                                                   7385|                                                                                  7320|                                                                                 0.991|                                                                                                      0|                                                                                                    0.0|                                                                                                        7320|                                                                                                       0.991|                                                                                                    0|                                                                                                  0.0|                                                                                                    0|                                                                                                  0.0|                                                                            65|                                                          0.009000000000000001|                                                                                           65|                                                                         0.009000000000000001|                                                                                            0|                                                                                          0.0|                                                                                                                        0|                                                                                                                      0.0|                                                                                            0|                                                                                          0.0|                                                                                                                                 0|                                                                                                                               0.0|                                                                                            0|                                                                                          0.0|                                                                                                        0|                                                                                                      0.0|                                                                                                                                  0|                                                                                                                                0.0|                                                                                                                                                          0|                                                                                                                                                        0.0|                                                         8666|                                                                   5887|                                                                        2678|                                                                       0.455|                                                                          3209|                                                                         0.545|\n",
            "|00623|                                  42711|                                       20294|                                       0.475|                                         22417|                                         0.525|                                                 2025|                                                0.047|                                                2653|                                               0.062|                                                  2498|                                  0.057999999999999996|                                                  2925|                                                 0.068|                                                  2827|                                                 0.066|                                                  4858|                                                 0.114|                                                  6045|                                                 0.142|                                                  5583|                                                 0.131|                                                  2500|                                  0.059000000000000004|                                                  2529|                                  0.059000000000000004|                                                  4636|                                                 0.109|                                                  2754|                                                 0.064|                                                      878|                                                    0.021|                                             41.2|                                                    33741|                                                     0.79|                                                    32156|                                                    0.753|                                                    10103|                                                    0.237|                                                     8268|                                      0.19399999999999998|                                                   15820|                                                   0.469|                                                     17921|                                                     0.531|                                                    3647|                                                   0.441|                                                      4621|                                        0.5589999999999999|                           42711|                                    42304|                                     0.99|                                               407|                                              0.01|                                          25586|                                          0.599|                                           1457|                                          0.034|                                                                         38|                                                                      0.001|                                                                                                            0|                                                                                                          0.0|                                                                                                            0|                                                                                                          0.0|                                                                                                          0|                                                                                                        0.0|                                                                                                         0|                                                                                                       0.0|                                             11|                                            0.0|                                                             11|                                                            0.0|                                                               0|                                                             0.0|                                                                0|                                                              0.0|                                                                0|                                                              0.0|                                                              0|                                                            0.0|                                                                  0|                                                                0.0|                                                             0|                                                           0.0|                                                                                   0|                                                                                 0.0|                                                                                                            0|                                                                                                          0.0|                                                                                                                  0|                                                                                                                0.0|                                                                                                   0|                                                                                                 0.0|                                                                                                                   0|                                                                                                                 0.0|                                          15212|                            0.35600000000000004|                                                                        297|                                                       0.006999999999999999|                                                                                                      0|                                                                                                    0.0|                                                                         68|                                                                      0.002|                                                                                                      0|                                                                                                    0.0|                                                                                                    25963|                                                                                                    0.608|                                                                                                     1784|                                                                                                    0.042|                                                                                                                                   38|                                                                                                                                0.001|                                                                                                       79|                                                                                                    0.002|                                                                                                                                             0|                                                                                                                                           0.0|                                                                                                    15254|                                                                                      0.35700000000000004|                                                  42711|                                                                                 42651|                                                                    0.9990000000000001|                                                                                                     75|                                                                                                  0.002|                                                                                                       42220|                                                                                          0.9890000000000001|                                                                                                   84|                                                                                                0.002|                                                                                                  272|                                                                                                0.006|                                                                            60|                                                                         0.001|                                                                                           60|                                                                                        0.001|                                                                                            0|                                                                                          0.0|                                                                                                                        0|                                                                                                                      0.0|                                                                                            0|                                                                                          0.0|                                                                                                                                 0|                                                                                                                               0.0|                                                                                            0|                                                                                          0.0|                                                                                                        0|                                                                                                      0.0|                                                                                                                                  0|                                                                                                                                0.0|                                                                                                                                                          0|                                                                                                                                                        0.0|                                                        20959|                                                                  33604|                                                                       15734|                                                         0.46799999999999997|                                                                         17870|                                                                         0.532|\n",
            "|00624|                                  23945|                                       11665|                         0.48700000000000004|                                         12280|                                         0.513|                                                 1522|                                                0.064|                                                1766|                                 0.07400000000000001|                                                  1589|                                                 0.066|                                                  1684|                                                  0.07|                                                  1832|                                                 0.077|                                                  3191|                                                 0.133|                                                  2851|                                   0.11900000000000001|                                                  3115|                                                  0.13|                                                  1487|                                                 0.062|                                                  1454|                                                 0.061|                                                  2119|                                   0.08800000000000001|                                                  1039|                                                 0.043|                                                      296|                                                    0.012|                                             36.0|                                                    18056|                                                    0.754|                                                    17054|                                       0.7120000000000001|                                                     4390|                                                    0.183|                                                     3454|                                      0.14400000000000002|                                                    8692|                                     0.48100000000000004|                                                      9364|                                                     0.519|                                                    1626|                                     0.47100000000000003|                                                      1828|                                                     0.529|                           23945|                                    23377|                                    0.976|                                               568|                                             0.024|                                          19874|                                           0.83|                                            749|                                          0.031|                                                                         37|                                                                      0.002|                                                                                                            0|                                                                                                          0.0|                                                                                                            0|                                                                                                          0.0|                                                                                                          0|                                                                                                        0.0|                                                                                                         0|                                                                                                       0.0|                                             46|                                          0.002|                                                             35|                                                          0.001|                                                               0|                                                             0.0|                                                                0|                                                              0.0|                                                                0|                                                              0.0|                                                              0|                                                            0.0|                                                                 11|                                                                0.0|                                                             0|                                                           0.0|                                                                                   0|                                                                                 0.0|                                                                                                            0|                                                                                                          0.0|                                                                                                                  0|                                                                                                                0.0|                                                                                                   0|                                                                                                 0.0|                                                                                                                   0|                                                                                                                 0.0|                                           2671|                            0.11199999999999999|                                                                        382|                                                                      0.016|                                                                                                      0|                                                                                                    0.0|                                                                          0|                                                                        0.0|                                                                                                      0|                                                                                                    0.0|                                                                                                    20442|                                                                                       0.8540000000000001|                                                                                                     1172|                                                                                                    0.049|                                                                                                                                   78|                                                                                                                                0.003|                                                                                                       46|                                                                                                    0.002|                                                                                                                                            35|                                                                                                                                         0.001|                                                                                                     2781|                                                                                      0.11599999999999999|                                                  23945|                                                                                 23867|                                                                                 0.997|                                                                                                    137|                                                                                                  0.006|                                                                                                       23589|                                                                                                       0.985|                                                                                                    0|                                                                                                  0.0|                                                                                                  141|                                                                                                0.006|                                                                            78|                                                                         0.003|                                                                                           78|                                                                                        0.003|                                                                                            0|                                                                                          0.0|                                                                                                                        0|                                                                                                                      0.0|                                                                                            0|                                                                                          0.0|                                                                                                                                 0|                                                                                                                               0.0|                                                                                            0|                                                                                          0.0|                                                                                                        0|                                                                                                      0.0|                                                                                                                                  0|                                                                                                                                0.0|                                                                                                                                                          0|                                                                                                                                                        0.0|                                                         9475|                                                                  17995|                                                                        8691|                                                                       0.483|                                                                          9304|                                                                         0.517|\n",
            "|00627|                                  33481|                                       16098|                         0.48100000000000004|                                         17383|                                         0.519|                                                 1657|                                                0.049|                                                1911|                                               0.057|                                                  2173|                                                 0.065|                                                  2450|                                                 0.073|                                                  2410|                                   0.07200000000000001|                                                  3989|                                   0.11900000000000001|                                                  4443|                                                 0.133|                                                  4629|                                                 0.138|                                                  1980|                                  0.059000000000000004|                                                  2191|                                                 0.065|                                                  3462|                                   0.10300000000000001|                                                  1382|                                  0.040999999999999995|                                                      804|                                                    0.024|                                             39.1|                                                    26285|                                                    0.785|                                                    24611|                                                    0.735|                                                     6927|                                                    0.207|                                                     5648|                                      0.16899999999999998|                                                   12465|                                                   0.474|                                                     13820|                                                     0.526|                                                    2548|                                                   0.451|                                                      3100|                                        0.5489999999999999|                           33481|                                    33162|                                     0.99|                                               319|                                              0.01|                                          26674|                                          0.797|                                            716|                                          0.021|                                                                         38|                                                                      0.001|                                                                                                            0|                                                                                                          0.0|                                                                                                            0|                                                                                                          0.0|                                                                                                          0|                                                                                                        0.0|                                                                                                         0|                                                                                                       0.0|                                              0|                                            0.0|                                                              0|                                                            0.0|                                                               0|                                                             0.0|                                                                0|                                                              0.0|                                                                0|                                                              0.0|                                                              0|                                                            0.0|                                                                  0|                                                                0.0|                                                             0|                                                           0.0|                                                                                   0|                                                                                 0.0|                                                                                                            0|                                                                                                          0.0|                                                                                                                  0|                                                                                                                0.0|                                                                                                   0|                                                                                                 0.0|                                                                                                                   0|                                                                                                                 0.0|                                           5734|                                          0.171|                                                                        165|                                                                      0.005|                                                                                                      0|                                                                                                    0.0|                                                                          0|                                                                        0.0|                                                                                                      0|                                                                                                    0.0|                                                                                                    26971|                                                                                       0.8059999999999999|                                                                                                      903|                                                                                     0.027000000000000003|                                                                                                                                   38|                                                                                                                                0.001|                                                                                                        0|                                                                                                      0.0|                                                                                                                                             0|                                                                                                                                           0.0|                                                                                                     5888|                                                                                      0.17600000000000002|                                                  33481|                                                                                 33238|                                                                                 0.993|                                                                                                     55|                                                                                                  0.002|                                                                                                       32997|                                                                                                       0.986|                                                                                                   20|                                                                                                0.001|                                                                                                  166|                                                                                                0.005|                                                                           243|                                                          0.006999999999999999|                                                                                          229|                                                                         0.006999999999999999|                                                                                           14|                                                                                          0.0|                                                                                                                        0|                                                                                                                      0.0|                                                                                            0|                                                                                          0.0|                                                                                                                                 0|                                                                                                                               0.0|                                                                                            0|                                                                                          0.0|                                                                                                        0|                                                                                                      0.0|                                                                                                                                  0|                                                                                                                                0.0|                                                                                                                                                          0|                                                                                                                                                        0.0|                                                        14051|                                                                  26171|                                                                       12465|                                                         0.47600000000000003|                                                                         13706|                                                                         0.524|\n",
            "|00631|                                   1689|                                         819|                                       0.485|                                           870|                                         0.515|                                                   92|                                 0.054000000000000006|                                                  84|                                                0.05|                                                    62|                                  0.037000000000000005|                                                    72|                                                 0.043|                                                    95|                                  0.055999999999999994|                                                   301|                                   0.17800000000000002|                                                   162|                                                 0.096|                                                   209|                                                 0.124|                                                    61|                                  0.036000000000000004|                                                   141|                                                 0.083|                                                   205|                                                 0.121|                                                   166|                                                 0.098|                                                       39|                                                    0.023|                                             43.8|                                                     1398|                                                    0.828|                                                     1379|                                                    0.816|                                                      516|                                                    0.306|                                                      410|                                                    0.243|                                                     690|                                                   0.494|                                                       708|                                                     0.506|                                                     165|                                                   0.402|                                                       245|                                                     0.598|                            1689|                                     1689|                                      1.0|                                                 0|                                               0.0|                                           1235|                                          0.731|                                              0|                                            0.0|                                                                          0|                                                                        0.0|                                                                                                            0|                                                                                                          0.0|                                                                                                            0|                                                                                                          0.0|                                                                                                          0|                                                                                                        0.0|                                                                                                         0|                                                                                                       0.0|                                              0|                                            0.0|                                                              0|                                                            0.0|                                                               0|                                                             0.0|                                                                0|                                                              0.0|                                                                0|                                                              0.0|                                                              0|                                                            0.0|                                                                  0|                                                                0.0|                                                             0|                                                           0.0|                                                                                   0|                                                                                 0.0|                                                                                                            0|                                                                                                          0.0|                                                                                                                  0|                                                                                                                0.0|                                                                                                   0|                                                                                                 0.0|                                                                                                                   0|                                                                                                                 0.0|                                            454|                            0.26899999999999996|                                                                          0|                                                                        0.0|                                                                                                      0|                                                                                                    0.0|                                                                          0|                                                                        0.0|                                                                                                      0|                                                                                                    0.0|                                                                                                     1235|                                                                                                    0.731|                                                                                                        0|                                                                                                      0.0|                                                                                                                                    0|                                                                                                                                  0.0|                                                                                                        0|                                                                                                      0.0|                                                                                                                                             0|                                                                                                                                           0.0|                                                                                                      454|                                                                                      0.26899999999999996|                                                   1689|                                                                                  1680|                                                                                 0.995|                                                                                                      0|                                                                                                    0.0|                                                                                                        1671|                                                                                          0.9890000000000001|                                                                                                    0|                                                                                                  0.0|                                                                                                    9|                                                                                                0.005|                                                                             9|                                                                         0.005|                                                                                            9|                                                                                        0.005|                                                                                            0|                                                                                          0.0|                                                                                                                        0|                                                                                                                      0.0|                                                                                            0|                                                                                          0.0|                                                                                                                                 0|                                                                                                                               0.0|                                                                                            0|                                                                                          0.0|                                                                                                        0|                                                                                                      0.0|                                                                                                                                  0|                                                                                                                                0.0|                                                                                                                                                          0|                                                                                                                                                        0.0|                                                          781|                                                                   1398|                                                                         690|                                                                       0.494|                                                                           708|                                                                         0.506|\n",
            "|00637|                                  24013|                                       11376|                                       0.474|                                         12637|                                         0.526|                                                 1288|                                 0.054000000000000006|                                                1394|                                0.057999999999999996|                                                  1565|                                                 0.065|                                                  1739|                                   0.07200000000000001|                                                  1622|                                                 0.068|                                                  2754|                                                 0.115|                                                  3042|                                                 0.127|                                                  2926|                                                 0.122|                                                  1673|                                                  0.07|                                                  1295|                                  0.054000000000000006|                                                  2729|                                                 0.114|                                                  1527|                                                 0.064|                                                      459|                                                    0.019|                                             40.6|                                                    18722|                                                     0.78|                                                    17590|                                                    0.733|                                                     5559|                                                    0.231|                                                     4715|                                                    0.196|                                                    8658|                                                   0.462|                                                     10064|                                        0.5379999999999999|                                                    2059|                                     0.43700000000000006|                                                      2656|                                                     0.563|                           24013|                                    23478|                                    0.978|                                               535|                              0.022000000000000002|                                          19023|                                          0.792|                                            611|                                          0.025|                                                                         73|                                                                      0.003|                                                                                                            0|                                                                                                          0.0|                                                                                                            0|                                                                                                          0.0|                                                                                                          0|                                                                                                        0.0|                                                                                                         0|                                                                                                       0.0|                                              0|                                            0.0|                                                              0|                                                            0.0|                                                               0|                                                             0.0|                                                                0|                                                              0.0|                                                                0|                                                              0.0|                                                              0|                                                            0.0|                                                                  0|                                                                0.0|                                                             0|                                                           0.0|                                                                                   0|                                                                                 0.0|                                                                                                            0|                                                                                                          0.0|                                                                                                                  0|                                                                                                                0.0|                                                                                                   0|                                                                                                 0.0|                                                                                                                   0|                                                                                                                 0.0|                                           3771|                                          0.157|                                                                        354|                                                                      0.015|                                                                                                     40|                                                                                                  0.002|                                                                          0|                                                                        0.0|                                                                                                      0|                                                                                                    0.0|                                                                                                    19533|                                                                                                    0.813|                                                                                                      969|                                                                                                     0.04|                                                                                                                                  113|                                                                                                                                0.005|                                                                                                        5|                                                                                                      0.0|                                                                                                                                            23|                                                                                                                                         0.001|                                                                                                     3912|                                                                                                    0.163|                                                  24013|                                                                                 23840|                                                                                 0.993|                                                                                                     62|                                                                                                  0.003|                                                                                                       23641|                                                                                                       0.985|                                                                                                   23|                                                                                                0.001|                                                                                                  114|                                                                                                0.005|                                                                           173|                                                          0.006999999999999999|                                                                                          173|                                                                         0.006999999999999999|                                                                                            0|                                                                                          0.0|                                                                                                                        0|                                                                                                                      0.0|                                                                                            0|                                                                                          0.0|                                                                                                                                 0|                                                                                                                               0.0|                                                                                            0|                                                                                          0.0|                                                                                                        0|                                                                                                      0.0|                                                                                                                                  0|                                                                                                                                0.0|                                                                                                                                                          0|                                                                                                                                                        0.0|                                                        10758|                                                                  18675|                                                                        8644|                                                         0.46299999999999997|                                                                         10031|                                                                         0.537|\n",
            "|00638|                                  17795|                                        8607|                                       0.484|                                          9188|                                         0.516|                                                 1074|                                                 0.06|                                                1204|                                               0.068|                                                  1089|                                                 0.061|                                                  1188|                                                 0.067|                                                  1289|                                   0.07200000000000001|                                                  2258|                                                 0.127|                                                  2024|                                                 0.114|                                                  2394|                                                 0.135|                                                  1026|                                  0.057999999999999996|                                                  1326|                                                 0.075|                                                  1715|                                                 0.096|                                                   917|                                  0.052000000000000005|                                                      291|                                                    0.016|                                             39.4|                                                    13727|                                       0.7709999999999999|                                                    12969|                                       0.7290000000000001|                                                     3697|                                      0.20800000000000002|                                                     2923|                                      0.16399999999999998|                                                    6605|                                     0.48100000000000004|                                                      7122|                                                     0.519|                                                    1384|                                                   0.473|                                                      1539|                                                     0.527|                           17795|                                    17421|                       0.9790000000000001|                                               374|                                             0.021|                                          17089|                                           0.96|                                            127|                           0.006999999999999999|                                                                          0|                                                                        0.0|                                                                                                            0|                                                                                                          0.0|                                                                                                            0|                                                                                                          0.0|                                                                                                          0|                                                                                                        0.0|                                                                                                         0|                                                                                                       0.0|                                              0|                                            0.0|                                                              0|                                                            0.0|                                                               0|                                                             0.0|                                                                0|                                                              0.0|                                                                0|                                                              0.0|                                                              0|                                                            0.0|                                                                  0|                                                                0.0|                                                             0|                                                           0.0|                                                                                   0|                                                                                 0.0|                                                                                                            0|                                                                                                          0.0|                                                                                                                  0|                                                                                                                0.0|                                                                                                   0|                                                                                                 0.0|                                                                                                                   0|                                                                                                                 0.0|                                            205|                                          0.012|                                                                        312|                                                       0.018000000000000002|                                                                                                      0|                                                                                                    0.0|                                                                          0|                                                                        0.0|                                                                                                      0|                                                                                                    0.0|                                                                                                    17415|                                                                                       0.9790000000000001|                                                                                                      439|                                                                                                    0.025|                                                                                                                                   48|                                                                                                                                0.003|                                                                                                        0|                                                                                                      0.0|                                                                                                                                             0|                                                                                                                                           0.0|                                                                                                      267|                                                                                                    0.015|                                                  17795|                                                                                 17727|                                                                                 0.996|                                                                                                     62|                                                                                                  0.003|                                                                                                       17528|                                                                                                       0.985|                                                                                                  110|                                                                                                0.006|                                                                                                   27|                                                                                                0.002|                                                                            68|                                                                         0.004|                                                                                           68|                                                                                        0.004|                                                                                            0|                                                                                          0.0|                                                                                                                        0|                                                                                                                      0.0|                                                                                            0|                                                                                          0.0|                                                                                                                                 0|                                                                                                                               0.0|                                                                                            0|                                                                                          0.0|                                                                                                        0|                                                                                                      0.0|                                                                                                                                  0|                                                                                                                                0.0|                                                                                                                                                          0|                                                                                                                                                        0.0|                                                         7447|                                                                  13727|                                                                        6605|                                                         0.48100000000000004|                                                                          7122|                                                                         0.519|\n",
            "|00641|                                  28925|                                       14056|                                       0.486|                                         14869|                                         0.514|                                                 1549|                                 0.054000000000000006|                                                1677|                                0.057999999999999996|                                                  1811|                                                 0.063|                                                  2034|                                                  0.07|                                                  2070|                                   0.07200000000000001|                                                  3461|                                                  0.12|                                                  3297|                                                 0.114|                                                  3815|                                                 0.132|                                                  1933|                                                 0.067|                                                  2051|                                                 0.071|                                                  3069|                                                 0.106|                                                  1527|                                                 0.053|                                                      631|                                     0.022000000000000002|                                             40.8|                                                    22671|                                                    0.784|                                                    21250|                                                    0.735|                                                     6484|                                      0.22399999999999998|                                                     5227|                                      0.18100000000000002|                                                   10792|                                     0.47600000000000003|                                                     11879|                                                     0.524|                                                    2421|                                     0.46299999999999997|                                                      2806|                                                     0.537|                           28925|                                    28265|                                    0.977|                                               660|                                             0.023|                                          22643|                             0.7829999999999999|                                            431|                                          0.015|                                                                         49|                                                                      0.002|                                                                                                            0|                                                                                                          0.0|                                                                                                            0|                                                                                                          0.0|                                                                                                          0|                                                                                                        0.0|                                                                                                         0|                                                                                                       0.0|                                            261|                           0.009000000000000001|                                                            261|                                           0.009000000000000001|                                                               0|                                                             0.0|                                                                0|                                                              0.0|                                                                0|                                                              0.0|                                                              0|                                                            0.0|                                                                  0|                                                                0.0|                                                             0|                                                           0.0|                                                                                   0|                                                                                 0.0|                                                                                                            0|                                                                                                          0.0|                                                                                                                  0|                                                                                                                0.0|                                                                                                   0|                                                                                                 0.0|                                                                                                                   0|                                                                                                                 0.0|                                           4881|                            0.16899999999999998|                                                                        198|                                                       0.006999999999999999|                                                                                                      0|                                                                                                    0.0|                                                                         67|                                                                      0.002|                                                                                                     51|                                                                                                  0.002|                                                                                                    23234|                                                                                       0.8029999999999999|                                                                                                      741|                                                                                     0.026000000000000002|                                                                                                                                  126|                                                                                                                                0.004|                                                                                                      328|                                                                                     0.011000000000000001|                                                                                                                                             0|                                                                                                                                           0.0|                                                                                                     5215|                                                                                                     0.18|                                                  28925|                                                                                 28807|                                                                                 0.996|                                                                                                     67|                                                                                                  0.002|                                                                                                       28538|                                                                                                       0.987|                                                                                                   89|                                                                                                0.003|                                                                                                  113|                                                                                                0.004|                                                                           118|                                                                         0.004|                                                                                          106|                                                                                        0.004|                                                                                           12|                                                                                          0.0|                                                                                                                        0|                                                                                                                      0.0|                                                                                            0|                                                                                          0.0|                                                                                                                                 0|                                                                                                                               0.0|                                                                                            0|                                                                                          0.0|                                                                                                        0|                                                                                                      0.0|                                                                                                                                  0|                                                                                                                                0.0|                                                                                                                                                          0|                                                                                                                                                        0.0|                                                        12579|                                                                  22612|                                                                       10766|                                                         0.47600000000000003|                                                                         11846|                                                                         0.524|\n",
            "|00646|                                  38292|                                       18330|                                       0.479|                                         19962|                                         0.521|                                                 2146|                                 0.055999999999999994|                                                2690|                                                0.07|                                                  2735|                                                 0.071|                                                  2746|                                   0.07200000000000001|                                                  2450|                                                 0.064|                                                  4420|                                                 0.115|                                                  5828|                                                 0.152|                                                  5170|                                                 0.135|                                                  1983|                                  0.052000000000000005|                                                  2424|                                                 0.063|                                                  3546|                                   0.09300000000000001|                                                  1633|                                                 0.043|                                                      521|                                     0.013999999999999999|                                             38.9|                                                    29031|                                                    0.758|                                                    27182|                                                     0.71|                                                     7159|                                                    0.187|                                                     5700|                                                    0.149|                                                   13663|                                     0.47100000000000003|                                                     15368|                                                     0.529|                                                    2559|                                                   0.449|                                                      3141|                                                     0.551|                           38292|                                    35809|                                    0.935|                                              2483|                                             0.065|                                          29479|                                           0.77|                                           4904|                                          0.128|                                                                          0|                                                                        0.0|                                                                                                            0|                                                                                                          0.0|                                                                                                            0|                                                                                                          0.0|                                                                                                          0|                                                                                                        0.0|                                                                                                         0|                                                                                                       0.0|                                             48|                                          0.001|                                                             15|                                                            0.0|                                                              33|                                                           0.001|                                                                0|                                                              0.0|                                                                0|                                                              0.0|                                                              0|                                                            0.0|                                                                  0|                                                                0.0|                                                             0|                                                           0.0|                                                                                   0|                                                                                 0.0|                                                                                                            0|                                                                                                          0.0|                                                                                                                  0|                                                                                                                0.0|                                                                                                   0|                                                                                                 0.0|                                                                                                                   0|                                                                                                                 0.0|                                           1378|                           0.036000000000000004|                                                                       2314|                                                                       0.06|                                                                                                     31|                                                                                                  0.001|                                                                          0|                                                                        0.0|                                                                                                      0|                                                                                                    0.0|                                                                                                    31834|                                                                                                    0.831|                                                                                                     7286|                                                                                                     0.19|                                                                                                                                   91|                                                                                                                                0.002|                                                                                                       48|                                                                                                    0.001|                                                                                                                                             0|                                                                                                                                           0.0|                                                                                                     1516|                                                                                                     0.04|                                                  38292|                                                                                 37615|                                                                                 0.982|                                                                                                     88|                                                                                                  0.002|                                                                                                       36976|                                                                                                       0.966|                                                                                                  101|                                                                                                0.003|                                                                                                  450|                                                                                                0.012|                                                                           677|                                                          0.018000000000000002|                                                                                          548|                                                                         0.013999999999999999|                                                                                           48|                                                                                        0.001|                                                                                                                        0|                                                                                                                      0.0|                                                                                           33|                                                                                        0.001|                                                                                                                                 0|                                                                                                                               0.0|                                                                                           48|                                                                                        0.001|                                                                                                        0|                                                                                                      0.0|                                                                                                                                  0|                                                                                                                                0.0|                                                                                                                                                          0|                                                                                                                                                        0.0|                                                        15846|                                                                  28601|                                                                       13438|                                                                        0.47|                                                                         15163|                                                                          0.53|\n",
            "|00647|                                   5711|                                        2786|                                       0.488|                                          2925|                                         0.512|                                                  282|                                                0.049|                                                 251|                                0.044000000000000004|                                                   288|                                                  0.05|                                                   275|                                                 0.048|                                                   434|                                                 0.076|                                                   745|                                                  0.13|                                                   499|                                                 0.087|                                                   775|                                                 0.136|                                                   280|                                                 0.049|                                                   460|                                                 0.081|                                                   832|                                                 0.146|                                                   414|                                   0.07200000000000001|                                                      176|                                                    0.031|                                             45.9|                                                     4722|                                       0.8270000000000001|                                                     4527|                                       0.7929999999999999|                                                     1708|                                                    0.299|                                                     1422|                                                    0.249|                                                    2236|                                                   0.474|                                                      2486|                                                     0.526|                                                     656|                                                   0.461|                                                       766|                                                     0.539|                            5711|                                     5628|                                    0.985|                                                83|                                             0.015|                                           4614|                             0.8079999999999999|                                             98|                                          0.017|                                                                          0|                                                                        0.0|                                                                                                            0|                                                                                                          0.0|                                                                                                            0|                                                                                                          0.0|                                                                                                          0|                                                                                                        0.0|                                                                                                         0|                                                                                                       0.0|                                              0|                                            0.0|                                                              0|                                                            0.0|                                                               0|                                                             0.0|                                                                0|                                                              0.0|                                                                0|                                                              0.0|                                                              0|                                                            0.0|                                                                  0|                                                                0.0|                                                             0|                                                           0.0|                                                                                   0|                                                                                 0.0|                                                                                                            0|                                                                                                          0.0|                                                                                                                  0|                                                                                                                0.0|                                                                                                   0|                                                                                                 0.0|                                                                                                                   0|                                                                                                                 0.0|                                            916|                                           0.16|                                                                         60|                                                       0.011000000000000001|                                                                                                      0|                                                                                                    0.0|                                                                          0|                                                                        0.0|                                                                                                      0|                                                                                                    0.0|                                                                                                     4697|                                                                                       0.8220000000000001|                                                                                                      158|                                                                                     0.027999999999999997|                                                                                                                                    0|                                                                                                                                  0.0|                                                                                                        0|                                                                                                      0.0|                                                                                                                                             0|                                                                                                                                           0.0|                                                                                                      939|                                                                                      0.16399999999999998|                                                   5711|                                                                                  5711|                                                                                   1.0|                                                                                                      7|                                                                                                  0.001|                                                                                                        5664|                                                                                                       0.992|                                                                                                    0|                                                                                                  0.0|                                                                                                   40|                                                                                 0.006999999999999999|                                                                             0|                                                                           0.0|                                                                                            0|                                                                                          0.0|                                                                                            0|                                                                                          0.0|                                                                                                                        0|                                                                                                                      0.0|                                                                                            0|                                                                                          0.0|                                                                                                                                 0|                                                                                                                               0.0|                                                                                            0|                                                                                          0.0|                                                                                                        0|                                                                                                      0.0|                                                                                                                                  0|                                                                                                                                0.0|                                                                                                                                                          0|                                                                                                                                                        0.0|                                                         3522|                                                                   4715|                                                                        2236|                                                                       0.474|                                                                          2479|                                                                         0.526|\n",
            "|00650|                                  14569|                                        7123|                                       0.489|                                          7446|                                         0.511|                                                  787|                                 0.054000000000000006|                                                 962|                                               0.066|                                                   945|                                                 0.065|                                                  1156|                                                 0.079|                                                  1121|                                                 0.077|                                                  1724|                                   0.11800000000000001|                                                  1953|                                                 0.134|                                                  1877|                                                 0.129|                                                   852|                                  0.057999999999999996|                                                   810|                                  0.055999999999999994|                                                  1466|                                   0.10099999999999999|                                                   702|                                                 0.048|                                                      214|                                                    0.015|                                             37.7|                                                    11183|                                                    0.768|                                                    10425|                                                    0.716|                                                     2762|                                                     0.19|                                                     2382|                                                    0.163|                                                    5416|                                                   0.484|                                                      5767|                                                     0.516|                                                    1082|                                     0.45399999999999996|                                                      1300|                                                     0.546|                           14569|                                    14431|                                    0.991|                                               138|                              0.009000000000000001|                                          13544|                                           0.93|                                            265|                           0.018000000000000002|                                                                          0|                                                                        0.0|                                                                                                            0|                                                                                                          0.0|                                                                                                            0|                                                                                                          0.0|                                                                                                          0|                                                                                                        0.0|                                                                                                         0|                                                                                                       0.0|                                             60|                                          0.004|                                                             60|                                                          0.004|                                                               0|                                                             0.0|                                                                0|                                                              0.0|                                                                0|                                                              0.0|                                                              0|                                                            0.0|                                                                  0|                                                                0.0|                                                             0|                                                           0.0|                                                                                   0|                                                                                 0.0|                                                                                                            0|                                                                                                          0.0|                                                                                                                  0|                                                                                                                0.0|                                                                                                   0|                                                                                                 0.0|                                                                                                                   0|                                                                                                                 0.0|                                            562|                                          0.039|                                                                        138|                                                       0.009000000000000001|                                                                                                      0|                                                                                                    0.0|                                                                          0|                                                                        0.0|                                                                                                      0|                                                                                                    0.0|                                                                                                    13682|                                                                                       0.9390000000000001|                                                                                                      403|                                                                                     0.027999999999999997|                                                                                                                                    0|                                                                                                                                  0.0|                                                                                                       60|                                                                                                    0.004|                                                                                                                                             0|                                                                                                                                           0.0|                                                                                                      562|                                                                                                    0.039|                                                  14569|                                                                                 14508|                                                                                 0.996|                                                                                                     27|                                                                                                  0.002|                                                                                                       14398|                                                                                                       0.988|                                                                                                    0|                                                                                                  0.0|                                                                                                   83|                                                                                                0.006|                                                                            61|                                                                         0.004|                                                                                           61|                                                                                        0.004|                                                                                            0|                                                                                          0.0|                                                                                                                        0|                                                                                                                      0.0|                                                                                            0|                                                                                          0.0|                                                                                                                                 0|                                                                                                                               0.0|                                                                                            0|                                                                                          0.0|                                                                                                        0|                                                                                                      0.0|                                                                                                                                  0|                                                                                                                                0.0|                                                                                                                                                          0|                                                                                                                                                        0.0|                                                         5757|                                                                  11109|                                                                        5349|                                                         0.48200000000000004|                                                                          5760|                                                                         0.518|\n",
            "|00652|                                   3893|                                        1749|                                       0.449|                                          2144|                                         0.551|                                                   65|                                                0.017|                                                 322|                                               0.083|                                                   357|                                                 0.092|                                                   372|                                                 0.096|                                                   207|                                                 0.053|                                                   375|                                                 0.096|                                                   562|                                   0.14400000000000002|                                                   472|                                                 0.121|                                                   239|                                                 0.061|                                                   216|                                                 0.055|                                                   403|                                   0.10400000000000001|                                                   237|                                                 0.061|                                                       66|                                                    0.017|                                             39.5|                                                     2899|                                                    0.745|                                                     2739|                                       0.7040000000000001|                                                      884|                                      0.22699999999999998|                                                      706|                                      0.18100000000000002|                                                    1390|                                                   0.479|                                                      1509|                                                     0.521|                                                     301|                                                   0.426|                                                       405|                                                     0.574|                            3893|                                     3882|                                    0.997|                                                11|                                             0.003|                                           3457|                                          0.888|                                             58|                                          0.015|                                                                          0|                                                                        0.0|                                                                                                            0|                                                                                                          0.0|                                                                                                            0|                                                                                                          0.0|                                                                                                          0|                                                                                                        0.0|                                                                                                         0|                                                                                                       0.0|                                             23|                                          0.006|                                                             23|                                                          0.006|                                                               0|                                                             0.0|                                                                0|                                                              0.0|                                                                0|                                                              0.0|                                                              0|                                                            0.0|                                                                  0|                                                                0.0|                                                             0|                                                           0.0|                                                                                   0|                                                                                 0.0|                                                                                                            0|                                                                                                          0.0|                                                                                                                  0|                                                                                                                0.0|                                                                                                   0|                                                                                                 0.0|                                                                                                                   0|                                                                                                                 0.0|                                            344|                            0.08800000000000001|                                                                          3|                                                                      0.001|                                                                                                      0|                                                                                                    0.0|                                                                          0|                                                                        0.0|                                                                                                      0|                                                                                                    0.0|                                                                                                     3468|                                                                                       0.8909999999999999|                                                                                                       61|                                                                                                    0.016|                                                                                                                                    0|                                                                                                                                  0.0|                                                                                                       23|                                                                                                    0.006|                                                                                                                                             0|                                                                                                                                           0.0|                                                                                                      352|                                                                                                     0.09|                                                   3893|                                                                                  3877|                                                                                 0.996|                                                                                                     17|                                                                                                  0.004|                                                                                                        3757|                                                                                                       0.965|                                                                                                   76|                                                                                                 0.02|                                                                                                   27|                                                                                 0.006999999999999999|                                                                            16|                                                                         0.004|                                                                                           16|                                                                                        0.004|                                                                                            0|                                                                                          0.0|                                                                                                                        0|                                                                                                                      0.0|                                                                                            0|                                                                                          0.0|                                                                                                                                 0|                                                                                                                               0.0|                                                                                            0|                                                                                          0.0|                                                                                                        0|                                                                                                      0.0|                                                                                                                                  0|                                                                                                                                0.0|                                                                                                                                                          0|                                                                                                                                                        0.0|                                                         1793|                                                                   2872|                                                                        1363|                                                                       0.475|                                                                          1509|                                                                         0.525|\n",
            "+-----+---------------------------------------+--------------------------------------------+--------------------------------------------+----------------------------------------------+----------------------------------------------+-----------------------------------------------------+-----------------------------------------------------+----------------------------------------------------+----------------------------------------------------+------------------------------------------------------+------------------------------------------------------+------------------------------------------------------+------------------------------------------------------+------------------------------------------------------+------------------------------------------------------+------------------------------------------------------+------------------------------------------------------+------------------------------------------------------+------------------------------------------------------+------------------------------------------------------+------------------------------------------------------+------------------------------------------------------+------------------------------------------------------+------------------------------------------------------+------------------------------------------------------+------------------------------------------------------+------------------------------------------------------+------------------------------------------------------+------------------------------------------------------+---------------------------------------------------------+---------------------------------------------------------+-------------------------------------------------+---------------------------------------------------------+---------------------------------------------------------+---------------------------------------------------------+---------------------------------------------------------+---------------------------------------------------------+---------------------------------------------------------+---------------------------------------------------------+---------------------------------------------------------+--------------------------------------------------------+--------------------------------------------------------+----------------------------------------------------------+----------------------------------------------------------+--------------------------------------------------------+--------------------------------------------------------+----------------------------------------------------------+----------------------------------------------------------+--------------------------------+-----------------------------------------+-----------------------------------------+--------------------------------------------------+--------------------------------------------------+-----------------------------------------------+-----------------------------------------------+-----------------------------------------------+-----------------------------------------------+---------------------------------------------------------------------------+---------------------------------------------------------------------------+-------------------------------------------------------------------------------------------------------------+-------------------------------------------------------------------------------------------------------------+-------------------------------------------------------------------------------------------------------------+-------------------------------------------------------------------------------------------------------------+-----------------------------------------------------------------------------------------------------------+-----------------------------------------------------------------------------------------------------------+----------------------------------------------------------------------------------------------------------+----------------------------------------------------------------------------------------------------------+-----------------------------------------------+-----------------------------------------------+---------------------------------------------------------------+---------------------------------------------------------------+----------------------------------------------------------------+----------------------------------------------------------------+-----------------------------------------------------------------+-----------------------------------------------------------------+-----------------------------------------------------------------+-----------------------------------------------------------------+---------------------------------------------------------------+---------------------------------------------------------------+-------------------------------------------------------------------+-------------------------------------------------------------------+--------------------------------------------------------------+--------------------------------------------------------------+------------------------------------------------------------------------------------+------------------------------------------------------------------------------------+-------------------------------------------------------------------------------------------------------------+-------------------------------------------------------------------------------------------------------------+-------------------------------------------------------------------------------------------------------------------+-------------------------------------------------------------------------------------------------------------------+----------------------------------------------------------------------------------------------------+----------------------------------------------------------------------------------------------------+--------------------------------------------------------------------------------------------------------------------+--------------------------------------------------------------------------------------------------------------------+-----------------------------------------------+-----------------------------------------------+---------------------------------------------------------------------------+---------------------------------------------------------------------------+-------------------------------------------------------------------------------------------------------+-------------------------------------------------------------------------------------------------------+---------------------------------------------------------------------------+---------------------------------------------------------------------------+-------------------------------------------------------------------------------------------------------+-------------------------------------------------------------------------------------------------------+---------------------------------------------------------------------------------------------------------+---------------------------------------------------------------------------------------------------------+---------------------------------------------------------------------------------------------------------+---------------------------------------------------------------------------------------------------------+-------------------------------------------------------------------------------------------------------------------------------------+-------------------------------------------------------------------------------------------------------------------------------------+---------------------------------------------------------------------------------------------------------+---------------------------------------------------------------------------------------------------------+----------------------------------------------------------------------------------------------------------------------------------------------+----------------------------------------------------------------------------------------------------------------------------------------------+---------------------------------------------------------------------------------------------------------+---------------------------------------------------------------------------------------------------------+-------------------------------------------------------+--------------------------------------------------------------------------------------+--------------------------------------------------------------------------------------+-------------------------------------------------------------------------------------------------------+-------------------------------------------------------------------------------------------------------+------------------------------------------------------------------------------------------------------------+------------------------------------------------------------------------------------------------------------+-----------------------------------------------------------------------------------------------------+-----------------------------------------------------------------------------------------------------+-----------------------------------------------------------------------------------------------------+-----------------------------------------------------------------------------------------------------+------------------------------------------------------------------------------+------------------------------------------------------------------------------+---------------------------------------------------------------------------------------------+---------------------------------------------------------------------------------------------+---------------------------------------------------------------------------------------------+---------------------------------------------------------------------------------------------+-------------------------------------------------------------------------------------------------------------------------+-------------------------------------------------------------------------------------------------------------------------+---------------------------------------------------------------------------------------------+---------------------------------------------------------------------------------------------+----------------------------------------------------------------------------------------------------------------------------------+----------------------------------------------------------------------------------------------------------------------------------+---------------------------------------------------------------------------------------------+---------------------------------------------------------------------------------------------+---------------------------------------------------------------------------------------------------------+---------------------------------------------------------------------------------------------------------+-----------------------------------------------------------------------------------------------------------------------------------+-----------------------------------------------------------------------------------------------------------------------------------+-----------------------------------------------------------------------------------------------------------------------------------------------------------+-----------------------------------------------------------------------------------------------------------------------------------------------------------+-------------------------------------------------------------+-----------------------------------------------------------------------+----------------------------------------------------------------------------+----------------------------------------------------------------------------+------------------------------------------------------------------------------+------------------------------------------------------------------------------+\n",
            "only showing top 20 rows\n",
            "\n"
          ]
        }
      ]
    },
    {
      "cell_type": "markdown",
      "source": [
        "## (2) Join files together"
      ],
      "metadata": {
        "id": "AoHYlnTxqy9Z"
      }
    },
    {
      "cell_type": "markdown",
      "source": [
        "Hint: everything except the zipcode column should be converted to float... check the schema to be sure..."
      ],
      "metadata": {
        "id": "ukF0-_U8oQ03"
      }
    },
    {
      "cell_type": "code",
      "source": [
        "# Check schema:\n",
        "demo.printSchema()"
      ],
      "metadata": {
        "id": "G-X7ZhBloPMd",
        "colab": {
          "base_uri": "https://localhost:8080/"
        },
        "outputId": "17eed165-9557-4f6c-b465-1cdd5833e083"
      },
      "execution_count": null,
      "outputs": [
        {
          "output_type": "stream",
          "name": "stdout",
          "text": [
            "root\n",
            " |-- ZCTA5: string (nullable = true)\n",
            " |-- sex_and_age-population-total_population: string (nullable = true)\n",
            " |-- sex_and_age-population-male_total_population: string (nullable = true)\n",
            " |-- sex_and_age-percent-male-of-total_population: string (nullable = true)\n",
            " |-- sex_and_age-population-female_total_population: string (nullable = true)\n",
            " |-- sex_and_age-percent-female-of-total_population: string (nullable = true)\n",
            " |-- sex_and_age-population-under_5_years_total_population: string (nullable = true)\n",
            " |-- sex_and_age-percent-under_5_years-of-total_population: string (nullable = true)\n",
            " |-- sex_and_age-population-5_to_9_years_total_population: string (nullable = true)\n",
            " |-- sex_and_age-percent-5_to_9_years-of-total_population: string (nullable = true)\n",
            " |-- sex_and_age-population-10_to_14_years_total_population: string (nullable = true)\n",
            " |-- sex_and_age-percent-10_to_14_years-of-total_population: string (nullable = true)\n",
            " |-- sex_and_age-population-15_to_19_years_total_population: string (nullable = true)\n",
            " |-- sex_and_age-percent-15_to_19_years-of-total_population: string (nullable = true)\n",
            " |-- sex_and_age-population-20_to_24_years_total_population: string (nullable = true)\n",
            " |-- sex_and_age-percent-20_to_24_years-of-total_population: string (nullable = true)\n",
            " |-- sex_and_age-population-25_to_34_years_total_population: string (nullable = true)\n",
            " |-- sex_and_age-percent-25_to_34_years-of-total_population: string (nullable = true)\n",
            " |-- sex_and_age-population-35_to_44_years_total_population: string (nullable = true)\n",
            " |-- sex_and_age-percent-35_to_44_years-of-total_population: string (nullable = true)\n",
            " |-- sex_and_age-population-45_to_54_years_total_population: string (nullable = true)\n",
            " |-- sex_and_age-percent-45_to_54_years-of-total_population: string (nullable = true)\n",
            " |-- sex_and_age-population-55_to_59_years_total_population: string (nullable = true)\n",
            " |-- sex_and_age-percent-55_to_59_years-of-total_population: string (nullable = true)\n",
            " |-- sex_and_age-population-60_to_64_years_total_population: string (nullable = true)\n",
            " |-- sex_and_age-percent-60_to_64_years-of-total_population: string (nullable = true)\n",
            " |-- sex_and_age-population-65_to_74_years_total_population: string (nullable = true)\n",
            " |-- sex_and_age-percent-65_to_74_years-of-total_population: string (nullable = true)\n",
            " |-- sex_and_age-population-75_to_84_years_total_population: string (nullable = true)\n",
            " |-- sex_and_age-percent-75_to_84_years-of-total_population: string (nullable = true)\n",
            " |-- sex_and_age-population-85_years_and_over_total_population: string (nullable = true)\n",
            " |-- sex_and_age-percent-85_years_and_over-of-total_population: string (nullable = true)\n",
            " |-- sex_and_age-age-median_age_years_total_population: string (nullable = true)\n",
            " |-- sex_and_age-population-18_years_and_over_total_population: string (nullable = true)\n",
            " |-- sex_and_age-percent-18_years_and_over-of-total_population: string (nullable = true)\n",
            " |-- sex_and_age-population-21_years_and_over_total_population: string (nullable = true)\n",
            " |-- sex_and_age-percent-21_years_and_over-of-total_population: string (nullable = true)\n",
            " |-- sex_and_age-population-62_years_and_over_total_population: string (nullable = true)\n",
            " |-- sex_and_age-percent-62_years_and_over-of-total_population: string (nullable = true)\n",
            " |-- sex_and_age-population-65_years_and_over_total_population: string (nullable = true)\n",
            " |-- sex_and_age-percent-65_years_and_over-of-total_population: string (nullable = true)\n",
            " |-- sex_and_age-population-male_18_years_and_over_population: string (nullable = true)\n",
            " |-- sex_and_age-percent-male-of-18_years_and_over_population: string (nullable = true)\n",
            " |-- sex_and_age-population-female_18_years_and_over_population: string (nullable = true)\n",
            " |-- sex_and_age-percent-female-of-18_years_and_over_population: string (nullable = true)\n",
            " |-- sex_and_age-population-male_65_years_and_over_population: string (nullable = true)\n",
            " |-- sex_and_age-percent-male-of-65_years_and_over_population: string (nullable = true)\n",
            " |-- sex_and_age-population-female_65_years_and_over_population: string (nullable = true)\n",
            " |-- sex_and_age-percent-female-of-65_years_and_over_population: string (nullable = true)\n",
            " |-- race-population-total_population: string (nullable = true)\n",
            " |-- race-population-one_race_total_population: string (nullable = true)\n",
            " |-- race-percent-one_race-of-total_population: string (nullable = true)\n",
            " |-- race-population-two_or_more_races_total_population: string (nullable = true)\n",
            " |-- race-percent-two_or_more_races-of-total_population: string (nullable = true)\n",
            " |-- race-population-one_race_white_total_population: string (nullable = true)\n",
            " |-- race-percent-one_race_white-of-total_population: string (nullable = true)\n",
            " |-- race-population-one_race_black_total_population: string (nullable = true)\n",
            " |-- race-percent-one_race_black-of-total_population: string (nullable = true)\n",
            " |-- race-population-one_race_american_indian_and_alaska_native_total_population: string (nullable = true)\n",
            " |-- race-percent-one_race_american_indian_and_alaska_native-of-total_population: string (nullable = true)\n",
            " |-- race_detailed-population-one_race_american_indian_and_alaska_native_cherokee_tribal_grouping_total_population: string (nullable = true)\n",
            " |-- race_detailed-percent-one_race_american_indian_and_alaska_native_cherokee_tribal_grouping-of-total_population: string (nullable = true)\n",
            " |-- race_detailed-population-one_race_american_indian_and_alaska_native_chippewa_tribal_grouping_total_population: string (nullable = true)\n",
            " |-- race_detailed-percent-one_race_american_indian_and_alaska_native_chippewa_tribal_grouping-of-total_population: string (nullable = true)\n",
            " |-- race_detailed-population-one_race_american_indian_and_alaska_native_navajo_tribal_grouping_total_population: string (nullable = true)\n",
            " |-- race_detailed-percent-one_race_american_indian_and_alaska_native_navajo_tribal_grouping-of-total_population: string (nullable = true)\n",
            " |-- race_detailed-population-one_race_american_indian_and_alaska_native_sioux_tribal_grouping_total_population: string (nullable = true)\n",
            " |-- race_detailed-percent-one_race_american_indian_and_alaska_native_sioux_tribal_grouping-of-total_population: string (nullable = true)\n",
            " |-- race-population-one_race_asian_total_population: string (nullable = true)\n",
            " |-- race-percent-one_race_asian-of-total_population: string (nullable = true)\n",
            " |-- race_detailed-population-one_race_asian_indian_total_population: string (nullable = true)\n",
            " |-- race_detailed-percent-one_race_asian_indian-of-total_population: string (nullable = true)\n",
            " |-- race_detailed-population-one_race_asian_chinese_total_population: string (nullable = true)\n",
            " |-- race_detailed-percent-one_race_asian_chinese-of-total_population: string (nullable = true)\n",
            " |-- race_detailed-population-one_race_asian_filipino_total_population: string (nullable = true)\n",
            " |-- race_detailed-percent-one_race_asian_filipino-of-total_population: string (nullable = true)\n",
            " |-- race_detailed-population-one_race_asian_japanese_total_population: string (nullable = true)\n",
            " |-- race_detailed-percent-one_race_asian_japanese-of-total_population: string (nullable = true)\n",
            " |-- race_detailed-population-one_race_asian_korean_total_population: string (nullable = true)\n",
            " |-- race_detailed-percent-one_race_asian_korean-of-total_population: string (nullable = true)\n",
            " |-- race_detailed-population-one_race_asian_vietnamese_total_population: string (nullable = true)\n",
            " |-- race_detailed-percent-one_race_asian_vietnamese-of-total_population: string (nullable = true)\n",
            " |-- race_detailed-population-one_race_asian_other_total_population: string (nullable = true)\n",
            " |-- race_detailed-percent-one_race_asian_other-of-total_population: string (nullable = true)\n",
            " |-- race-population-one_race_native_hawaiian_and_other_pacific_islander_total_population: string (nullable = true)\n",
            " |-- race-percent-one_race_native_hawaiian_and_other_pacific_islander-of-total_population: string (nullable = true)\n",
            " |-- race_detailed-population-one_race_native_hawaiian_and_other_pacific_islander_native_hawaiian_total_population: string (nullable = true)\n",
            " |-- race_detailed-percent-one_race_native_hawaiian_and_other_pacific_islander_native_hawaiian-of-total_population: string (nullable = true)\n",
            " |-- race_detailed-population-one_race_native_hawaiian_and_other_pacific_islander_guamanian_or_chamorro_total_population: string (nullable = true)\n",
            " |-- race_detailed-percent-one_race_native_hawaiian_and_other_pacific_islander_guamanian_or_chamorro-of-total_population: string (nullable = true)\n",
            " |-- race_detailed-population-one_race_native_hawaiian_and_other_pacific_islander_samoan_total_population: string (nullable = true)\n",
            " |-- race_detailed-percent-one_race_native_hawaiian_and_other_pacific_islander_samoan-of-total_population: string (nullable = true)\n",
            " |-- race_detailed-population-one_race_native_hawaiian_and_other_pacific_islander_other_pacific_islander_total_population: string (nullable = true)\n",
            " |-- race_detailed-percent-one_race_native_hawaiian_and_other_pacific_islander_other_pacific_islander-of-total_population: string (nullable = true)\n",
            " |-- race-population-one_race_other_total_population: string (nullable = true)\n",
            " |-- race-percent-one_race_other-of-total_population: string (nullable = true)\n",
            " |-- race_detailed-population-two_or_more_races-white_and_black_total_population: string (nullable = true)\n",
            " |-- race_detailed-percent-two_or_more_races-white_and_black-of-total_population: string (nullable = true)\n",
            " |-- race_detailed-population-two_or_more_races-white_and_american_indian_and_alaska_native_total_population: string (nullable = true)\n",
            " |-- race_detailed-percent-two_or_more_races-white_and_american_indian_and_alaska_native-of-total_population: string (nullable = true)\n",
            " |-- race_detailed-population-two_or_more_races-white_and_asian_total_population: string (nullable = true)\n",
            " |-- race_detailed-percent-two_or_more_races-white_and_asian-of-total_population: string (nullable = true)\n",
            " |-- race_detailed-population-two_or_more_races-black_and_american_indian_and_alaska_native_total_population: string (nullable = true)\n",
            " |-- race_detailed-percent-two_or_more_races-black_and_american_indian_and_alaska_native-of-total_population: string (nullable = true)\n",
            " |-- race_detailed-population-race_alone_or_in_combination_with_one_or_more_other_races_white_total_population: string (nullable = true)\n",
            " |-- race_detailed-percent-race_alone_or_in_combination_with_one_or_more_other_races_white-of-total_population: string (nullable = true)\n",
            " |-- race_detailed-population-race_alone_or_in_combination_with_one_or_more_other_races_black_total_population: string (nullable = true)\n",
            " |-- race_detailed-percent-race_alone_or_in_combination_with_one_or_more_other_races_black-of-total_population: string (nullable = true)\n",
            " |-- race_detailed-population-race_alone_or_in_combination_with_one_or_more_other_races_american_indian_and_alaska_native_total_population: string (nullable = true)\n",
            " |-- race_detailed-percent-race_alone_or_in_combination_with_one_or_more_other_races_american_indian_and_alaska_native-of-total_population: string (nullable = true)\n",
            " |-- race_detailed-population-race_alone_or_in_combination_with_one_or_more_other_races_asian_total_population: string (nullable = true)\n",
            " |-- race_detailed-percent-race_alone_or_in_combination_with_one_or_more_other_races_asian-of-total_population: string (nullable = true)\n",
            " |-- race_detailed-population-race_alone_or_in_combination_with_one_or_more_other_races_native_hawaiian_and_other_pacific_islander_total_population: string (nullable = true)\n",
            " |-- race_detailed-percent-race_alone_or_in_combination_with_one_or_more_other_races_native_hawaiian_and_other_pacific_islander-of-total_population: string (nullable = true)\n",
            " |-- race_detailed-population-race_alone_or_in_combination_with_one_or_more_other_races_other_total_population: string (nullable = true)\n",
            " |-- race_detailed-percent-race_alone_or_in_combination_with_one_or_more_other_races_other-of-total_population: string (nullable = true)\n",
            " |-- hispanic_or_latino_and_race-population-total_population: string (nullable = true)\n",
            " |-- hispanic_or_latino_and_race-population-hispanic_or_latino_of_any_race_total_population: string (nullable = true)\n",
            " |-- hispanic_or_latino_and_race-percent-hispanic_or_latino_of_any_race-of-total_population: string (nullable = true)\n",
            " |-- hispanic_or_latino_and_race_detailed-population-hispanic_or_latino_of_any_race_mexican_total_population: string (nullable = true)\n",
            " |-- hispanic_or_latino_and_race_detailed-percent-hispanic_or_latino_of_any_race_mexican-of-total_population: string (nullable = true)\n",
            " |-- hispanic_or_latino_and_race_detailed-population-hispanic_or_latino_of_any_race_puerto_rican_total_population: string (nullable = true)\n",
            " |-- hispanic_or_latino_and_race_detailed-percent-hispanic_or_latino_of_any_race_puerto_rican-of-total_population: string (nullable = true)\n",
            " |-- hispanic_or_latino_and_race_detailed-population-hispanic_or_latino_of_any_race_cuban_total_population: string (nullable = true)\n",
            " |-- hispanic_or_latino_and_race_detailed-percent-hispanic_or_latino_of_any_race_cuban-of-total_population: string (nullable = true)\n",
            " |-- hispanic_or_latino_and_race_detailed-population-hispanic_or_latino_of_any_race_other_total_population: string (nullable = true)\n",
            " |-- hispanic_or_latino_and_race_detailed-percent-hispanic_or_latino_of_any_race_other-of-total_population: string (nullable = true)\n",
            " |-- hispanic_or_latino_and_race-population-not_hispanic_or_latino_total_population: string (nullable = true)\n",
            " |-- hispanic_or_latino_and_race-percent-not_hispanic_or_latino-of-total_population: string (nullable = true)\n",
            " |-- hispanic_or_latino_and_race_detailed-population-not_hispanic_or_latino_white_total_population: string (nullable = true)\n",
            " |-- hispanic_or_latino_and_race_detailed-percent-not_hispanic_or_latino_white-of-total_population: string (nullable = true)\n",
            " |-- hispanic_or_latino_and_race_detailed-population-not_hispanic_or_latino_black_total_population: string (nullable = true)\n",
            " |-- hispanic_or_latino_and_race_detailed-percent-not_hispanic_or_latino_black-of-total_population: string (nullable = true)\n",
            " |-- hispanic_or_latino_and_race_detailed-population-not_hispanic_or_latino_american_indian_and_alaska_native_total_population: string (nullable = true)\n",
            " |-- hispanic_or_latino_and_race_detailed-percent-not_hispanic_or_latino_american_indian_and_alaska_native-of-total_population: string (nullable = true)\n",
            " |-- hispanic_or_latino_and_race_detailed-population-not_hispanic_or_latino_asian_total_population: string (nullable = true)\n",
            " |-- hispanic_or_latino_and_race_detailed-percent-not_hispanic_or_latino_asian-of-total_population: string (nullable = true)\n",
            " |-- hispanic_or_latino_and_race_detailed-population-not_hispanic_or_latino_native_hawaiian_and_other_pacific_islander_total_population: string (nullable = true)\n",
            " |-- hispanic_or_latino_and_race_detailed-percent-not_hispanic_or_latino_native_hawaiian_and_other_pacific_islander-of-total_population: string (nullable = true)\n",
            " |-- hispanic_or_latino_and_race_detailed-population-not_hispanic_or_latino_other_total_population: string (nullable = true)\n",
            " |-- hispanic_or_latino_and_race_detailed-percent-not_hispanic_or_latino_other-of-total_population: string (nullable = true)\n",
            " |-- hispanic_or_latino_and_race_detailed-population-not_hispanic_or_latino_two_or_more_races_total_population: string (nullable = true)\n",
            " |-- hispanic_or_latino_and_race_detailed-percent-not_hispanic_or_latino_two_or_more_races-of-total_population: string (nullable = true)\n",
            " |-- hispanic_or_latino_and_race_detailed-population-not_hispanic_or_latino_two_or_more_races_including_some_other_race_total_population: string (nullable = true)\n",
            " |-- hispanic_or_latino_and_race_detailed-percent-not_hispanic_or_latino_two_or_more_races_including_some_other_race-of-total_population: string (nullable = true)\n",
            " |-- hispanic_or_latino_and_race_detailed-population-not_hispanic_or_latino_two_or_more_races_excluding_some_other_race_and_three_or_more_races_total_population: string (nullable = true)\n",
            " |-- hispanic_or_latino_and_race_detailed-percent-not_hispanic_or_latino_two_or_more_races_excluding_some_other_race_and_three_or_more_races-of-total_population: string (nullable = true)\n",
            " |-- hispanic_or_latino_and_race-housing_units-total_housing_units: string (nullable = true)\n",
            " |-- citizen_voting_age_population-population-citizen_18_and_over_population: string (nullable = true)\n",
            " |-- citizen_voting_age_population-population-male_citizen_18_and_over_population: string (nullable = true)\n",
            " |-- citizen_voting_age_population-percent-male-of-citizen_18_and_over_population: string (nullable = true)\n",
            " |-- citizen_voting_age_population-population-female_citizen_18_and_over_population: string (nullable = true)\n",
            " |-- citizen_voting_age_population-percent-female-of-citizen_18_and_over_population: string (nullable = true)\n",
            "\n"
          ]
        }
      ]
    },
    {
      "cell_type": "code",
      "source": [
        "demo.select('sex_and_age-population-total_population').show(5)#sample column selection"
      ],
      "metadata": {
        "id": "pNpCLcqdROH4",
        "colab": {
          "base_uri": "https://localhost:8080/"
        },
        "outputId": "c4204247-b7c2-406f-ce61-64cb633b4bbc"
      },
      "execution_count": null,
      "outputs": [
        {
          "output_type": "stream",
          "name": "stdout",
          "text": [
            "+---------------------------------------+\n",
            "|sex_and_age-population-total_population|\n",
            "+---------------------------------------+\n",
            "|                                  17800|\n",
            "|                                  39716|\n",
            "|                                  51565|\n",
            "|                                   6320|\n",
            "|                                  27976|\n",
            "+---------------------------------------+\n",
            "only showing top 5 rows\n",
            "\n"
          ]
        }
      ]
    },
    {
      "cell_type": "markdown",
      "source": [
        "## Column Conversion"
      ],
      "metadata": {
        "id": "tikymksA6Ner"
      }
    },
    {
      "cell_type": "code",
      "source": [
        "# cast all columns but ZCTA5 to float:\n",
        "for col_name in demo.columns[1:]:\n",
        "  demo = demo.withColumn(col_name, F.col(col_name).cast(\"float\"))\n",
        "demo.printSchema()"
      ],
      "metadata": {
        "id": "Kmb2ZpYKzKEH",
        "colab": {
          "base_uri": "https://localhost:8080/"
        },
        "outputId": "e5d7867b-330e-463c-dd3a-af4b5c518139"
      },
      "execution_count": null,
      "outputs": [
        {
          "output_type": "stream",
          "name": "stdout",
          "text": [
            "root\n",
            " |-- ZCTA5: string (nullable = true)\n",
            " |-- sex_and_age-population-total_population: float (nullable = true)\n",
            " |-- sex_and_age-population-male_total_population: float (nullable = true)\n",
            " |-- sex_and_age-percent-male-of-total_population: float (nullable = true)\n",
            " |-- sex_and_age-population-female_total_population: float (nullable = true)\n",
            " |-- sex_and_age-percent-female-of-total_population: float (nullable = true)\n",
            " |-- sex_and_age-population-under_5_years_total_population: float (nullable = true)\n",
            " |-- sex_and_age-percent-under_5_years-of-total_population: float (nullable = true)\n",
            " |-- sex_and_age-population-5_to_9_years_total_population: float (nullable = true)\n",
            " |-- sex_and_age-percent-5_to_9_years-of-total_population: float (nullable = true)\n",
            " |-- sex_and_age-population-10_to_14_years_total_population: float (nullable = true)\n",
            " |-- sex_and_age-percent-10_to_14_years-of-total_population: float (nullable = true)\n",
            " |-- sex_and_age-population-15_to_19_years_total_population: float (nullable = true)\n",
            " |-- sex_and_age-percent-15_to_19_years-of-total_population: float (nullable = true)\n",
            " |-- sex_and_age-population-20_to_24_years_total_population: float (nullable = true)\n",
            " |-- sex_and_age-percent-20_to_24_years-of-total_population: float (nullable = true)\n",
            " |-- sex_and_age-population-25_to_34_years_total_population: float (nullable = true)\n",
            " |-- sex_and_age-percent-25_to_34_years-of-total_population: float (nullable = true)\n",
            " |-- sex_and_age-population-35_to_44_years_total_population: float (nullable = true)\n",
            " |-- sex_and_age-percent-35_to_44_years-of-total_population: float (nullable = true)\n",
            " |-- sex_and_age-population-45_to_54_years_total_population: float (nullable = true)\n",
            " |-- sex_and_age-percent-45_to_54_years-of-total_population: float (nullable = true)\n",
            " |-- sex_and_age-population-55_to_59_years_total_population: float (nullable = true)\n",
            " |-- sex_and_age-percent-55_to_59_years-of-total_population: float (nullable = true)\n",
            " |-- sex_and_age-population-60_to_64_years_total_population: float (nullable = true)\n",
            " |-- sex_and_age-percent-60_to_64_years-of-total_population: float (nullable = true)\n",
            " |-- sex_and_age-population-65_to_74_years_total_population: float (nullable = true)\n",
            " |-- sex_and_age-percent-65_to_74_years-of-total_population: float (nullable = true)\n",
            " |-- sex_and_age-population-75_to_84_years_total_population: float (nullable = true)\n",
            " |-- sex_and_age-percent-75_to_84_years-of-total_population: float (nullable = true)\n",
            " |-- sex_and_age-population-85_years_and_over_total_population: float (nullable = true)\n",
            " |-- sex_and_age-percent-85_years_and_over-of-total_population: float (nullable = true)\n",
            " |-- sex_and_age-age-median_age_years_total_population: float (nullable = true)\n",
            " |-- sex_and_age-population-18_years_and_over_total_population: float (nullable = true)\n",
            " |-- sex_and_age-percent-18_years_and_over-of-total_population: float (nullable = true)\n",
            " |-- sex_and_age-population-21_years_and_over_total_population: float (nullable = true)\n",
            " |-- sex_and_age-percent-21_years_and_over-of-total_population: float (nullable = true)\n",
            " |-- sex_and_age-population-62_years_and_over_total_population: float (nullable = true)\n",
            " |-- sex_and_age-percent-62_years_and_over-of-total_population: float (nullable = true)\n",
            " |-- sex_and_age-population-65_years_and_over_total_population: float (nullable = true)\n",
            " |-- sex_and_age-percent-65_years_and_over-of-total_population: float (nullable = true)\n",
            " |-- sex_and_age-population-male_18_years_and_over_population: float (nullable = true)\n",
            " |-- sex_and_age-percent-male-of-18_years_and_over_population: float (nullable = true)\n",
            " |-- sex_and_age-population-female_18_years_and_over_population: float (nullable = true)\n",
            " |-- sex_and_age-percent-female-of-18_years_and_over_population: float (nullable = true)\n",
            " |-- sex_and_age-population-male_65_years_and_over_population: float (nullable = true)\n",
            " |-- sex_and_age-percent-male-of-65_years_and_over_population: float (nullable = true)\n",
            " |-- sex_and_age-population-female_65_years_and_over_population: float (nullable = true)\n",
            " |-- sex_and_age-percent-female-of-65_years_and_over_population: float (nullable = true)\n",
            " |-- race-population-total_population: float (nullable = true)\n",
            " |-- race-population-one_race_total_population: float (nullable = true)\n",
            " |-- race-percent-one_race-of-total_population: float (nullable = true)\n",
            " |-- race-population-two_or_more_races_total_population: float (nullable = true)\n",
            " |-- race-percent-two_or_more_races-of-total_population: float (nullable = true)\n",
            " |-- race-population-one_race_white_total_population: float (nullable = true)\n",
            " |-- race-percent-one_race_white-of-total_population: float (nullable = true)\n",
            " |-- race-population-one_race_black_total_population: float (nullable = true)\n",
            " |-- race-percent-one_race_black-of-total_population: float (nullable = true)\n",
            " |-- race-population-one_race_american_indian_and_alaska_native_total_population: float (nullable = true)\n",
            " |-- race-percent-one_race_american_indian_and_alaska_native-of-total_population: float (nullable = true)\n",
            " |-- race_detailed-population-one_race_american_indian_and_alaska_native_cherokee_tribal_grouping_total_population: float (nullable = true)\n",
            " |-- race_detailed-percent-one_race_american_indian_and_alaska_native_cherokee_tribal_grouping-of-total_population: float (nullable = true)\n",
            " |-- race_detailed-population-one_race_american_indian_and_alaska_native_chippewa_tribal_grouping_total_population: float (nullable = true)\n",
            " |-- race_detailed-percent-one_race_american_indian_and_alaska_native_chippewa_tribal_grouping-of-total_population: float (nullable = true)\n",
            " |-- race_detailed-population-one_race_american_indian_and_alaska_native_navajo_tribal_grouping_total_population: float (nullable = true)\n",
            " |-- race_detailed-percent-one_race_american_indian_and_alaska_native_navajo_tribal_grouping-of-total_population: float (nullable = true)\n",
            " |-- race_detailed-population-one_race_american_indian_and_alaska_native_sioux_tribal_grouping_total_population: float (nullable = true)\n",
            " |-- race_detailed-percent-one_race_american_indian_and_alaska_native_sioux_tribal_grouping-of-total_population: float (nullable = true)\n",
            " |-- race-population-one_race_asian_total_population: float (nullable = true)\n",
            " |-- race-percent-one_race_asian-of-total_population: float (nullable = true)\n",
            " |-- race_detailed-population-one_race_asian_indian_total_population: float (nullable = true)\n",
            " |-- race_detailed-percent-one_race_asian_indian-of-total_population: float (nullable = true)\n",
            " |-- race_detailed-population-one_race_asian_chinese_total_population: float (nullable = true)\n",
            " |-- race_detailed-percent-one_race_asian_chinese-of-total_population: float (nullable = true)\n",
            " |-- race_detailed-population-one_race_asian_filipino_total_population: float (nullable = true)\n",
            " |-- race_detailed-percent-one_race_asian_filipino-of-total_population: float (nullable = true)\n",
            " |-- race_detailed-population-one_race_asian_japanese_total_population: float (nullable = true)\n",
            " |-- race_detailed-percent-one_race_asian_japanese-of-total_population: float (nullable = true)\n",
            " |-- race_detailed-population-one_race_asian_korean_total_population: float (nullable = true)\n",
            " |-- race_detailed-percent-one_race_asian_korean-of-total_population: float (nullable = true)\n",
            " |-- race_detailed-population-one_race_asian_vietnamese_total_population: float (nullable = true)\n",
            " |-- race_detailed-percent-one_race_asian_vietnamese-of-total_population: float (nullable = true)\n",
            " |-- race_detailed-population-one_race_asian_other_total_population: float (nullable = true)\n",
            " |-- race_detailed-percent-one_race_asian_other-of-total_population: float (nullable = true)\n",
            " |-- race-population-one_race_native_hawaiian_and_other_pacific_islander_total_population: float (nullable = true)\n",
            " |-- race-percent-one_race_native_hawaiian_and_other_pacific_islander-of-total_population: float (nullable = true)\n",
            " |-- race_detailed-population-one_race_native_hawaiian_and_other_pacific_islander_native_hawaiian_total_population: float (nullable = true)\n",
            " |-- race_detailed-percent-one_race_native_hawaiian_and_other_pacific_islander_native_hawaiian-of-total_population: float (nullable = true)\n",
            " |-- race_detailed-population-one_race_native_hawaiian_and_other_pacific_islander_guamanian_or_chamorro_total_population: float (nullable = true)\n",
            " |-- race_detailed-percent-one_race_native_hawaiian_and_other_pacific_islander_guamanian_or_chamorro-of-total_population: float (nullable = true)\n",
            " |-- race_detailed-population-one_race_native_hawaiian_and_other_pacific_islander_samoan_total_population: float (nullable = true)\n",
            " |-- race_detailed-percent-one_race_native_hawaiian_and_other_pacific_islander_samoan-of-total_population: float (nullable = true)\n",
            " |-- race_detailed-population-one_race_native_hawaiian_and_other_pacific_islander_other_pacific_islander_total_population: float (nullable = true)\n",
            " |-- race_detailed-percent-one_race_native_hawaiian_and_other_pacific_islander_other_pacific_islander-of-total_population: float (nullable = true)\n",
            " |-- race-population-one_race_other_total_population: float (nullable = true)\n",
            " |-- race-percent-one_race_other-of-total_population: float (nullable = true)\n",
            " |-- race_detailed-population-two_or_more_races-white_and_black_total_population: float (nullable = true)\n",
            " |-- race_detailed-percent-two_or_more_races-white_and_black-of-total_population: float (nullable = true)\n",
            " |-- race_detailed-population-two_or_more_races-white_and_american_indian_and_alaska_native_total_population: float (nullable = true)\n",
            " |-- race_detailed-percent-two_or_more_races-white_and_american_indian_and_alaska_native-of-total_population: float (nullable = true)\n",
            " |-- race_detailed-population-two_or_more_races-white_and_asian_total_population: float (nullable = true)\n",
            " |-- race_detailed-percent-two_or_more_races-white_and_asian-of-total_population: float (nullable = true)\n",
            " |-- race_detailed-population-two_or_more_races-black_and_american_indian_and_alaska_native_total_population: float (nullable = true)\n",
            " |-- race_detailed-percent-two_or_more_races-black_and_american_indian_and_alaska_native-of-total_population: float (nullable = true)\n",
            " |-- race_detailed-population-race_alone_or_in_combination_with_one_or_more_other_races_white_total_population: float (nullable = true)\n",
            " |-- race_detailed-percent-race_alone_or_in_combination_with_one_or_more_other_races_white-of-total_population: float (nullable = true)\n",
            " |-- race_detailed-population-race_alone_or_in_combination_with_one_or_more_other_races_black_total_population: float (nullable = true)\n",
            " |-- race_detailed-percent-race_alone_or_in_combination_with_one_or_more_other_races_black-of-total_population: float (nullable = true)\n",
            " |-- race_detailed-population-race_alone_or_in_combination_with_one_or_more_other_races_american_indian_and_alaska_native_total_population: float (nullable = true)\n",
            " |-- race_detailed-percent-race_alone_or_in_combination_with_one_or_more_other_races_american_indian_and_alaska_native-of-total_population: float (nullable = true)\n",
            " |-- race_detailed-population-race_alone_or_in_combination_with_one_or_more_other_races_asian_total_population: float (nullable = true)\n",
            " |-- race_detailed-percent-race_alone_or_in_combination_with_one_or_more_other_races_asian-of-total_population: float (nullable = true)\n",
            " |-- race_detailed-population-race_alone_or_in_combination_with_one_or_more_other_races_native_hawaiian_and_other_pacific_islander_total_population: float (nullable = true)\n",
            " |-- race_detailed-percent-race_alone_or_in_combination_with_one_or_more_other_races_native_hawaiian_and_other_pacific_islander-of-total_population: float (nullable = true)\n",
            " |-- race_detailed-population-race_alone_or_in_combination_with_one_or_more_other_races_other_total_population: float (nullable = true)\n",
            " |-- race_detailed-percent-race_alone_or_in_combination_with_one_or_more_other_races_other-of-total_population: float (nullable = true)\n",
            " |-- hispanic_or_latino_and_race-population-total_population: float (nullable = true)\n",
            " |-- hispanic_or_latino_and_race-population-hispanic_or_latino_of_any_race_total_population: float (nullable = true)\n",
            " |-- hispanic_or_latino_and_race-percent-hispanic_or_latino_of_any_race-of-total_population: float (nullable = true)\n",
            " |-- hispanic_or_latino_and_race_detailed-population-hispanic_or_latino_of_any_race_mexican_total_population: float (nullable = true)\n",
            " |-- hispanic_or_latino_and_race_detailed-percent-hispanic_or_latino_of_any_race_mexican-of-total_population: float (nullable = true)\n",
            " |-- hispanic_or_latino_and_race_detailed-population-hispanic_or_latino_of_any_race_puerto_rican_total_population: float (nullable = true)\n",
            " |-- hispanic_or_latino_and_race_detailed-percent-hispanic_or_latino_of_any_race_puerto_rican-of-total_population: float (nullable = true)\n",
            " |-- hispanic_or_latino_and_race_detailed-population-hispanic_or_latino_of_any_race_cuban_total_population: float (nullable = true)\n",
            " |-- hispanic_or_latino_and_race_detailed-percent-hispanic_or_latino_of_any_race_cuban-of-total_population: float (nullable = true)\n",
            " |-- hispanic_or_latino_and_race_detailed-population-hispanic_or_latino_of_any_race_other_total_population: float (nullable = true)\n",
            " |-- hispanic_or_latino_and_race_detailed-percent-hispanic_or_latino_of_any_race_other-of-total_population: float (nullable = true)\n",
            " |-- hispanic_or_latino_and_race-population-not_hispanic_or_latino_total_population: float (nullable = true)\n",
            " |-- hispanic_or_latino_and_race-percent-not_hispanic_or_latino-of-total_population: float (nullable = true)\n",
            " |-- hispanic_or_latino_and_race_detailed-population-not_hispanic_or_latino_white_total_population: float (nullable = true)\n",
            " |-- hispanic_or_latino_and_race_detailed-percent-not_hispanic_or_latino_white-of-total_population: float (nullable = true)\n",
            " |-- hispanic_or_latino_and_race_detailed-population-not_hispanic_or_latino_black_total_population: float (nullable = true)\n",
            " |-- hispanic_or_latino_and_race_detailed-percent-not_hispanic_or_latino_black-of-total_population: float (nullable = true)\n",
            " |-- hispanic_or_latino_and_race_detailed-population-not_hispanic_or_latino_american_indian_and_alaska_native_total_population: float (nullable = true)\n",
            " |-- hispanic_or_latino_and_race_detailed-percent-not_hispanic_or_latino_american_indian_and_alaska_native-of-total_population: float (nullable = true)\n",
            " |-- hispanic_or_latino_and_race_detailed-population-not_hispanic_or_latino_asian_total_population: float (nullable = true)\n",
            " |-- hispanic_or_latino_and_race_detailed-percent-not_hispanic_or_latino_asian-of-total_population: float (nullable = true)\n",
            " |-- hispanic_or_latino_and_race_detailed-population-not_hispanic_or_latino_native_hawaiian_and_other_pacific_islander_total_population: float (nullable = true)\n",
            " |-- hispanic_or_latino_and_race_detailed-percent-not_hispanic_or_latino_native_hawaiian_and_other_pacific_islander-of-total_population: float (nullable = true)\n",
            " |-- hispanic_or_latino_and_race_detailed-population-not_hispanic_or_latino_other_total_population: float (nullable = true)\n",
            " |-- hispanic_or_latino_and_race_detailed-percent-not_hispanic_or_latino_other-of-total_population: float (nullable = true)\n",
            " |-- hispanic_or_latino_and_race_detailed-population-not_hispanic_or_latino_two_or_more_races_total_population: float (nullable = true)\n",
            " |-- hispanic_or_latino_and_race_detailed-percent-not_hispanic_or_latino_two_or_more_races-of-total_population: float (nullable = true)\n",
            " |-- hispanic_or_latino_and_race_detailed-population-not_hispanic_or_latino_two_or_more_races_including_some_other_race_total_population: float (nullable = true)\n",
            " |-- hispanic_or_latino_and_race_detailed-percent-not_hispanic_or_latino_two_or_more_races_including_some_other_race-of-total_population: float (nullable = true)\n",
            " |-- hispanic_or_latino_and_race_detailed-population-not_hispanic_or_latino_two_or_more_races_excluding_some_other_race_and_three_or_more_races_total_population: float (nullable = true)\n",
            " |-- hispanic_or_latino_and_race_detailed-percent-not_hispanic_or_latino_two_or_more_races_excluding_some_other_race_and_three_or_more_races-of-total_population: float (nullable = true)\n",
            " |-- hispanic_or_latino_and_race-housing_units-total_housing_units: float (nullable = true)\n",
            " |-- citizen_voting_age_population-population-citizen_18_and_over_population: float (nullable = true)\n",
            " |-- citizen_voting_age_population-population-male_citizen_18_and_over_population: float (nullable = true)\n",
            " |-- citizen_voting_age_population-percent-male-of-citizen_18_and_over_population: float (nullable = true)\n",
            " |-- citizen_voting_age_population-population-female_citizen_18_and_over_population: float (nullable = true)\n",
            " |-- citizen_voting_age_population-percent-female-of-citizen_18_and_over_population: float (nullable = true)\n",
            "\n"
          ]
        }
      ]
    },
    {
      "cell_type": "markdown",
      "source": [
        "It worked! Now for the rest. We will assume that the zipcode is in the first column for all the files. (This will be checked, of course)"
      ],
      "metadata": {
        "id": "d18-afiA2nWv"
      }
    },
    {
      "cell_type": "code",
      "source": [
        "for col_name in econ.columns[1:]:\n",
        "  econ = econ.withColumn(col_name, F.col(col_name).cast(\"float\"))\n",
        "econ.printSchema()"
      ],
      "metadata": {
        "id": "XXZoaUXZ2uRx",
        "colab": {
          "base_uri": "https://localhost:8080/"
        },
        "outputId": "54854233-d2b5-44ac-8e82-9fedaf64f7a5"
      },
      "execution_count": null,
      "outputs": [
        {
          "output_type": "stream",
          "name": "stdout",
          "text": [
            "root\n",
            " |-- ZCTA5: string (nullable = true)\n",
            " |-- employment_status-population-population_16_years_and_over: float (nullable = true)\n",
            " |-- employment_status-population-in_labor_force_population_16_years_and_over: float (nullable = true)\n",
            " |-- employment_status-percent-in_labor_force-of-population_16_years_and_over: float (nullable = true)\n",
            " |-- employment_status-population-in_civilian_labor_force_population_16_years_and_over: float (nullable = true)\n",
            " |-- employment_status-percent-in_civilian_labor_force-of-population_16_years_and_over: float (nullable = true)\n",
            " |-- employment_status-population-employed_population_16_years_and_over: float (nullable = true)\n",
            " |-- employment_status-percent-employed-of-population_16_years_and_over: float (nullable = true)\n",
            " |-- employment_status-population-unemployed_population_16_years_and_over: float (nullable = true)\n",
            " |-- employment_status-percent-unemployed-of-population_16_years_and_over: float (nullable = true)\n",
            " |-- employment_status-population-armed_forces_population_16_years_and_over: float (nullable = true)\n",
            " |-- employment_status-percent-armed_forces-of-population_16_years_and_over: float (nullable = true)\n",
            " |-- employment_status-population-not_in_labor_force_population_16_years_and_over: float (nullable = true)\n",
            " |-- employment_status-percent-not_in_labor_force-of-population_16_years_and_over: float (nullable = true)\n",
            " |-- employment_status-percent-unemployed-of-civilian_labor_force_population_16_years_and_over: float (nullable = true)\n",
            " |-- employment_status-population_females_16_years_and_over: float (nullable = true)\n",
            " |-- employment_status-population-in_labor_force_females_16_years_and_over: float (nullable = true)\n",
            " |-- employment_status-percent-in_labor_force-of-females_16_years_and_over: float (nullable = true)\n",
            " |-- employment_status-population-in_civilian_labor_force_females_16_years_and_over: float (nullable = true)\n",
            " |-- employment_status-percent-in_civilian_labor_force-of-females_16_years_and_over: float (nullable = true)\n",
            " |-- employment_status-population-employed_females_16_years_and_over: float (nullable = true)\n",
            " |-- employment_status-percent-employed-of-females_16_years_and_over: float (nullable = true)\n",
            " |-- employment_status-population_own_children_of_the_householder_under_6_years: float (nullable = true)\n",
            " |-- employment_status-population-all_parents_in_family_in_labor_force_own_children_of_the_householder_under_6_years: float (nullable = true)\n",
            " |-- employment_status-percent-all_parents_in_family_in_labor_force-of-own_children_of_the_householder_under_6_years: float (nullable = true)\n",
            " |-- employment_status-population_own_children_of_the_householder_6_to_17_years: float (nullable = true)\n",
            " |-- employment_status-population-all_parents_in_family_in_labor_force_own_children_of_the_householder_6_to_17_years: float (nullable = true)\n",
            " |-- employment_status-percent-all_parents_in_family_in_labor_force-of-own_children_of_the_householder_6_to_17_years: float (nullable = true)\n",
            " |-- commuting_to_work-population_workers_16_years_and_over: float (nullable = true)\n",
            " |-- commuting_to_work-population-car_truck_or_van_alone_workers_16_years_and_over: float (nullable = true)\n",
            " |-- commuting_to_work-percent-car_truck_or_van_alone-of-workers_16_years_and_over: float (nullable = true)\n",
            " |-- commuting_to_work-population-car_truck_or_van_carpooled_workers_16_years_and_over: float (nullable = true)\n",
            " |-- commuting_to_work-percent-car_truck_or_van_carpooled-of-workers_16_years_and_over: float (nullable = true)\n",
            " |-- commuting_to_work-population-public_transportation_excluding_taxicab_workers_16_years_and_over: float (nullable = true)\n",
            " |-- commuting_to_work-percent-public_transportation_excluding_taxicab-of-workers_16_years_and_over: float (nullable = true)\n",
            " |-- commuting_to_work-population-walked_workers_16_years_and_over: float (nullable = true)\n",
            " |-- commuting_to_work-percent-walked-of-workers_16_years_and_over: float (nullable = true)\n",
            " |-- commuting_to_work-population-other_means_workers_16_years_and_over: float (nullable = true)\n",
            " |-- commuting_to_work-percent-other_means-of-workers_16_years_and_over: float (nullable = true)\n",
            " |-- commuting_to_work-population-worked_at_home_workers_16_years_and_over: float (nullable = true)\n",
            " |-- commuting_to_work-percent-worked_at_home-of-workers_16_years_and_over: float (nullable = true)\n",
            " |-- commuting_to_work-minutes-mean_travel_time_to_work_minutes: float (nullable = true)\n",
            " |-- occupation-population-civilian_employed_population_16_years_and_over: float (nullable = true)\n",
            " |-- occupation-population-management_business_science_and_arts_occupations_civilian_employed_population_16_years_and_over: float (nullable = true)\n",
            " |-- occupation-percent-management_business_science_and_arts_occupations-of-civilian_employed_population_16_years_and_over: float (nullable = true)\n",
            " |-- occupation-population-service_occupations_civilian_employed_population_16_years_and_over: float (nullable = true)\n",
            " |-- occupation-percent-service_occupations-of-civilian_employed_population_16_years_and_over: float (nullable = true)\n",
            " |-- occupation-population-sales_and_office_occupations_civilian_employed_population_16_years_and_over: float (nullable = true)\n",
            " |-- occupation-percent-sales_and_office_occupations-of-civilian_employed_population_16_years_and_over: float (nullable = true)\n",
            " |-- occupation-population-natural_resources_construction_and_maintenance_occupations_civilian_employed_population_16_years_and_over: float (nullable = true)\n",
            " |-- occupation-percent-natural_resources_construction_and_maintenance_occupations-of-civilian_employed_population_16_years_and_over: float (nullable = true)\n",
            " |-- occupation-population-production_transportation_and_material_moving_occupations_civilian_employed_population_16_years_and_over: float (nullable = true)\n",
            " |-- occupation-percent-production_transportation_and_material_moving_occupations-of-civilian_employed_population_16_years_and_over: float (nullable = true)\n",
            " |-- industry-population-civilian_employed_population_16_years_and_over: float (nullable = true)\n",
            " |-- industry-population-agriculture_forestry_fishing_and_hunting_and_mining_civilian_employed_population_16_years_and_over: float (nullable = true)\n",
            " |-- industry-percent-agriculture_forestry_fishing_and_hunting_and_mining-of-civilian_employed_population_16_years_and_over: float (nullable = true)\n",
            " |-- industry-population-construction_civilian_employed_population_16_years_and_over: float (nullable = true)\n",
            " |-- industry-percent-construction-of-civilian_employed_population_16_years_and_over: float (nullable = true)\n",
            " |-- industry-population-manufacturing_civilian_employed_population_16_years_and_over: float (nullable = true)\n",
            " |-- industry-percent-manufacturing-of-civilian_employed_population_16_years_and_over: float (nullable = true)\n",
            " |-- industry-population-wholesale_trade_civilian_employed_population_16_years_and_over: float (nullable = true)\n",
            " |-- industry-percent-wholesale_trade-of-civilian_employed_population_16_years_and_over: float (nullable = true)\n",
            " |-- industry-population-retail_trade_civilian_employed_population_16_years_and_over: float (nullable = true)\n",
            " |-- industry-percent-retail_trade-of-civilian_employed_population_16_years_and_over: float (nullable = true)\n",
            " |-- industry-population-transportation_and_warehousing_and_utilities_civilian_employed_population_16_years_and_over: float (nullable = true)\n",
            " |-- industry-percent-transportation_and_warehousing_and_utilities-of-civilian_employed_population_16_years_and_over: float (nullable = true)\n",
            " |-- industry-population-information_civilian_employed_population_16_years_and_over: float (nullable = true)\n",
            " |-- industry-percent-information-of-civilian_employed_population_16_years_and_over: float (nullable = true)\n",
            " |-- industry-population-finance_and_insurance_and_real_estate_and_rental_and_leasing_civilian_employed_population_16_years_and_over: float (nullable = true)\n",
            " |-- industry-percent-finance_and_insurance_and_real_estate_and_rental_and_leasing-of-civilian_employed_population_16_years_and_over: float (nullable = true)\n",
            " |-- industry-population-professional_scientific_and_management_and_administrative_and_waste_management_services_civilian_employed_population_16_years_and_over: float (nullable = true)\n",
            " |-- industry-percent-professional_scientific_and_management_and_administrative_and_waste_management_services-of-civilian_employed_population_16_years_and_over: float (nullable = true)\n",
            " |-- industry-population-educational_services_and_health_care_and_social_assistance_civilian_employed_population_16_years_and_over: float (nullable = true)\n",
            " |-- industry-percent-educational_services_and_health_care_and_social_assistance-of-civilian_employed_population_16_years_and_over: float (nullable = true)\n",
            " |-- industry-population-arts_entertainment_and_recreation_and_accommodation_and_food_services_civilian_employed_population_16_years_and_over: float (nullable = true)\n",
            " |-- industry-percent-arts_entertainment_and_recreation_and_accommodation_and_food_services-of-civilian_employed_population_16_years_and_over: float (nullable = true)\n",
            " |-- industry-population-other_services_except_public_administration_civilian_employed_population_16_years_and_over: float (nullable = true)\n",
            " |-- industry-percent-other_services_except_public_administration-of-civilian_employed_population_16_years_and_over: float (nullable = true)\n",
            " |-- industry-population-public_administration_civilian_employed_population_16_years_and_over: float (nullable = true)\n",
            " |-- industry-percent-public_administration-of-civilian_employed_population_16_years_and_over: float (nullable = true)\n",
            " |-- class_of_worker-population-civilian_employed_population_16_years_and_over: float (nullable = true)\n",
            " |-- class_of_worker-population-private_wage_and_salary_workers_civilian_employed_population_16_years_and_over: float (nullable = true)\n",
            " |-- class_of_worker-percent-private_wage_and_salary_workers-of-civilian_employed_population_16_years_and_over: float (nullable = true)\n",
            " |-- class_of_worker-population-government_workers_civilian_employed_population_16_years_and_over: float (nullable = true)\n",
            " |-- class_of_worker-percent-government_workers-of-civilian_employed_population_16_years_and_over: float (nullable = true)\n",
            " |-- class_of_worker-population-self_employed_in_own_not_incorporated_business_workers_civilian_employed_population_16_years_and_over: float (nullable = true)\n",
            " |-- class_of_worker-percent-self_employed_in_own_not_incorporated_business_workers-of-civilian_employed_population_16_years_and_over: float (nullable = true)\n",
            " |-- class_of_worker-population-unpaid_family_workers_civilian_employed_population_16_years_and_over: float (nullable = true)\n",
            " |-- class_of_worker-percent-unpaid_family_workers-of-civilian_employed_population_16_years_and_over: float (nullable = true)\n",
            " |-- income_and_benefits_in_2016_inflation_adjusted_dollars-households-total_households: float (nullable = true)\n",
            " |-- income_and_benefits_in_2016_inflation_adjusted_dollars-households-less_than_10000_total_households: float (nullable = true)\n",
            " |-- income_and_benefits_in_2016_inflation_adjusted_dollars-percent-less_than_10000-of-total_households: float (nullable = true)\n",
            " |-- income_and_benefits_in_2016_inflation_adjusted_dollars-households-10000_to_14999_total_households: float (nullable = true)\n",
            " |-- income_and_benefits_in_2016_inflation_adjusted_dollars-percent-10000_to_14999-of-total_households: float (nullable = true)\n",
            " |-- income_and_benefits_in_2016_inflation_adjusted_dollars-households-15000_to_24999_total_households: float (nullable = true)\n",
            " |-- income_and_benefits_in_2016_inflation_adjusted_dollars-percent-15000_to_24999-of-total_households: float (nullable = true)\n",
            " |-- income_and_benefits_in_2016_inflation_adjusted_dollars-households-25000_to_34999_total_households: float (nullable = true)\n",
            " |-- income_and_benefits_in_2016_inflation_adjusted_dollars-percent-25000_to_34999-of-total_households: float (nullable = true)\n",
            " |-- income_and_benefits_in_2016_inflation_adjusted_dollars-households-35000_to_49999_total_households: float (nullable = true)\n",
            " |-- income_and_benefits_in_2016_inflation_adjusted_dollars-percent-35000_to_49999-of-total_households: float (nullable = true)\n",
            " |-- income_and_benefits_in_2016_inflation_adjusted_dollars-households-50000_to_74999_total_households: float (nullable = true)\n",
            " |-- income_and_benefits_in_2016_inflation_adjusted_dollars-percent-50000_to_74999-of-total_households: float (nullable = true)\n",
            " |-- income_and_benefits_in_2016_inflation_adjusted_dollars-households-75000_to_99999_total_households: float (nullable = true)\n",
            " |-- income_and_benefits_in_2016_inflation_adjusted_dollars-percent-75000_to_99999-of-total_households: float (nullable = true)\n",
            " |-- income_and_benefits_in_2016_inflation_adjusted_dollars-households-100000_to_149999_total_households: float (nullable = true)\n",
            " |-- income_and_benefits_in_2016_inflation_adjusted_dollars-percent-100000_to_149999-of-total_households: float (nullable = true)\n",
            " |-- income_and_benefits_in_2016_inflation_adjusted_dollars-households-150000_to_199999_total_households: float (nullable = true)\n",
            " |-- income_and_benefits_in_2016_inflation_adjusted_dollars-percent-150000_to_199999-of-total_households: float (nullable = true)\n",
            " |-- income_and_benefits_in_2016_inflation_adjusted_dollars-households-200000_or_more_total_households: float (nullable = true)\n",
            " |-- income_and_benefits_in_2016_inflation_adjusted_dollars-percent-200000_or_more-of-total_households: float (nullable = true)\n",
            " |-- income_and_benefits_in_2016_inflation_adjusted_dollars-dollars-median_household_income_dollars: float (nullable = true)\n",
            " |-- income_and_benefits_in_2016_inflation_adjusted_dollars-dollars-mean_household_income_dollars: float (nullable = true)\n",
            " |-- income_and_benefits_in_2016_inflation_adjusted_dollars-households-households_with_earnings: float (nullable = true)\n",
            " |-- income_and_benefits_in_2016_inflation_adjusted_dollars-percent-households_with_earnings-of-total_households: float (nullable = true)\n",
            " |-- income_and_benefits_in_2016_inflation_adjusted_dollars-dollars-mean_earnings_dollars_households_with_earnings: float (nullable = true)\n",
            " |-- income_and_benefits_in_2016_inflation_adjusted_dollars-households-households_with_social_security: float (nullable = true)\n",
            " |-- income_and_benefits_in_2016_inflation_adjusted_dollars-percent-households_with_social_security-of-total_households: float (nullable = true)\n",
            " |-- income_and_benefits_in_2016_inflation_adjusted_dollars-dollars-mean_social_security_income_dollars_households_with_social_security: float (nullable = true)\n",
            " |-- income_and_benefits_in_2016_inflation_adjusted_dollars-households-households_with_retirement_income: float (nullable = true)\n",
            " |-- income_and_benefits_in_2016_inflation_adjusted_dollars-percent-households_with_retirement_income-of-total_households: float (nullable = true)\n",
            " |-- income_and_benefits_in_2016_inflation_adjusted_dollars-households-mean_retirement_income_dollars_households_with_retirement_income: float (nullable = true)\n",
            " |-- income_and_benefits_in_2016_inflation_adjusted_dollars-households-households_with_supplemental_security_income: float (nullable = true)\n",
            " |-- income_and_benefits_in_2016_inflation_adjusted_dollars-percent-households_with_supplemental_security_income-of-total_households: float (nullable = true)\n",
            " |-- income_and_benefits_in_2016_inflation_adjusted_dollars-dollars-mean_supplemental_security_income_dollars_households_with_supplemental_security_income: float (nullable = true)\n",
            " |-- income_and_benefits_in_2016_inflation_adjusted_dollars-households-households_with_cash_public_assistance_income: float (nullable = true)\n",
            " |-- income_and_benefits_in_2016_inflation_adjusted_dollars-percent-with_cash_public_assistance_income-of-total_households: float (nullable = true)\n",
            " |-- income_and_benefits_in_2016_inflation_adjusted_dollars-dollars-mean_cash_public_assistance_income_dollars_households_with_cash_public_assistance_income: float (nullable = true)\n",
            " |-- income_and_benefits_in_2016_inflation_adjusted_dollars-households-households_with_food_stampsnap_benefits_in_the_past_12_months: float (nullable = true)\n",
            " |-- income_and_benefits_in_2016_inflation_adjusted_dollars-percent-households_with_food_stampsnap_benefits_in_the_past_12_months-of-total_households: float (nullable = true)\n",
            " |-- income_and_benefits_in_2016_inflation_adjusted_dollars-families-total_families: float (nullable = true)\n",
            " |-- income_and_benefits_in_2016_inflation_adjusted_dollars-families-less_than_10000_total_families: float (nullable = true)\n",
            " |-- income_and_benefits_in_2016_inflation_adjusted_dollars-percent-less_than_10000-of-total_families: float (nullable = true)\n",
            " |-- income_and_benefits_in_2016_inflation_adjusted_dollars-families-10000_to_14999_total_families: float (nullable = true)\n",
            " |-- income_and_benefits_in_2016_inflation_adjusted_dollars-percent-10000_to_14999-of-total_families: float (nullable = true)\n",
            " |-- income_and_benefits_in_2016_inflation_adjusted_dollars-families-15000_to_24999_total_families: float (nullable = true)\n",
            " |-- income_and_benefits_in_2016_inflation_adjusted_dollars-percent-15000_to_24999-of-total_families: float (nullable = true)\n",
            " |-- income_and_benefits_in_2016_inflation_adjusted_dollars-families-25000_to_34999_total_families: float (nullable = true)\n",
            " |-- income_and_benefits_in_2016_inflation_adjusted_dollars-percent-25000_to_34999-of-total_families: float (nullable = true)\n",
            " |-- income_and_benefits_in_2016_inflation_adjusted_dollars-families-35000_to_49999_total_families: float (nullable = true)\n",
            " |-- income_and_benefits_in_2016_inflation_adjusted_dollars-percent-35000_to_49999-of-total_families: float (nullable = true)\n",
            " |-- income_and_benefits_in_2016_inflation_adjusted_dollars-families-50000_to_74999_total_families: float (nullable = true)\n",
            " |-- income_and_benefits_in_2016_inflation_adjusted_dollars-percent-50000_to_74999-of-total_families: float (nullable = true)\n",
            " |-- income_and_benefits_in_2016_inflation_adjusted_dollars-families-75000_to_99999_total_families: float (nullable = true)\n",
            " |-- income_and_benefits_in_2016_inflation_adjusted_dollars-percent-75000_to_99999-of-total_families: float (nullable = true)\n",
            " |-- income_and_benefits_in_2016_inflation_adjusted_dollars-families-100000_to_149999_total_families: float (nullable = true)\n",
            " |-- income_and_benefits_in_2016_inflation_adjusted_dollars-percent-100000_to_149999-of-total_families: float (nullable = true)\n",
            " |-- income_and_benefits_in_2016_inflation_adjusted_dollars-families-150000_to_199999_total_families: float (nullable = true)\n",
            " |-- income_and_benefits_in_2016_inflation_adjusted_dollars-percent-150000_to_199999-of-total_families: float (nullable = true)\n",
            " |-- income_and_benefits_in_2016_inflation_adjusted_dollars-families-200000_or_more_total_families: float (nullable = true)\n",
            " |-- income_and_benefits_in_2016_inflation_adjusted_dollars-percent-200000_or_more-of-total_families: float (nullable = true)\n",
            " |-- income_and_benefits_in_2016_inflation_adjusted_dollars-dollars-median_family_income_dollars: float (nullable = true)\n",
            " |-- income_and_benefits_in_2016_inflation_adjusted_dollars-dollars-mean_family_income_dollars: float (nullable = true)\n",
            " |-- income_and_benefits_in_2016_inflation_adjusted_dollars-dollars-per_capita_family_income_dollars: float (nullable = true)\n",
            " |-- income_and_benefits_in_2016_inflation_adjusted_dollars-households-nonfamily_households: float (nullable = true)\n",
            " |-- income_and_benefits_in_2016_inflation_adjusted_dollars-dollars-median_nonfamily_income_dollars: float (nullable = true)\n",
            " |-- income_and_benefits_in_2016_inflation_adjusted_dollars-dollars-mean_nonfamily_income_dollars: float (nullable = true)\n",
            " |-- income_and_benefits_in_2016_inflation_adjusted_dollars-dollars-median_workers_earnings_dollars: float (nullable = true)\n",
            " |-- income_and_benefits_in_2016_inflation_adjusted_dollars-dollars-median_male_full-time_year_round_workers_earnings_dollars: float (nullable = true)\n",
            " |-- income_and_benefits_in_2016_inflation_adjusted_dollars-dollars-median_female_full-time_year_round_workers_earnings_dollars: float (nullable = true)\n",
            " |-- health_insurance_coverage-population-civilian_noninstitutionalized_population: float (nullable = true)\n",
            " |-- health_insurance_coverage-population-with_health_insurance_civilian_noninstitutionalized_population: float (nullable = true)\n",
            " |-- health_insurance_coverage-percent-with_health_insurance-of-civilian_noninstitutionalized_population: float (nullable = true)\n",
            " |-- health_insurance_coverage-population-with_private_health_insurance_civilian_noninstitutionalized_population: float (nullable = true)\n",
            " |-- health_insurance_coverage-percent-with_private_health_insurance-of-civilian_noninstitutionalized_population: float (nullable = true)\n",
            " |-- health_insurance_coverage-population-with_public_health_insurance_civilian_noninstitutionalized_population: float (nullable = true)\n",
            " |-- health_insurance_coverage-percent-with_public_health_insurance-of-civilian_noninstitutionalized_population: float (nullable = true)\n",
            " |-- health_insurance_coverage-population-no_health_insurance_civilian_noninstitutionalized_population: float (nullable = true)\n",
            " |-- health_insurance_coverage-percent-no_health_insurance-of-civilian_noninstitutionalized_population: float (nullable = true)\n",
            " |-- health_insurance_coverage-population-under_18_years_civilian_noninstitutionalized_population: float (nullable = true)\n",
            " |-- health_insurance_coverage-percent-under_18_years-of-civilian_noninstitutionalized_population: float (nullable = true)\n",
            " |-- health_insurance_coverage-population-no_health_insurance_under_18_years_civilian_noninstitutionalized_population: float (nullable = true)\n",
            " |-- health_insurance_coverage-percent-no_health_insurance-of-under_18_years_civilian_noninstitutionalized_population: float (nullable = true)\n",
            " |-- health_insurance_coverage-population-18_to_64_years_civilian_noninstitutionalized_population: float (nullable = true)\n",
            " |-- health_insurance_coverage-percent-18_to_64_years-of-civilian_noninstitutionalized_population: float (nullable = true)\n",
            " |-- health_insurance_coverage-population-18_to_64_years_in_labor_force_civilian_noninstitutionalized_population: float (nullable = true)\n",
            " |-- health_insurance_coverage-percent-18_to_64_years_in_labor_force-of-civilian_noninstitutionalized_population: float (nullable = true)\n",
            " |-- health_insurance_coverage-population-18_to_64_years_employed_civilian_noninstitutionalized_population: float (nullable = true)\n",
            " |-- health_insurance_coverage-percent-18_to_64_years_employed-of-civilian_noninstitutionalized_population: float (nullable = true)\n",
            " |-- health_insurance_coverage-population-with_health_insurance_18_to_64_years_employed_civilian_noninstitutionalized_population: float (nullable = true)\n",
            " |-- health_insurance_coverage-percent-with_health_insurance-of-18_to_64_years_employed_civilian_noninstitutionalized_population: float (nullable = true)\n",
            " |-- health_insurance_coverage-population-with_private_health_insurance_18_to_64_years_employed_civilian_noninstitutionalized_population: float (nullable = true)\n",
            " |-- health_insurance_coverage-percent-with_private_health_insurance-of-18_to_64_years_employed_civilian_noninstitutionalized_population: float (nullable = true)\n",
            " |-- health_insurance_coverage-population-with_public_health_insurance_18_to_64_years_employed_civilian_noninstitutionalized_population: float (nullable = true)\n",
            " |-- health_insurance_coverage-percent-with_public_health_insurance-of-18_to_64_years_employed_civilian_noninstitutionalized_population: float (nullable = true)\n",
            " |-- health_insurance_coverage-population-no_health_insurance_18_to_64_years_employed_civilian_noninstitutionalized_population: float (nullable = true)\n",
            " |-- health_insurance_coverage-percent-no_health_insurance-of-18_to_64_years_employed_civilian_noninstitutionalized_population: float (nullable = true)\n",
            " |-- health_insurance_coverage-population-18_to_64_years_unemployed_civilian_noninstitutionalized_population: float (nullable = true)\n",
            " |-- health_insurance_coverage-percent-18_to_64_years_unemployed-of-civilian_noninstitutionalized_population: float (nullable = true)\n",
            " |-- health_insurance_coverage-population-with_health_insurance_18_to_64_years_unemployed_civilian_noninstitutionalized_population: float (nullable = true)\n",
            " |-- health_insurance_coverage-percent-with_health_insurance-of-18_to_64_years_unemployed_civilian_noninstitutionalized_population: float (nullable = true)\n",
            " |-- health_insurance_coverage-population-with_private_health_insurance_18_to_64_years_unemployed_civilian_noninstitutionalized_population: float (nullable = true)\n",
            " |-- health_insurance_coverage-percent-with_private_health_insurance-of-18_to_64_years_unemployed_civilian_noninstitutionalized_population: float (nullable = true)\n",
            " |-- health_insurance_coverage-population-with_public_health_insurance_18_to_64_years_unemployed_civilian_noninstitutionalized_population: float (nullable = true)\n",
            " |-- health_insurance_coverage-percent-with_public_health_insurance-of-18_to_64_years_unemployed_civilian_noninstitutionalized_population: float (nullable = true)\n",
            " |-- health_insurance_coverage-population-no_health_insurance-18_to_64_years_unemployed_civilian_noninstitutionalized_population: float (nullable = true)\n",
            " |-- health_insurance_coverage-percent-no_health_insurance-of-18_to_64_years_unemployed_civilian_noninstitutionalized_population: float (nullable = true)\n",
            " |-- health_insurance_coverage-population-18_to_64_years_not_in_labor_force_civilian_noninstitutionalized_population: float (nullable = true)\n",
            " |-- health_insurance_coverage-percent-18_to_64_years_not_in_labor_force-of-civilian_noninstitutionalized_population: float (nullable = true)\n",
            " |-- health_insurance_coverage-population-with_health_insurance_18_to_64_years_not_in_labor_force_civilian_noninstitutionalized_population: float (nullable = true)\n",
            " |-- health_insurance_coverage-percent-with_health_insurance-of-18_to_64_years_not_in_labor_force_civilian_noninstitutionalized_population: float (nullable = true)\n",
            " |-- health_insurance_coverage-population-with_private_health_insurance_18_to_64_years_not_in_labor_force_civilian_noninstitutionalized_population: float (nullable = true)\n",
            " |-- health_insurance_coverage-percent-with_private_health_insurance-of-18_to_64_years_not_in_labor_force_civilian_noninstitutionalized_population: float (nullable = true)\n",
            " |-- health_insurance_coverage-population-with_public_health_insurance_18_to_64_years_not_in_labor_force_civilian_noninstitutionalized_population: float (nullable = true)\n",
            " |-- health_insurance_coverage-percent-with_public_health_insurance-of-18_to_64_years_not_in_labor_force_civilian_noninstitutionalized_population: float (nullable = true)\n",
            " |-- health_insurance_coverage-population-no_health_insurance_18_to_64_years_not_in_labor_force_civilian_noninstitutionalized_population: float (nullable = true)\n",
            " |-- health_insurance_coverage-percent-no_health_insurance-of-18_to_64_years_not_in_labor_force_civilian_noninstitutionalized_population: float (nullable = true)\n",
            " |-- people_whose_income_in_past_12m_is_below_poverty_level-percent-families-of-all_families: float (nullable = true)\n",
            " |-- people_whose_income_in_past_12m_is_below_poverty_level-percent-families_with_under_18_years_related_children-of-all_families: float (nullable = true)\n",
            " |-- people_whose_income_in_past_12m_is_below_poverty_level-percent-families_with_under_5_years_only_related_children-of-all_families: float (nullable = true)\n",
            " |-- people_whose_income_in_past_12m_is_below_poverty_level-percent-married_couple_families-of-all_families: float (nullable = true)\n",
            " |-- people_whose_income_in_past_12m_is_below_poverty_level-percent-married_couple_families_with_under_18_years_related_children-of-all_families: float (nullable = true)\n",
            " |-- people_whose_income_in_past_12m_is_below_poverty_level-percent-married_couple_families_with_5_years_only_related_children_under-of-all_families: float (nullable = true)\n",
            " |-- people_whose_income_in_past_12m_is_below_poverty_level-percent-families_with_female_householder_no_husband-of-all_families: float (nullable = true)\n",
            " |-- people_whose_income_in_past_12m_is_below_poverty_level-percent-families_with_female_householder_no_husband_with_under_18_years_related_children-of-all_families: float (nullable = true)\n",
            " |-- people_whose_income_in_past_12m_is_below_poverty_level-percent-families_with_female_householder_no_husband_with_under_5_years_only_related_children-of-all_families: float (nullable = true)\n",
            " |-- people_whose_income_in_past_12m_is_below_poverty_level-percent-people-of-all_people: float (nullable = true)\n",
            " |-- people_whose_income_in_past_12m_is_below_poverty_level-percent-under_18_years-of-all_people: float (nullable = true)\n",
            " |-- people_whose_income_in_past_12m_is_below_poverty_level-percent-related_children_under_18_years-of-all_people: float (nullable = true)\n",
            " |-- people_whose_income_in_past_12m_is_below_poverty_level-percent-related_children_under_5_years-of-all_people: float (nullable = true)\n",
            " |-- people_whose_income_in_past_12m_is_below_poverty_level-percent-related_children_5_to_17_years-of-all_people: float (nullable = true)\n",
            " |-- people_whose_income_in_past_12m_is_below_poverty_level-percent-18_years_and_over-of-all_people: float (nullable = true)\n",
            " |-- people_whose_income_in_past_12m_is_below_poverty_level-percent-18_to_64_years-of-all_people: float (nullable = true)\n",
            " |-- people_whose_income_in_past_12m_is_below_poverty_level-percent-65_years_and_over-of-all_people: float (nullable = true)\n",
            " |-- people_whose_income_in_past_12m_is_below_poverty_level-percent-people_in_families-of-all_families: float (nullable = true)\n",
            " |-- people_whose_income_in_past_12m_is_below_poverty_level-percent-unrelated_individuals_15_years_and_over-of-all_families: float (nullable = true)\n",
            "\n"
          ]
        }
      ]
    },
    {
      "cell_type": "code",
      "source": [
        "# replacing '.' with '_' in all columns in housing\n",
        "for col_name in housing.columns:\n",
        "  housing = housing.withColumnRenamed(col_name, col_name.replace('.', '_'))"
      ],
      "metadata": {
        "id": "QtLvjmsY5Biy"
      },
      "execution_count": null,
      "outputs": []
    },
    {
      "cell_type": "code",
      "source": [
        "for col_name in housing.columns[1:]:\n",
        "  housing = housing.withColumn(col_name, F.col(col_name).cast(\"float\"))\n",
        "housing.printSchema()"
      ],
      "metadata": {
        "id": "8hZU19Hc209Q",
        "colab": {
          "base_uri": "https://localhost:8080/"
        },
        "outputId": "a63fe446-a254-4c83-adb4-786aa4ac1040"
      },
      "execution_count": null,
      "outputs": [
        {
          "output_type": "stream",
          "name": "stdout",
          "text": [
            "root\n",
            " |-- ZCTA5: string (nullable = true)\n",
            " |-- housing_occupancy-housing_units-total_housing_units: float (nullable = true)\n",
            " |-- housing_occupancy-housing_units-occupied_housing_units_total_housing_units: float (nullable = true)\n",
            " |-- housing_occupancy-percent-occupied_housing_units-of-total_housing_units: float (nullable = true)\n",
            " |-- housing_occupancy-housing_units-vacant_housing_units_total_housing_units: float (nullable = true)\n",
            " |-- housing_occupancy-percent-vacant_housing_units-of-total_housing_units: float (nullable = true)\n",
            " |-- housing_occupancy-percent-homeowner_vacancy_rate-of-total_housing_units_for_sale: float (nullable = true)\n",
            " |-- housing_occupancy-percent-rental_vacancy_rate-of-total_housing_units_for_sale: float (nullable = true)\n",
            " |-- units_in_structure-housing_units-total_housing_units: float (nullable = true)\n",
            " |-- units_in_structure-housing_units-1_unit_detached_total_housing_units: float (nullable = true)\n",
            " |-- units_in_structure-percent-1_unit_detached-of-total_housing_units: float (nullable = true)\n",
            " |-- units_in_structure-housing_units-1_unit_attached_total_housing_units: float (nullable = true)\n",
            " |-- units_in_structure-percent-1_unit_attached-of-total_housing_units: float (nullable = true)\n",
            " |-- units_in_structure-housing_units-2_units_total_housing_units: float (nullable = true)\n",
            " |-- units_in_structure-percent-2_units-of-total_housing_units: float (nullable = true)\n",
            " |-- units_in_structure-housing_units-3_or_4_units_total_housing_units: float (nullable = true)\n",
            " |-- units_in_structure-percent-3_or_4_units-of-total_housing_units: float (nullable = true)\n",
            " |-- units_in_structure-housing_units-5_to_9_units_total_housing_units: float (nullable = true)\n",
            " |-- units_in_structure-percent-5_to_9_units-of-total_housing_units: float (nullable = true)\n",
            " |-- units_in_structure-housing_units-10_to_19_units_total_housing_units: float (nullable = true)\n",
            " |-- units_in_structure-percent-10_to_19_units-of-total_housing_units: float (nullable = true)\n",
            " |-- units_in_structure-housing_units-20_or_more_units_total_housing_units: float (nullable = true)\n",
            " |-- units_in_structure-percent-20_or_more_units-of-total_housing_units: float (nullable = true)\n",
            " |-- units_in_structure-housing_units-mobile_home_total_housing_units: float (nullable = true)\n",
            " |-- units_in_structure-percent-mobile_home-of-total_housing_units: float (nullable = true)\n",
            " |-- units_in_structure-housing_units-boat_rv_van_total_housing_units: float (nullable = true)\n",
            " |-- units_in_structure-percent-boat_rv_van-of-total_housing_units: float (nullable = true)\n",
            " |-- year_structure_built-housing_units-total_housing_units: float (nullable = true)\n",
            " |-- year_structure_built-housing_units-built_2014_or_later_total_housing_units: float (nullable = true)\n",
            " |-- year_structure_built-percent-built_2014_or_later-of-total_housing_units: float (nullable = true)\n",
            " |-- year_structure_built-housing_units-built_2010_to_2013_total_housing_units: float (nullable = true)\n",
            " |-- year_structure_built-percent-built_2010_to_2013-of-total_housing_units: float (nullable = true)\n",
            " |-- year_structure_built-housing_units-built_2000_to_2009_total_housing_units: float (nullable = true)\n",
            " |-- year_structure_built-percent-built_2000_to_2009-of-total_housing_units: float (nullable = true)\n",
            " |-- year_structure_built-housing_units-built_1990_to_1999_total_housing_units: float (nullable = true)\n",
            " |-- year_structure_built-percent-built_1990_to_1999-of-total_housing_units: float (nullable = true)\n",
            " |-- year_structure_built-housing_units-built_1980_to_1989_total_housing_units: float (nullable = true)\n",
            " |-- year_structure_built-percent-built_1980_to_1989-of-total_housing_units: float (nullable = true)\n",
            " |-- year_structure_built-housing_units-built_1970_to_1979_total_housing_units: float (nullable = true)\n",
            " |-- year_structure_built-percent-built_1970_to_1979-of-total_housing_units: float (nullable = true)\n",
            " |-- year_structure_built-housing_units-built_1960_to_1969_total_housing_units: float (nullable = true)\n",
            " |-- year_structure_built-percent-built_1960_to_1969-of-total_housing_units: float (nullable = true)\n",
            " |-- year_structure_built-housing_units-built_1950_to_1959_total_housing_units: float (nullable = true)\n",
            " |-- year_structure_built-percent-built_1950_to_1959-of-total_housing_units: float (nullable = true)\n",
            " |-- year_structure_built-housing_units-built_1940_to_1949_total_housing_units: float (nullable = true)\n",
            " |-- year_structure_built-percent-built_1940_to_1949-of-total_housing_units: float (nullable = true)\n",
            " |-- year_structure_built-housing_units-built_1939_or_earlier_total_housing_units: float (nullable = true)\n",
            " |-- year_structure_built-percent-built_1939_or_earlier-of-total_housing_units: float (nullable = true)\n",
            " |-- rooms-housing_units-total_housing_units: float (nullable = true)\n",
            " |-- rooms-housing_units-1_room_total_housing_units: float (nullable = true)\n",
            " |-- rooms-percent-1_room-of-total_housing_units: float (nullable = true)\n",
            " |-- rooms-housing_units-2_rooms_total_housing_units: float (nullable = true)\n",
            " |-- rooms-percent-2_rooms-of-total_housing_units: float (nullable = true)\n",
            " |-- rooms-housing_units-3_rooms_total_housing_units: float (nullable = true)\n",
            " |-- rooms-percent-3_rooms-of-total_housing_units: float (nullable = true)\n",
            " |-- rooms-housing_units-4_rooms_total_housing_units: float (nullable = true)\n",
            " |-- rooms-percent-4_rooms-of-total_housing_units: float (nullable = true)\n",
            " |-- rooms-housing_units-5_rooms_total_housing_units: float (nullable = true)\n",
            " |-- rooms-percent-5_rooms-of-total_housing_units: float (nullable = true)\n",
            " |-- rooms-housing_units-6_rooms_total_housing_units: float (nullable = true)\n",
            " |-- rooms-percent-6_rooms-of-total_housing_units: float (nullable = true)\n",
            " |-- rooms-housing_units-7_rooms_total_housing_units: float (nullable = true)\n",
            " |-- rooms-percent-7_rooms-of-total_housing_units: float (nullable = true)\n",
            " |-- rooms-housing_units-8_rooms_total_housing_units: float (nullable = true)\n",
            " |-- rooms-percent-8_rooms-of-total_housing_units: float (nullable = true)\n",
            " |-- rooms-housing_units-9_rooms_or_more_total_housing_units: float (nullable = true)\n",
            " |-- rooms-percent-9_rooms_or_more-of-total_housing_units: float (nullable = true)\n",
            " |-- rooms-rooms-median_rooms_total_housing_units: float (nullable = true)\n",
            " |-- bedrooms-housing_units-total_housing_units: float (nullable = true)\n",
            " |-- bedrooms-housing_units-no_bedroom_total_housing_units: float (nullable = true)\n",
            " |-- bedrooms-percent-no_bedroom-of-total_housing_units: float (nullable = true)\n",
            " |-- bedrooms-housing_units-1_bedroom_total_housing_units: float (nullable = true)\n",
            " |-- bedrooms-percent-1_bedroom-of-total_housing_units: float (nullable = true)\n",
            " |-- bedrooms-housing_units-2_bedrooms_total_housing_units: float (nullable = true)\n",
            " |-- bedrooms-percent-2_bedrooms-of-total_housing_units: float (nullable = true)\n",
            " |-- bedrooms-housing_units-3_bedrooms_total_housing_units: float (nullable = true)\n",
            " |-- bedrooms-percent-3_bedrooms-of-total_housing_units: float (nullable = true)\n",
            " |-- bedrooms-housing_units-4_bedrooms_total_housing_units: float (nullable = true)\n",
            " |-- bedrooms-percent-4_bedrooms-of-total_housing_units: float (nullable = true)\n",
            " |-- bedrooms-housing_units-5_or_more_bedrooms_total_housing_units: float (nullable = true)\n",
            " |-- bedrooms-percent-5_or_more_bedrooms-of-total_housing_units: float (nullable = true)\n",
            " |-- housing_tenure-housing_units-occupied_housing_units: float (nullable = true)\n",
            " |-- housing_tenure-housing_units-owner_occupied_housing_units: float (nullable = true)\n",
            " |-- housing_tenure-percent-owner-of-occupied_housing_units: float (nullable = true)\n",
            " |-- housing_tenure-housing_units-renter_occupied_housing_units: float (nullable = true)\n",
            " |-- housing_tenure-percent-renter-of-occupied_housing_units: float (nullable = true)\n",
            " |-- housing_tenure-housing_units-average_household_size_owner_occupied_unit: float (nullable = true)\n",
            " |-- housing_tenure-housing_units-average_household_size_renter_occupied_unit: float (nullable = true)\n",
            " |-- year_householder_moved_into_unit-housing_units-occupied_housing_units: float (nullable = true)\n",
            " |-- year_householder_moved_into_unit-housing_units-moved_in_2015_or_later_occupied_housing_units: float (nullable = true)\n",
            " |-- year_householder_moved_into_unit-percent-moved_in_2015_or_later-of-occupied_housing_units: float (nullable = true)\n",
            " |-- year_householder_moved_into_unit-housing_units-moved_in_2010_to_2014_occupied_housing_units: float (nullable = true)\n",
            " |-- year_householder_moved_into_unit-percent-moved_in_2010_to_2014-of-occupied_housing_units: float (nullable = true)\n",
            " |-- year_householder_moved_into_unit-housing_units-moved_in_2000_to_2009_occupied_housing_units: float (nullable = true)\n",
            " |-- year_householder_moved_into_unit-percent-moved_in_2000_to_2009-of-occupied_housing_units: float (nullable = true)\n",
            " |-- year_householder_moved_into_unit-housing_units-moved_in_1990_to_1999_occupied_housing_units: float (nullable = true)\n",
            " |-- year_householder_moved_into_unit-percent-moved_in_1990_to_1999-of-occupied_housing_units: float (nullable = true)\n",
            " |-- year_householder_moved_into_unit-housing_units-moved_in_1980_to_1989_occupied_housing_units: float (nullable = true)\n",
            " |-- year_householder_moved_into_unit-percent-moved_in_1980_to_1989-of-occupied_housing_units: float (nullable = true)\n",
            " |-- year_householder_moved_into_unit-housing_units-moved_in_1979_and_earlier_occupied_housing_units: float (nullable = true)\n",
            " |-- year_householder_moved_into_unit-percent-moved_in_1979_and_earlier-of-occupied_housing_units: float (nullable = true)\n",
            " |-- vehicles_available-housing_units-occupied_housing_units: float (nullable = true)\n",
            " |-- vehicles_available-housing_units-no_vehicles_available_occupied_housing_units: float (nullable = true)\n",
            " |-- vehicles_available-percent-no_vehicles_available-of-occupied_housing_units: float (nullable = true)\n",
            " |-- vehicles_available-housing_units-1_vehicle_available_occupied_housing_units: float (nullable = true)\n",
            " |-- vehicles_available-percent-1_vehicle_available-of-occupied_housing_units: float (nullable = true)\n",
            " |-- vehicles_available-housing_units-2_vehicles_available_occupied_housing_units: float (nullable = true)\n",
            " |-- vehicles_available-percent-2_vehicles_available-of-occupied_housing_units: float (nullable = true)\n",
            " |-- vehicles_available-housing_units-3_or_more_vehicles_available_occupied_housing_units: float (nullable = true)\n",
            " |-- vehicles_available-percent-3_or_more_vehicles_available-of-occupied_housing_units: float (nullable = true)\n",
            " |-- house_heating_fuel-housing_units-occupied_housing_units: float (nullable = true)\n",
            " |-- house_heating_fuel-housing_units-utility_gas_occupied_housing_units: float (nullable = true)\n",
            " |-- house_heating_fuel-percent-utility_gas-of-occupied_housing_units: float (nullable = true)\n",
            " |-- house_heating_fuel-housing_units-bottled_tank_or_lp_gas_occupied_housing_units: float (nullable = true)\n",
            " |-- house_heating_fuel-percent-bottled_tank_or_lp_gas-of-occupied_housing_units: float (nullable = true)\n",
            " |-- house_heating_fuel-housing_units-electricity_occupied_housing_units: float (nullable = true)\n",
            " |-- house_heating_fuel-percent-electricity-of-occupied_housing_units: float (nullable = true)\n",
            " |-- house_heating_fuel-housing_units-fuel_oil_kerosene_etc__occupied_housing_units: float (nullable = true)\n",
            " |-- house_heating_fuel-percent-fuel_oil_kerosene_etc_-of-occupied_housing_units: float (nullable = true)\n",
            " |-- house_heating_fuel-housing_units-coal_or_coke_occupied_housing_units: float (nullable = true)\n",
            " |-- house_heating_fuel-percent-coal_or_coke-of-occupied_housing_units: float (nullable = true)\n",
            " |-- house_heating_fuel-housing_units-wood_occupied_housing_units: float (nullable = true)\n",
            " |-- house_heating_fuel-percent-wood-of-occupied_housing_units: float (nullable = true)\n",
            " |-- house_heating_fuel-housing_units-solar_energy_occupied_housing_units: float (nullable = true)\n",
            " |-- house_heating_fuel-percent-solar_energy-of-occupied_housing_units: float (nullable = true)\n",
            " |-- house_heating_fuel-housing_units-other_fuel_occupied_housing_units: float (nullable = true)\n",
            " |-- house_heating_fuel-percent-other_fuel-of-occupied_housing_units: float (nullable = true)\n",
            " |-- house_heating_fuel-housing_units-no_fuel_used_occupied_housing_units: float (nullable = true)\n",
            " |-- house_heating_fuel-percent-no_fuel_used-of-occupied_housing_units: float (nullable = true)\n",
            " |-- selected_characteristics-housing_units-occupied_housing_units: float (nullable = true)\n",
            " |-- selected_characteristics-housing_units-lacking_complete_plumbing_facilities_occupied_housing_units: float (nullable = true)\n",
            " |-- selected_characteristics-percent-lacking_complete_plumbing_facilities-of-occupied_housing_units: float (nullable = true)\n",
            " |-- selected_characteristics-housing_units-lacking_complete_kitchen_facilities_occupied_housing_units: float (nullable = true)\n",
            " |-- selected_characteristics-percent-lacking_complete_kitchen_facilities-of-occupied_housing_units: float (nullable = true)\n",
            " |-- selected_characteristics-housing_units-no_telephone_service_available_occupied_housing_units: float (nullable = true)\n",
            " |-- selected_characteristics-percent-no_telephone_service_available-of-occupied_housing_units: float (nullable = true)\n",
            " |-- occupants_per_room-housing_units-occupied_housing_units: float (nullable = true)\n",
            " |-- occupants_per_room-housing_units-1_or_less_occupied_housing_units: float (nullable = true)\n",
            " |-- occupants_per_room-percent-1_or_less-of-occupied_housing_units: float (nullable = true)\n",
            " |-- occupants_per_room-housing_units-1_to_1_and_a_half_occupied_housing_units: float (nullable = true)\n",
            " |-- occupants_per_room-percent-1_to_1_and_a_half-of-occupied_housing_units: float (nullable = true)\n",
            " |-- occupants_per_room-housing_units-1_and_a_half_or_more_occupied_housing_units: float (nullable = true)\n",
            " |-- occupants_per_room-percent-1_and_a_half_or_more-of-occupied_housing_units: float (nullable = true)\n",
            " |-- value-housing_units-owner_occupied_units: float (nullable = true)\n",
            " |-- value-housing_units-less_than_50000_owner_occupied_units: float (nullable = true)\n",
            " |-- value-percent-less_than_50000-of-owner_occupied_units: float (nullable = true)\n",
            " |-- value-housing_units-50000_to_99999_owner_occupied_units: float (nullable = true)\n",
            " |-- value-percent-50000_to_99999-of-owner_occupied_units: float (nullable = true)\n",
            " |-- value-housing_units-100000_to_149999_owner_occupied_units: float (nullable = true)\n",
            " |-- value-percent-100000_to_149999-of-owner_occupied_units: float (nullable = true)\n",
            " |-- value-housing_units-150000_to_199999_owner_occupied_units: float (nullable = true)\n",
            " |-- value-percent-150000_to_199999-of-owner_occupied_units: float (nullable = true)\n",
            " |-- value-housing_units-200000_to_299999_owner_occupied_units: float (nullable = true)\n",
            " |-- value-percent-200000_to_299999-of-owner_occupied_units: float (nullable = true)\n",
            " |-- value-housing_units-300000_to_499999_owner_occupied_units: float (nullable = true)\n",
            " |-- value-percent-300000_to_499999-of-owner_occupied_units: float (nullable = true)\n",
            " |-- value-housing_units-500000_to_999999_owner_occupied_units: float (nullable = true)\n",
            " |-- value-percent-500000_to_999999-of-owner_occupied_units: float (nullable = true)\n",
            " |-- value-housing_units-1000000_or_more_owner_occupied_units: float (nullable = true)\n",
            " |-- value-percent-1000000_or_more-of-owner_occupied_units: float (nullable = true)\n",
            " |-- value-dollars-median_dollars_owner_occupied_units: float (nullable = true)\n",
            " |-- mortgage_status-housing_units-owner_occupied_units: float (nullable = true)\n",
            " |-- mortgage_status-housing_units-with_mortgage_owner_occupied_units: float (nullable = true)\n",
            " |-- mortgage_status-percent-with_mortgage-of-owner_occupied_units: float (nullable = true)\n",
            " |-- mortgage_status-housing_units-no_mortgage_owner_occupied_units: float (nullable = true)\n",
            " |-- mortgage_status-percent-no_mortgage-of-owner_occupied_units: float (nullable = true)\n",
            " |-- selected_monthly_owner_costs_smoc-housing_units-housing_units_with_a_mortgage: float (nullable = true)\n",
            " |-- selected_monthly_owner_costs_smoc-housing_units-less_than_500_housing_units_with_a_mortgage: float (nullable = true)\n",
            " |-- selected_monthly_owner_costs_smoc-percent-less_than_500-of-housing_units_with_a_mortgage: float (nullable = true)\n",
            " |-- selected_monthly_owner_costs_smoc-housing_units-500_to_999_housing_units_with_a_mortgage: float (nullable = true)\n",
            " |-- selected_monthly_owner_costs_smoc-percent-500_to_999-of-housing_units_with_a_mortgage: float (nullable = true)\n",
            " |-- selected_monthly_owner_costs_smoc-housing_units-1000_to_1499_housing_units_with_a_mortgage: float (nullable = true)\n",
            " |-- selected_monthly_owner_costs_smoc-percent-1000_to_1499-of-housing_units_with_a_mortgage: float (nullable = true)\n",
            " |-- selected_monthly_owner_costs_smoc-housing_units-1500_to_1999_housing_units_with_a_mortgage: float (nullable = true)\n",
            " |-- selected_monthly_owner_costs_smoc-percent-1500_to_1999-of-housing_units_with_a_mortgage: float (nullable = true)\n",
            " |-- selected_monthly_owner_costs_smoc-housing_units-2000_to_2499_housing_units_with_a_mortgage: float (nullable = true)\n",
            " |-- selected_monthly_owner_costs_smoc-percent-2000_to_2499-of-housing_units_with_a_mortgage: float (nullable = true)\n",
            " |-- selected_monthly_owner_costs_smoc-housing_units-2500_to_2999_housing_units_with_a_mortgage: float (nullable = true)\n",
            " |-- selected_monthly_owner_costs_smoc-percent-2500_to_2999-of-housing_units_with_a_mortgage: float (nullable = true)\n",
            " |-- selected_monthly_owner_costs_smoc-housing_units-3000_or_more_housing_units_with_a_mortgage: float (nullable = true)\n",
            " |-- selected_monthly_owner_costs_smoc-percent-3000_or_more-of-housing_units_with_a_mortgage: float (nullable = true)\n",
            " |-- selected_monthly_owner_costs_smoc-housing_units-median_dollars_housing_units_with_a_mortgage: float (nullable = true)\n",
            " |-- selected_monthly_owner_costs_smoc-housing_units-housing_units_without_a_mortgage: float (nullable = true)\n",
            " |-- selected_monthly_owner_costs_smoc-housing_units-less_than_250_housing_units_without_a_mortgage: float (nullable = true)\n",
            " |-- selected_monthly_owner_costs_smoc-percent-less_than_250-of-housing_units_without_a_mortgage: float (nullable = true)\n",
            " |-- selected_monthly_owner_costs_smoc-housing_units-250_to_399_housing_units_without_a_mortgage: float (nullable = true)\n",
            " |-- selected_monthly_owner_costs_smoc-percent-250_to_399-of-housing_units_without_a_mortgage: float (nullable = true)\n",
            " |-- selected_monthly_owner_costs_smoc-housing_units-400_to_599_housing_units_without_a_mortgage: float (nullable = true)\n",
            " |-- selected_monthly_owner_costs_smoc-percent-400_to_599-of-housing_units_without_a_mortgage: float (nullable = true)\n",
            " |-- selected_monthly_owner_costs_smoc-housing_units-600_to_799_housing_units_without_a_mortgage: float (nullable = true)\n",
            " |-- selected_monthly_owner_costs_smoc-percent-600_to_799-of-housing_units_without_a_mortgage: float (nullable = true)\n",
            " |-- selected_monthly_owner_costs_smoc-housing_units-800_to_999_housing_units_without_a_mortgage: float (nullable = true)\n",
            " |-- selected_monthly_owner_costs_smoc-percent-800_to_999-of-housing_units_without_a_mortgage: float (nullable = true)\n",
            " |-- selected_monthly_owner_costs_smoc-housing_units-1000_or_more_housing_units_without_a_mortgage: float (nullable = true)\n",
            " |-- selected_monthly_owner_costs_smoc-percent-1000_or_more-of-housing_units_without_a_mortgage: float (nullable = true)\n",
            " |-- selected_monthly_owner_costs_smoc-housing_units-median_dollars_housing_units_without_a_mortgage: float (nullable = true)\n",
            " |-- selected_monthly_owner_costs_as_a_percentage_of_household_income_smocapi-housing_units-housing_units_with_a_mortgage_excluding_units_where_smocapi_cannot_be_computed: float (nullable = true)\n",
            " |-- selected_monthly_owner_costs_as_a_percentage_of_household_income_smocapi-housing_units-less_than_20_percent_housing_units_with_a_mortgage_excluding_units_where_smocapi_cannot_be_computed: float (nullable = true)\n",
            " |-- selected_monthly_owner_costs_as_a_percentage_of_household_income_smocapi-percent-less_than_20_percent-of-housing_units_with_a_mortgage_excluding_units_where_smocapi_cannot_be_computed: float (nullable = true)\n",
            " |-- selected_monthly_owner_costs_as_a_percentage_of_household_income_smocapi-housing_units-20_to_less_than_25_percent_housing_units_with_a_mortgage_excluding_units_where_smocapi_cannot_be_computed: float (nullable = true)\n",
            " |-- selected_monthly_owner_costs_as_a_percentage_of_household_income_smocapi-percent-20_to_less_than_25_percent-of-housing_units_with_a_mortgage_excluding_units_where_smocapi_cannot_be_computed: float (nullable = true)\n",
            " |-- selected_monthly_owner_costs_as_a_percentage_of_household_income_smocapi-housing_units-25_to_less_than_30_percent_housing_units_with_a_mortgage_excluding_units_where_smocapi_cannot_be_computed: float (nullable = true)\n",
            " |-- selected_monthly_owner_costs_as_a_percentage_of_household_income_smocapi-percent-25_to_less_than_30_percent-of-housing_units_with_a_mortgage_excluding_units_where_smocapi_cannot_be_computed: float (nullable = true)\n",
            " |-- selected_monthly_owner_costs_as_a_percentage_of_household_income_smocapi-housing_units-30_to_less_than_35_percent_housing_units_with_a_mortgage_excluding_units_where_smocapi_cannot_be_computed: float (nullable = true)\n",
            " |-- selected_monthly_owner_costs_as_a_percentage_of_household_income_smocapi-percent-30_to_less_than_35_percent-of-housing_units_with_a_mortgage_excluding_units_where_smocapi_cannot_be_computed: float (nullable = true)\n",
            " |-- selected_monthly_owner_costs_as_a_percentage_of_household_income_smocapi-housing_units-35_percent_or_more_housing_units_with_a_mortgage_excluding_units_where_smocapi_cannot_be_computed: float (nullable = true)\n",
            " |-- selected_monthly_owner_costs_as_a_percentage_of_household_income_smocapi-percent-35_percent_or_more-of-housing_units_with_a_mortgage_excluding_units_where_smocapi_cannot_be_computed: float (nullable = true)\n",
            " |-- selected_monthly_owner_costs_as_a_percentage_of_household_income_smocapi-housing_units-housing_units_with_a_mortgage_where_smocapi_not_computed: float (nullable = true)\n",
            " |-- selected_monthly_owner_costs_as_a_percentage_of_household_income_smocapi-housing_units-housing_unit_without_a_mortgage_excluding_units_where_smocapi_cannot_be_computed: float (nullable = true)\n",
            " |-- selected_monthly_owner_costs_as_a_percentage_of_household_income_smocapi-housing_units-less_than_10_percent_housing_unit_without_a_mortgage_excluding_units_where_smocapi_cannot_be_computed: float (nullable = true)\n",
            " |-- selected_monthly_owner_costs_as_a_percentage_of_household_income_smocapi-percent-less_than_10_percent-of-housing_unit_without_a_mortgage_excluding_units_where_smocapi_cannot_be_computed: float (nullable = true)\n",
            " |-- selected_monthly_owner_costs_as_a_percentage_of_household_income_smocapi-housing_units-10_to_less_than_15_percent_housing_unit_without_a_mortgage_excluding_units_where_smocapi_cannot_be_computed: float (nullable = true)\n",
            " |-- selected_monthly_owner_costs_as_a_percentage_of_household_income_smocapi-percent-10_to_less_than_15_percent-of-housing_unit_without_a_mortgage_excluding_units_where_smocapi_cannot_be_computed: float (nullable = true)\n",
            " |-- selected_monthly_owner_costs_as_a_percentage_of_household_income_smocapi-housing_units-15_to_less_than_20_percent_housing_unit_without_a_mortgage_excluding_units_where_smocapi_cannot_be_computed: float (nullable = true)\n",
            " |-- selected_monthly_owner_costs_as_a_percentage_of_household_income_smocapi-percent-15_to_less_than_20_percent-of-housing_unit_without_a_mortgage_excluding_units_where_smocapi_cannot_be_computed: float (nullable = true)\n",
            " |-- selected_monthly_owner_costs_as_a_percentage_of_household_income_smocapi-housing_units-20_to_less_than_25_percent_housing_unit_without_a_mortgage_excluding_units_where_smocapi_cannot_be_computed: float (nullable = true)\n",
            " |-- selected_monthly_owner_costs_as_a_percentage_of_household_income_smocapi-percent-20_to_less_than_25_percent-of-housing_unit_without_a_mortgage_excluding_units_where_smocapi_cannot_be_computed: float (nullable = true)\n",
            " |-- selected_monthly_owner_costs_as_a_percentage_of_household_income_smocapi-housing_units-25_to_less_than_30_percent_housing_unit_without_a_mortgage_excluding_units_where_smocapi_cannot_be_computed: float (nullable = true)\n",
            " |-- selected_monthly_owner_costs_as_a_percentage_of_household_income_smocapi-percent-25_to_less_than_30_percent-of-housing_unit_without_a_mortgage_excluding_units_where_smocapi_cannot_be_computed: float (nullable = true)\n",
            " |-- selected_monthly_owner_costs_as_a_percentage_of_household_income_smocapi-housing_units-30_to_less_than_35_percent_housing_unit_without_a_mortgage_excluding_units_where_smocapi_cannot_be_computed: float (nullable = true)\n",
            " |-- selected_monthly_owner_costs_as_a_percentage_of_household_income_smocapi-percent-30_to_less_than_35_percent-of-housing_unit_without_a_mortgage_excluding_units_where_smocapi_cannot_be_computed: float (nullable = true)\n",
            " |-- selected_monthly_owner_costs_as_a_percentage_of_household_income_smocapi-housing_units-35_percent_or_more_housing_unit_without_a_mortgage_excluding_units_where_smocapi_cannot_be_computed: float (nullable = true)\n",
            " |-- selected_monthly_owner_costs_as_a_percentage_of_household_income_smocapi-percent-35_percent_or_more-of-housing_unit_without_a_mortgage_excluding_units_where_smocapi_cannot_be_computed: float (nullable = true)\n",
            " |-- selected_monthly_owner_costs_as_a_percentage_of_household_income_smocapi-housing_units-housing_units_without_a_mortgage_where_smocapi_not_computed: float (nullable = true)\n",
            " |-- gross_rent-housing_units-occupied_units_paying_rent: float (nullable = true)\n",
            " |-- gross_rent-housing_units-less_than_500_occupied_units_paying_rent: float (nullable = true)\n",
            " |-- gross_rent-percent-less_than_500-of-occupied_units_paying_rent: float (nullable = true)\n",
            " |-- gross_rent-housing_units-500_to_999_occupied_units_paying_rent: float (nullable = true)\n",
            " |-- gross_rent-percent-500_to_999-of-occupied_units_paying_rent: float (nullable = true)\n",
            " |-- gross_rent-housing_units-1000_to_1499_occupied_units_paying_rent: float (nullable = true)\n",
            " |-- gross_rent-percent-1000_to_1499-of-occupied_units_paying_rent: float (nullable = true)\n",
            " |-- gross_rent-housing_units-1500_to_1999_occupied_units_paying_rent: float (nullable = true)\n",
            " |-- gross_rent-percent-1500_to_1999-of-occupied_units_paying_rent: float (nullable = true)\n",
            " |-- gross_rent-housing_units-2000_to_2499_occupied_units_paying_rent: float (nullable = true)\n",
            " |-- gross_rent-percent-2000_to_2499-of-occupied_units_paying_rent: float (nullable = true)\n",
            " |-- gross_rent-housing_units-2500_to_2999_occupied_units_paying_rent: float (nullable = true)\n",
            " |-- gross_rent-percent-2500_to_2999-of-occupied_units_paying_rent: float (nullable = true)\n",
            " |-- gross_rent-housing_units-3000_or_more_occupied_units_paying_rent: float (nullable = true)\n",
            " |-- gross_rent-percent-3000_or_more-of-occupied_units_paying_rent: float (nullable = true)\n",
            " |-- gross_rent-dollars-median_dollars_occupied_units_paying_rent: float (nullable = true)\n",
            " |-- gross_rent-housing_units-occupied_units_no_rent_paid: float (nullable = true)\n",
            " |-- gross_rent_as_a_percentage_of_household_income_grapi-housing_units-occupied_units_paying_rent_excluding_units_where_grapi_cannot_be_computed: float (nullable = true)\n",
            " |-- gross_rent_as_a_percentage_of_household_income_grapi-housing_units-less_than_15_percent_occupied_units_paying_rent_excluding_units_where_grapi_cannot_be_computed: float (nullable = true)\n",
            " |-- gross_rent_as_a_percentage_of_household_income_grapi-percent-less_than_15_percent-of-occupied_units_paying_rent_excluding_units_where_grapi_cannot_be_computed: float (nullable = true)\n",
            " |-- gross_rent_as_a_percentage_of_household_income_grapi-housing_units-15_to_less_than_20_percent_occupied_units_paying_rent_excluding_units_where_grapi_cannot_be_computed: float (nullable = true)\n",
            " |-- gross_rent_as_a_percentage_of_household_income_grapi-percent-15_to_less_than_20_percent-of-occupied_units_paying_rent_excluding_units_where_grapi_cannot_be_computed: float (nullable = true)\n",
            " |-- gross_rent_as_a_percentage_of_household_income_grapi-housing_units-20_to_less_than_25_percent_occupied_units_paying_rent_excluding_units_where_grapi_cannot_be_computed: float (nullable = true)\n",
            " |-- gross_rent_as_a_percentage_of_household_income_grapi-percent-20_to_less_than_25_percent-of-occupied_units_paying_rent_excluding_units_where_grapi_cannot_be_computed: float (nullable = true)\n",
            " |-- gross_rent_as_a_percentage_of_household_income_grapi-housing_units-25_to_less_than_30_percent_occupied_units_paying_rent_excluding_units_where_grapi_cannot_be_computed: float (nullable = true)\n",
            " |-- gross_rent_as_a_percentage_of_household_income_grapi-percent-25_to_less_than_30_percent-of-occupied_units_paying_rent_excluding_units_where_grapi_cannot_be_computed: float (nullable = true)\n",
            " |-- gross_rent_as_a_percentage_of_household_income_grapi-housing_units-30_to_less_than_35_percent_occupied_units_paying_rent_excluding_units_where_grapi_cannot_be_computed: float (nullable = true)\n",
            " |-- gross_rent_as_a_percentage_of_household_income_grapi-percent-30_to_less_than_35_percent-of-occupied_units_paying_rent_excluding_units_where_grapi_cannot_be_computed: float (nullable = true)\n",
            " |-- gross_rent_as_a_percentage_of_household_income_grapi-housing_units-35_percent_or_more_occupied_units_paying_rent_excluding_units_where_grapi_cannot_be_computed: float (nullable = true)\n",
            " |-- gross_rent_as_a_percentage_of_household_income_grapi-percent-35_percent_or_more-of-occupied_units_paying_rent_excluding_units_where_grapi_cannot_be_computed: float (nullable = true)\n",
            " |-- gross_rent_as_a_percentage_of_household_income_grapi-housing_units-occupied_units_where_grapi_not_computed: float (nullable = true)\n",
            "\n"
          ]
        }
      ]
    },
    {
      "cell_type": "markdown",
      "source": [
        "Ran into a problem in the cell above, where apparently pyspark does not allow '.' in column names, so I had to replace all columns with this character to '_'."
      ],
      "metadata": {
        "id": "7Ly7xLCx4y4Z"
      }
    },
    {
      "cell_type": "code",
      "source": [
        "for col_name in rural_urban.columns[1:]:\n",
        "  rural_urban = rural_urban.withColumn(col_name, F.col(col_name).cast(\"float\"))\n",
        "rural_urban.printSchema()"
      ],
      "metadata": {
        "id": "2XGWlWCr28MY",
        "colab": {
          "base_uri": "https://localhost:8080/"
        },
        "outputId": "ee913094-d1ea-4ae5-81af-95da43f39d99"
      },
      "execution_count": null,
      "outputs": [
        {
          "output_type": "stream",
          "name": "stdout",
          "text": [
            "root\n",
            " |-- ZCTA5: string (nullable = true)\n",
            " |-- urban_rural-population-total_population: float (nullable = true)\n",
            " |-- urban_rural-population-urban_total_population: float (nullable = true)\n",
            " |-- urban_rural-population-rural_total_population: float (nullable = true)\n",
            " |-- urban_rural-percent-urban_population-of-total_population: float (nullable = true)\n",
            " |-- urban_rural-percent-rural_population-of-total_population: float (nullable = true)\n",
            "\n"
          ]
        }
      ]
    },
    {
      "cell_type": "code",
      "source": [
        "for col_name in social.columns[1:]:\n",
        "  social = social.withColumn(col_name, F.col(col_name).cast(\"float\"))\n",
        "social.printSchema()"
      ],
      "metadata": {
        "id": "cc5-LhO051fs",
        "colab": {
          "base_uri": "https://localhost:8080/"
        },
        "outputId": "33414e35-0923-4148-bae1-316cbdc2aeaf"
      },
      "execution_count": null,
      "outputs": [
        {
          "output_type": "stream",
          "name": "stdout",
          "text": [
            "root\n",
            " |-- ZCTA5: string (nullable = true)\n",
            " |-- households_by_type-total_households: float (nullable = true)\n",
            " |-- households_by_type-households-family_households: float (nullable = true)\n",
            " |-- households_by_type-percent-family_households-of-total_households: float (nullable = true)\n",
            " |-- households_by_type-households-family_households_with_own_children_of_the_householder_under_18_years: float (nullable = true)\n",
            " |-- households_by_type-percent-family_households_with_own_children_of_the_householder_under_18_years-of-total_households: float (nullable = true)\n",
            " |-- households_by_type-households-married_couple_family_households: float (nullable = true)\n",
            " |-- households_by_type-percent-married_couple_familiy_households-of-total_households: float (nullable = true)\n",
            " |-- households_by_type-households-married_couple_family_households_with_own_children_of_the_householder_under_18_years: float (nullable = true)\n",
            " |-- households_by_type-percent-married_couple_family_households_with_own_children_of_the_householder_under_18_years-of-total_households: float (nullable = true)\n",
            " |-- households_by_type-households-male_householder_no_wife_present_family_households: float (nullable = true)\n",
            " |-- households_by_type-percent-male_householder_no_wife_present_family_households-of-total_households: float (nullable = true)\n",
            " |-- households_by_type-households-male_householder_no_wife_present_family_households_with_own_children_of_the_householder_under_18_years: float (nullable = true)\n",
            " |-- households_by_type-percent-male_householder_no_wife_present_family_households_with_own_children_of_the_householder_under_18_years-of-total_households: float (nullable = true)\n",
            " |-- households_by_type-households-female_householder_no_husband_present_family_households: float (nullable = true)\n",
            " |-- households_by_type-percent-female_householder_no_husband_present_family_households-of-total_households: float (nullable = true)\n",
            " |-- households_by_type-households-female_householder_no_husband_present_family_households_with_own_children_of_the_householder_under_18_years: float (nullable = true)\n",
            " |-- households_by_type-percent-female_householder_no_husband_present_family_households_with_own_children_of_the_householder_under_18_years-of-total_households: float (nullable = true)\n",
            " |-- households_by_type-households-nonfamily_households: float (nullable = true)\n",
            " |-- households_by_type-percent-nonfamily_households-of-total_households: float (nullable = true)\n",
            " |-- households_by_type-households-householder_living_alone_households: float (nullable = true)\n",
            " |-- households_by_type-percent-householder_living_alone-of-total_households: float (nullable = true)\n",
            " |-- households_by_type-households-householder_living_alone_65_years_and_over-total_households: float (nullable = true)\n",
            " |-- households_by_type-percent-householder_living_alone_65_years_and_over-of-total_households: float (nullable = true)\n",
            " |-- households_by_type-households-households_with_one_or_more_people_under_18_years: float (nullable = true)\n",
            " |-- households_by_type-percent-households_with_one_or_more_people_under_18_years-of-total_households: float (nullable = true)\n",
            " |-- households_by_type-households_households_with_one_or_more_people_65_years_and_over: float (nullable = true)\n",
            " |-- households_by_type-percent-households_with_one_or_more_people_65_years_and_over-of-total_households: float (nullable = true)\n",
            " |-- households_by_type-population-average_household_size: float (nullable = true)\n",
            " |-- households_by_type-population-average_family_size: float (nullable = true)\n",
            " |-- relationship-population_in_households: float (nullable = true)\n",
            " |-- relationship-population-householder: float (nullable = true)\n",
            " |-- relationship-percent-householder-of-population_in_households: float (nullable = true)\n",
            " |-- relationship-population-spouse: float (nullable = true)\n",
            " |-- relationship-percent-spouse-of-population_in_households: float (nullable = true)\n",
            " |-- relationship-population-child: float (nullable = true)\n",
            " |-- relationship-percent-child-of-population_in_households: float (nullable = true)\n",
            " |-- relationship-population-other_relatives: float (nullable = true)\n",
            " |-- relationship-percent-other_relatives-of-population_in_households: float (nullable = true)\n",
            " |-- relationship-population-nonrelatives: float (nullable = true)\n",
            " |-- relationship-percent-nonrelatives-of-population_in_households: float (nullable = true)\n",
            " |-- relationship-population-nonrelatives_unmarried_partner: float (nullable = true)\n",
            " |-- relationship-percent-nonrelatives_unmarried_partner-of-population_in_households: float (nullable = true)\n",
            " |-- marital_status-population_males_15_years_and_over: float (nullable = true)\n",
            " |-- marital_status-population-never_married_males_15_years_and_over: float (nullable = true)\n",
            " |-- marital_status-percent-never_married-of-males_15_years_and_over: float (nullable = true)\n",
            " |-- marital_status-population-now_married_except_separated_males_15_years_and_over: float (nullable = true)\n",
            " |-- marital_status-percent-now_married_except_separated-of-males_15_years_and_over: float (nullable = true)\n",
            " |-- marital_status-population-separated_males_15_years_and_over: float (nullable = true)\n",
            " |-- marital_status-percent-separated-of-males_15_years_and_over: float (nullable = true)\n",
            " |-- marital_status-population-widowed_males_15_years_and_over: float (nullable = true)\n",
            " |-- marital_status-percent-widowed-of-males_15_years_and_over: float (nullable = true)\n",
            " |-- marital_status-population-divorced_males_15_years_and_over: float (nullable = true)\n",
            " |-- marital_status-percent-divorced-of-males_15_years_and_over: float (nullable = true)\n",
            " |-- marital_status-population_females_15_years_and_over: float (nullable = true)\n",
            " |-- marital_status-population-never_married_females_15_years_and_over: float (nullable = true)\n",
            " |-- marital_status-percent-never_married-of-females_15_years_and_over: float (nullable = true)\n",
            " |-- marital_status-population-now_married_except_separated_females_15_years_and_over: float (nullable = true)\n",
            " |-- marital_status-percent-now_married_except_separated-of-females_15_years_and_over: float (nullable = true)\n",
            " |-- marital_status-population-separated_females_15_years_and_over: float (nullable = true)\n",
            " |-- marital_status-percent-separated-of-females_15_years_and_over: float (nullable = true)\n",
            " |-- marital_status-population-widowed_females_15_years_and_over: float (nullable = true)\n",
            " |-- marital_status-percent-widowed-of-females_15_years_and_over: float (nullable = true)\n",
            " |-- marital_status-population-divorced_females_15_years_and_over: float (nullable = true)\n",
            " |-- marital_status-percent-divorced-of-females_15_years_and_over: float (nullable = true)\n",
            " |-- fertility-population-women_15_to_50_years_old_who_had_a_birth_in_the_past_12_months: float (nullable = true)\n",
            " |-- fertility-population-unmarried_women_15_to_50_years_old_who_had_a_birth_in_the_past_12_months: float (nullable = true)\n",
            " |-- fertility-percent-unmarried_women_widowed_divorced_or_never_married-of-number_of_women_15_to_50_years_old_who_had_a_birth_in_the_past_12_months: float (nullable = true)\n",
            " |-- fertility-population-unmarried_women_15_to_50_years_old_who_had_a_birth_in_the_past_12_months_per_1000_unmarried_women: float (nullable = true)\n",
            " |-- fertility-population-15_to_50_years_old_women_who_had_a_birth_in_the_past_12_months_per_1000_15_to_50_years_old_women: float (nullable = true)\n",
            " |-- fertility-population-15_to_19_years_old_women_who_had_a_birth_in_the_past_12_months_per_1000_15_to_50_years_old_women: float (nullable = true)\n",
            " |-- fertility-population-20_to_34_years_old_women_who_had_a_birth_in_the_past_12_months_per_1000_15_to_50_years_old_women: float (nullable = true)\n",
            " |-- fertility-population-35_to_50_years_old_women_who_had_a_birth_in_the_past_12_months_per_1000_15_to_50_years_old_women: float (nullable = true)\n",
            " |-- grandparents-population-grandparents_living_with_own_grandchildren_under_18_years: float (nullable = true)\n",
            " |-- grandparents-population-grandparents_responsible_for_grandchildren_living_with_own_grandchildren_under_18_years: float (nullable = true)\n",
            " |-- grandparents-percent-grandparents_responsible_for_grandchildren-of-grandparents_living_with_own_grandchildren_under_18_years: float (nullable = true)\n",
            " |-- grandparents-population-responsible_for_grandchildren_less_than_1_year_grandparents_living_with_own_grandchildren_under_18_years: float (nullable = true)\n",
            " |-- grandparents-percent-responsible_for_grandchildren_less_than_1_year-of-grandparents_living_with_own_grandchildren_under_18_years: float (nullable = true)\n",
            " |-- grandparents-population-responsible_for_grandchildren_1_to_2_years_grandparents_living_with_own_grandchildren_under_18_years: float (nullable = true)\n",
            " |-- grandparents-percent-responsible_for_grandchildren_1_to_2_years-of-grandparents_living_with_own_grandchildren_under_18_years: float (nullable = true)\n",
            " |-- grandparents-population-responsible_for_grandchildren_3_or_4_years_grandparents_living_with_own_grandchildren_under_18_years: float (nullable = true)\n",
            " |-- grandparents-percent-responsible_for_grandchildren_3_or_4_years-of-grandparents_living_with_own_grandchildren_under_18_years: float (nullable = true)\n",
            " |-- grandparents-population-responsible_for_grandchildren_5_or_more_years_grandparents_living_with_own_grandchildren_under_18_years: float (nullable = true)\n",
            " |-- grandparents-percent-responsible_for_grandchildren_5_or_more_years-of-grandparents_living_with_own_grandchildren_under_18_years: float (nullable = true)\n",
            " |-- grandparents-population-female_grandparents_responsible_for_own_grandchildren_under_18_years: float (nullable = true)\n",
            " |-- grandparents-percent-female-of-grandparents_responsible_for_own_grandchildren_under_18_years: float (nullable = true)\n",
            " |-- grandparents-population-married_grandparents_responsible_for_own_grandchildren_under_18_years: float (nullable = true)\n",
            " |-- grandparents-percent-married-of-grandparents_responsible_for_own_grandchildren_under_18_years: float (nullable = true)\n",
            " |-- school_enrollment-population-population_3_years_and_over_enrolled_in_school: float (nullable = true)\n",
            " |-- school_enrollment-population-nursery_school_preschool_population_3_years_and_over_enrolled_in_school: float (nullable = true)\n",
            " |-- school_enrollment-percent-nursery_school_preschool-of-population_3_years_and_over_enrolled_in_school: float (nullable = true)\n",
            " |-- school_enrollment-population-kindergarten_population_3_years_and_over_enrolled_in_school: float (nullable = true)\n",
            " |-- school_enrollment-percent-kindergarten-of-population_3_years_and_over_enrolled_in_school: float (nullable = true)\n",
            " |-- school_enrollment-population-elementary_school_grades_1_to_8_population_3_years_and_over_enrolled_in_school: float (nullable = true)\n",
            " |-- school_enrollment-percent-elementary_school_grades_1_to_8-of-population_3_years_and_over_enrolled_in_school: float (nullable = true)\n",
            " |-- school_enrollment-population-high_school_grades_9_to_12-population_3_years_and_over_enrolled_in_school: float (nullable = true)\n",
            " |-- school_enrollment-percent-high_school_grades_9_to_12-of-population_3_years_and_over_enrolled_in_school: float (nullable = true)\n",
            " |-- school_enrollment-population-college_or_graduate_school_population_3_years_and_over_enrolled_in_school: float (nullable = true)\n",
            " |-- school_enrollment-percent-college_or_graduate_school-of-population_3_years_and_over_enrolled_in_school: float (nullable = true)\n",
            " |-- educational_attainment-population-population_25_years_and_over: float (nullable = true)\n",
            " |-- educational_attainment-population-less_than_9th_grade_population_25_years_and_over: float (nullable = true)\n",
            " |-- educational_attainment-percent-less_than_9th_grade-of-population_25_years_and_over: float (nullable = true)\n",
            " |-- educational_attainment-population-9th_to_12th_grade_no_diploma_population_25_years_and_over: float (nullable = true)\n",
            " |-- educational_attainment-percent-9th_to_12th_grade_no_diploma-of-population_25_years_and_over: float (nullable = true)\n",
            " |-- educational_attainment-population-high_school_graduate_includes_equivalency_population_25_years_and_over: float (nullable = true)\n",
            " |-- educational_attainment-percent-high_school_graduate_includes_equivalency-of-population_25_years_and_over: float (nullable = true)\n",
            " |-- educational_attainment-population-some_college_no_degree_population_25_years_and_over: float (nullable = true)\n",
            " |-- educational_attainment-percent-some_college_no_degree-of-population_25_years_and_over: float (nullable = true)\n",
            " |-- educational_attainment-population-associates_degree_population_25_years_and_over: float (nullable = true)\n",
            " |-- educational_attainment-percent-associates_degree-of-population_25_years_and_over: float (nullable = true)\n",
            " |-- educational_attainment-population-bachelors_degree_population_25_years_and_over: float (nullable = true)\n",
            " |-- educational_attainment-percent-bachelors_degree-of-population_25_years_and_over: float (nullable = true)\n",
            " |-- educational_attainment-population-graduate_or_professional_degree_population_25_years_and_over: float (nullable = true)\n",
            " |-- educational_attainment-percent-graduate_or_professional_degree-of-population_25_years_and_over: float (nullable = true)\n",
            " |-- educational_attainment-percent-high_school_graduate_or_higher-of-population_25_years_and_over: float (nullable = true)\n",
            " |-- educational_attainment-percent-bachelors_degree_or_higher-of-population_25_years_and_over: float (nullable = true)\n",
            " |-- veteran_status-population-civilian_population_18_years_and_over: float (nullable = true)\n",
            " |-- veteran_status-population-civilian_veterans_civilian_population_18_years_and_over: float (nullable = true)\n",
            " |-- veteran_status-percent-civilian_veterans-of-civilian_population_18_years_and_over: float (nullable = true)\n",
            " |-- disability_status_of_the_civilian_noninstitutionalized_population-population-total_civilian_noninstitutionalized_population: float (nullable = true)\n",
            " |-- disability_status_of_the_civilian_noninstitutionalized_population-population-with_a_disability_total_civilian_noninstitutionalized_population: float (nullable = true)\n",
            " |-- disability_status_of_the_civilian_noninstitutionalized_population-percent-with_a_disability-of-total_civilian_noninstitutionalized_population: float (nullable = true)\n",
            " |-- disability_status_of_the_civilian_noninstitutionalized_population-population-under_18_years: float (nullable = true)\n",
            " |-- disability_status_of_the_civilian_noninstitutionalized_population-population-with_a_disability_under_18_years: float (nullable = true)\n",
            " |-- disability_status_of_the_civilian_noninstitutionalized_population-percent-with_a_disability-of-under_18_years: float (nullable = true)\n",
            " |-- disability_status_of_the_civilian_noninstitutionalized_population-population_18_to_64_years: float (nullable = true)\n",
            " |-- disability_status_of_the_civilian_noninstitutionalized_population-population-with_a_disability_18_to_64_years: float (nullable = true)\n",
            " |-- disability_status_of_the_civilian_noninstitutionalized_population-percent-with_a_disability-of-18_to_64_years: float (nullable = true)\n",
            " |-- disability_status_of_the_civilian_noninstitutionalized_population-population_65_years_and_over: float (nullable = true)\n",
            " |-- disability_status_of_the_civilian_noninstitutionalized_population-population-with_a_disability_65_years_and_over: float (nullable = true)\n",
            " |-- disability_status_of_the_civilian_noninstitutionalized_population-percent-with_a_disability-of-65_years_and_over: float (nullable = true)\n",
            " |-- residence_1_year_ago-population-population_1_year_and_over: float (nullable = true)\n",
            " |-- residence_1_year_ago-population-same_house_population_1_year_and_over: float (nullable = true)\n",
            " |-- residence_1_year_ago-percent-same_house-of-population_1_year_and_over: float (nullable = true)\n",
            " |-- residence_1_year_ago-population-diff_house_population_1_year_and_over: float (nullable = true)\n",
            " |-- residence_1_year_ago-percent-diff_house-of-population_1_year_and_over: float (nullable = true)\n",
            " |-- residence_1_year_ago-population-abroad_population_1_year_and_over: float (nullable = true)\n",
            " |-- residence_1_year_ago-percent-abroad-of-population_1_year_and_over: float (nullable = true)\n",
            " |-- place_of_birth-population-total_population: float (nullable = true)\n",
            " |-- place_of_birth-population-born_native_total_population: float (nullable = true)\n",
            " |-- place_of_birth-percent-born_native-of-total_population: float (nullable = true)\n",
            " |-- place_of_birth-population-born_in_usa_or_pr_if_zip_is_pr_total_population: float (nullable = true)\n",
            " |-- place_of_birth-percent-born_in_usa_or_pr_if_zip_is_pr-of-total_population: float (nullable = true)\n",
            " |-- place_of_birth-population-born_native_same_state_as_residence_total_population: float (nullable = true)\n",
            " |-- place_of_birth-percent-born_native_same_state_as_residence-of-total_population: float (nullable = true)\n",
            " |-- place_of_birth-population-born_native_diff_state_as_residence_total_population: float (nullable = true)\n",
            " |-- place_of_birth-percent-born_native_diff_state_as_residence-of-total_population: float (nullable = true)\n",
            " |-- place_of_birth-population-born_abroad_incl_pr_if_zip_is_usa_total_population: float (nullable = true)\n",
            " |-- place_of_birth-percent-born_abroad_incl_pr_if_zip_is_usa-of-total_population: float (nullable = true)\n",
            " |-- place_of_birth-population-foreign_born_total_population: float (nullable = true)\n",
            " |-- place_of_birth-percent-foreign_born-of-total_population: float (nullable = true)\n",
            " |-- us_citizenship_status-population-foreign_born_population: float (nullable = true)\n",
            " |-- us_citizenship_status-population-naturalized_us_citizen_foreign_born_population: float (nullable = true)\n",
            " |-- us_citizenship_status-population-naturalized_us_citizen-of-foreign_born_population: float (nullable = true)\n",
            " |-- us_citizenship_status-population-not_us_citizen_foreign_born_population: float (nullable = true)\n",
            " |-- us_citizenship_status-population-not_us_citizen-of-foreign_born_population: float (nullable = true)\n",
            " |-- world_region_of_birth_of_foreign_born-population-foreign_born_population_excluding_born_at_sea: float (nullable = true)\n",
            " |-- world_region_of_birth_of_foreign_born-population-foreign_europe_born_population_excluding_population_born_at_sea: float (nullable = true)\n",
            " |-- world_region_of_birth_of_foreign_born-percent-foreign_europe_born-of-foreign_born_population_excluding_population_born_at_sea: float (nullable = true)\n",
            " |-- world_region_of_birth_of_foreign_born-population-foreign_asia_born_population_excluding_population_born_at_sea: float (nullable = true)\n",
            " |-- world_region_of_birth_of_foreign_born-percent-foreign_asia_born-of-foreign_born_population_excluding_population_born_at_sea: float (nullable = true)\n",
            " |-- world_region_of_birth_of_foreign_born-population-foreign_africa_born_population_excluding_population_born_at_sea: float (nullable = true)\n",
            " |-- world_region_of_birth_of_foreign_born-percent-foreign_africa_born-of-foreign_born_population_excluding_population_born_at_sea: float (nullable = true)\n",
            " |-- world_region_of_birth_of_foreign_born-population-foreign_oceania_born_population_excluding_population_born_at_sea: float (nullable = true)\n",
            " |-- world_region_of_birth_of_foreign_born-percent-foreign_oceania_born-of-foreign_born_population_excluding_population_born_at_sea: float (nullable = true)\n",
            " |-- world_region_of_birth_of_foreign_born-population-foreign_latin_america_born_population_excluding_population_born_at_sea: float (nullable = true)\n",
            " |-- world_region_of_birth_of_foreign_born-percent-foreign_latin_america_born-of-foreign_born_population_excluding_population_born_at_sea: float (nullable = true)\n",
            " |-- world_region_of_birth_of_foreign_born-population-foreign_northern_america_born_population_excluding_population_born_at_sea: float (nullable = true)\n",
            " |-- world_region_of_birth_of_foreign_born-percent-foreign_northern_america_born-of-foreign_born_population_excluding_population_born_at_sea: float (nullable = true)\n",
            " |-- language_spoken_at_home-population-population_5_years_and_over: float (nullable = true)\n",
            " |-- language_spoken_at_home-population-english_only_population_5_years_and_over: float (nullable = true)\n",
            " |-- language_spoken_at_home-percent-english_only-of-population_5_years_and_over: float (nullable = true)\n",
            " |-- language_spoken_at_home-population-language_other_than_english_population_5_years_and_over: float (nullable = true)\n",
            " |-- language_spoken_at_home-percent-language_other_than_english-of-population_5_years_and_over: float (nullable = true)\n",
            " |-- language_spoken_at_home-population-language_other_than_english_speak_english_less_than_very_well_population_5_years_and_over: float (nullable = true)\n",
            " |-- language_spoken_at_home-percent-language_other_than_english_speak_english_less_than_very_well-of-population_5_years_and_over: float (nullable = true)\n",
            " |-- language_spoken_at_home-population-spanish_population_5_years_and_over: float (nullable = true)\n",
            " |-- language_spoken_at_home-percent-spanish-of-population_5_years_and_over: float (nullable = true)\n",
            " |-- language_spoken_at_home-population-spanish_speak_english_less_than_very_well_population_5_years_and_over: float (nullable = true)\n",
            " |-- language_spoken_at_home-percent-spanish_speak_english_less_than_very_well-of-population_5_years_and_over: float (nullable = true)\n",
            " |-- language_spoken_at_home-population-other_indo_european_languages_population_5_years_and_over: float (nullable = true)\n",
            " |-- language_spoken_at_home-percent-other_indo_european_languages-of-population_5_years_and_over: float (nullable = true)\n",
            " |-- language_spoken_at_home-population-other_indo_european_languages_speak_english_less_than_very_well_population_5_years_and_over: float (nullable = true)\n",
            " |-- language_spoken_at_home-percent-other_indo_european_languages_speak_english_less_than_very_well-of-population_5_years_and_over: float (nullable = true)\n",
            " |-- language_spoken_at_home-population-asian_and_pacific_islander_languages_population_5_years_and_over: float (nullable = true)\n",
            " |-- language_spoken_at_home-percent-asian_and_pacific_islander_languages-of-population_5_years_and_over: float (nullable = true)\n",
            " |-- language_spoken_at_home-population-asian_and_pacific_islander_languages_speak_english_less_than_very_well-population_5_years_and_over: float (nullable = true)\n",
            " |-- language_spoken_at_home-percent-asian_and_pacific_islander_languages_speak_english_less_than_very_well-of-population_5_years_and_over: float (nullable = true)\n",
            " |-- language_spoken_at_home-population-other_languages_population_5_years_and_over: float (nullable = true)\n",
            " |-- language_spoken_at_home-percent-other_languages-of-population_5_years_and_over: float (nullable = true)\n",
            " |-- language_spoken_at_home-population-other_languages_speak_english_less_than_very_well-population_5_years_and_over: float (nullable = true)\n",
            " |-- language_spoken_at_home-percent-other_languages_speak_english_less_than_very_well-of-population_5_years_and_over: float (nullable = true)\n",
            " |-- ancestry-population-total_population: float (nullable = true)\n",
            " |-- ancestry-population-american_total_population: float (nullable = true)\n",
            " |-- ancestry-percent-american-of-total_population: float (nullable = true)\n",
            " |-- ancestry-population-arab_total_population: float (nullable = true)\n",
            " |-- ancestry-percent-arab-of-total_population: float (nullable = true)\n",
            " |-- ancestry-population-czech_total_population: float (nullable = true)\n",
            " |-- ancestry-percent-czech-of-total_population: float (nullable = true)\n",
            " |-- ancestry-population-danish_total_population: float (nullable = true)\n",
            " |-- ancestry-percent-danish-of-total_population: float (nullable = true)\n",
            " |-- ancestry-population-dutch_total_population: float (nullable = true)\n",
            " |-- ancestry-percent-dutch-of-total_population: float (nullable = true)\n",
            " |-- ancestry-population-english_total_population: float (nullable = true)\n",
            " |-- ancestry-percent-english-of-total_population: float (nullable = true)\n",
            " |-- ancestry-population-french_except_basque_total_population: float (nullable = true)\n",
            " |-- ancestry-percent-french_except_basque-of-total_population: float (nullable = true)\n",
            " |-- ancestry-population-french_canadian_total_population: float (nullable = true)\n",
            " |-- ancestry-percent-french_canadian-of-total_population: float (nullable = true)\n",
            " |-- ancestry-population-german_total_population: float (nullable = true)\n",
            " |-- ancestry-percent-german-of-total_population: float (nullable = true)\n",
            " |-- ancestry-population-greek_total_population: float (nullable = true)\n",
            " |-- ancestry-percent-greek-of-total_population: float (nullable = true)\n",
            " |-- ancestry-population-hungarian_total_population: float (nullable = true)\n",
            " |-- ancestry-percent-hungarian-of-total_population: float (nullable = true)\n",
            " |-- ancestry-population-irish_total_population: float (nullable = true)\n",
            " |-- ancestry-percent-irish-of-total_population: float (nullable = true)\n",
            " |-- ancestry-population-italian_total_population: float (nullable = true)\n",
            " |-- ancestry-percent-italian-of-total_population: float (nullable = true)\n",
            " |-- ancestry-population-lithuanian_total_population: float (nullable = true)\n",
            " |-- ancestry-percent-lithuanian-of-total_population: float (nullable = true)\n",
            " |-- ancestry-population-norwegian_total_population: float (nullable = true)\n",
            " |-- ancestry-percent-norwegian-of-total_population: float (nullable = true)\n",
            " |-- ancestry-population-polish_total_population: float (nullable = true)\n",
            " |-- ancestry-percent-polish-of-total_population: float (nullable = true)\n",
            " |-- ancestry-population-portuguese_total_population: float (nullable = true)\n",
            " |-- ancestry-percent-portuguese-of-total_population: float (nullable = true)\n",
            " |-- ancestry-population-russian_total_population: float (nullable = true)\n",
            " |-- ancestry-percent-russian-of-total_population: float (nullable = true)\n",
            " |-- ancestry-population-scotch-total_population_irish: float (nullable = true)\n",
            " |-- ancestry-percent-scotch-of-total_population-irish: float (nullable = true)\n",
            " |-- ancestry-population-scottish_total_population: float (nullable = true)\n",
            " |-- ancestry-percent-scottish-of-total_population: float (nullable = true)\n",
            " |-- ancestry-population-slovak_total_population: float (nullable = true)\n",
            " |-- ancestry-percent-slovak-of-total_population: float (nullable = true)\n",
            " |-- ancestry-population-subsaharan_african_total_population: float (nullable = true)\n",
            " |-- ancestry-percent-subsaharan_african-of-total_population: float (nullable = true)\n",
            " |-- ancestry-population-swedish_total_population: float (nullable = true)\n",
            " |-- ancestry-percent-swedish-of-total_population: float (nullable = true)\n",
            " |-- ancestry-population-swiss_total_population: float (nullable = true)\n",
            " |-- ancestry-percent-swiss-of-total_population: float (nullable = true)\n",
            " |-- ancestry-population-ukrainian_total_population: float (nullable = true)\n",
            " |-- ancestry-percent-ukrainian-of-total_population: float (nullable = true)\n",
            " |-- ancestry-population-welsh_total_population: float (nullable = true)\n",
            " |-- ancestry-percent-welsh-of-total_population: float (nullable = true)\n",
            " |-- ancestry-population-west_indian_excluding_hispanic_origin_groups_total_population: float (nullable = true)\n",
            " |-- ancestry-percent-west_indian_excluding_hispanic_origin_groups-of-total_population: float (nullable = true)\n",
            " |-- computers_and_internet_use-households-total_households: float (nullable = true)\n",
            " |-- computers_and_internet_use-households-with_a_computer_total_households: float (nullable = true)\n",
            " |-- computers_and_internet_use-percent-with_a_computer-of-total_households: float (nullable = true)\n",
            " |-- computers_and_internet_use-households-with_a_broadband_internet_subscription_total_households: float (nullable = true)\n",
            " |-- computers_and_internet_use-percent-with_a_broadband_internet_subscription-of-total_households: float (nullable = true)\n",
            "\n"
          ]
        }
      ]
    },
    {
      "cell_type": "markdown",
      "source": [
        "## Joins"
      ],
      "metadata": {
        "id": "FfmHXObb6IYk"
      }
    },
    {
      "cell_type": "code",
      "source": [
        "#Now we join all of them by modified zipcodes using left join\n",
        "census = demo.join(econ, on=\"ZCTA5\", how=\"left\")\\\n",
        "             .join(housing, on=\"ZCTA5\", how=\"left\")\\\n",
        "             .join(rural_urban, on=\"ZCTA5\", how=\"left\")\\\n",
        "             .join(social, on=\"ZCTA5\", how=\"left\")"
      ],
      "metadata": {
        "id": "EeYNOV1k6U0D"
      },
      "execution_count": null,
      "outputs": []
    },
    {
      "cell_type": "markdown",
      "source": [
        "## (3) Check your work"
      ],
      "metadata": {
        "id": "2HQqyND-q3OK"
      }
    },
    {
      "cell_type": "markdown",
      "source": [
        "To get full credit, you should have:\n",
        "* (33120, ~900)\n",
        "* All numeric columns (except for the clean zipcode column which should be a string - state why this column must be a string!)\n",
        "\n",
        "The zipcode column must be a string in order to account for leading zeroes!! (e.g., 00646 is 646 if converted to a numerical dtype)"
      ],
      "metadata": {
        "id": "byWNWtVdsVdX"
      }
    },
    {
      "cell_type": "code",
      "source": [
        "# Verify df size:\n",
        "\n",
        "print((census.count(), len(census.columns)))"
      ],
      "metadata": {
        "id": "pX9A_2bo7x2X",
        "colab": {
          "base_uri": "https://localhost:8080/"
        },
        "outputId": "3bc5c0c8-1f1d-44bc-c682-b4b8c90a8219"
      },
      "execution_count": null,
      "outputs": [
        {
          "output_type": "stream",
          "name": "stdout",
          "text": [
            "(33120, 887)\n"
          ]
        }
      ]
    },
    {
      "cell_type": "markdown",
      "source": [
        "# 🔴 Analysis Questions (70 points)"
      ],
      "metadata": {
        "id": "wtLQ0DCSvpSf"
      }
    },
    {
      "cell_type": "markdown",
      "source": [
        "10 pts each."
      ],
      "metadata": {
        "id": "slPlIhjSmhEq"
      }
    },
    {
      "cell_type": "markdown",
      "source": [
        "## (1) Join the combined census data to the PPP data based on the zipcode "
      ],
      "metadata": {
        "id": "ECCq2PBHiWDa"
      }
    },
    {
      "cell_type": "markdown",
      "source": [
        "Let's call this new file `df`. Use `df` for all future analysis questions."
      ],
      "metadata": {
        "id": "58t_NGxzp7Bb"
      }
    },
    {
      "cell_type": "code",
      "source": [
        "# here we have to use different \"notation\" in the \"on\" param because the columns that we are joining on are named differently.\n",
        "df = census.join(PPP, on = (PPP.BorrowerZip == census.ZCTA5), how=\"right\")"
      ],
      "metadata": {
        "id": "q3jguTY0ii41"
      },
      "execution_count": null,
      "outputs": []
    },
    {
      "cell_type": "markdown",
      "source": [
        "## (2) Identify the Top 10 states that received loans"
      ],
      "metadata": {
        "id": "9GCTJvjxijTg"
      }
    },
    {
      "cell_type": "markdown",
      "source": [
        "Defined as the sum of funds per State across all records. You will need to recode this column because it is categorical data. Use the upper limit of each range and make sure it is NUMERIC data."
      ],
      "metadata": {
        "id": "7gDoliZwv4gp"
      }
    },
    {
      "cell_type": "code",
      "source": [
        "# column name for amount loaned is CurrentApprovalAmount\n",
        "\n",
        "(df\n",
        " .withColumn(\"CurrentApprovalAmount\", df.CurrentApprovalAmount.cast(\"float\"))\\\n",
        " .groupby(\"BorrowerState\")\\\n",
        " .agg(F.sum(\"CurrentApprovalAmount\").alias(\"TotLoanAmt\"))\\\n",
        " .orderBy(\"TotLoanAmt\", ascending = False).show(10, truncate = False))"
      ],
      "metadata": {
        "id": "-2DTwhvqipWU",
        "colab": {
          "base_uri": "https://localhost:8080/"
        },
        "outputId": "e26dd253-4caf-49ff-9d6b-23aa8cd3979d"
      },
      "execution_count": null,
      "outputs": [
        {
          "output_type": "stream",
          "name": "stdout",
          "text": [
            "+-------------+---------------------+\n",
            "|BorrowerState|TotLoanAmt           |\n",
            "+-------------+---------------------+\n",
            "|CA           |1.0315872157083537E11|\n",
            "|NY           |4.2000492848421875E10|\n",
            "|TX           |4.0223791966390625E10|\n",
            "|FL           |2.8194733216921875E10|\n",
            "|IL           |2.3202992045765625E10|\n",
            "|PA           |2.1349754679765625E10|\n",
            "|OH           |1.8559222771640625E10|\n",
            "|NJ           |1.7427779805171875E10|\n",
            "|MI           |1.6384077707234375E10|\n",
            "|CO           |1.5060060392714905E10|\n",
            "+-------------+---------------------+\n",
            "only showing top 10 rows\n",
            "\n"
          ]
        }
      ]
    },
    {
      "cell_type": "markdown",
      "source": [
        "## (3) Identify the Top 10 banks that loaned money\n",
        "Defined as the sum of loaned funds per State across all records. Are many of the banks who loaned the most money in the same State? \n",
        "\n",
        "Again, make sure you are using the numeric version of this categorical column!"
      ],
      "metadata": {
        "id": "P0Iau-sIJGfH"
      }
    },
    {
      "cell_type": "code",
      "source": [
        "#we sum the approval ammounts by lender and order them in descending order of approval amount\n",
        "(df\n",
        " .withColumn(\"CurrentApprovalAmount\", df.CurrentApprovalAmount.cast(\"float\"))\\\n",
        " .groupby(\"ServicingLenderName\")\\\n",
        " .agg(F.sum(\"CurrentApprovalAmount\").alias(\"TotLoanAmt\"))\\\n",
        " .orderBy(\"TotLoanAmt\", ascending = False).show(10, truncate = False))"
      ],
      "metadata": {
        "id": "IhcCFacyJMxP",
        "colab": {
          "base_uri": "https://localhost:8080/"
        },
        "outputId": "8d031245-d5c8-4f28-e0c9-90b65d88f460"
      },
      "execution_count": null,
      "outputs": [
        {
          "output_type": "stream",
          "name": "stdout",
          "text": [
            "+-----------------------------------------+---------------------+\n",
            "|ServicingLenderName                      |TotLoanAmt           |\n",
            "+-----------------------------------------+---------------------+\n",
            "|JPMorgan Chase Bank, National Association|3.1530739578298096E10|\n",
            "|Bank of America, National Association    |2.519389820135132E10 |\n",
            "|PNC Bank, National Association           |1.6891121451722168E10|\n",
            "|Truist Bank                              |1.2411706022678467E10|\n",
            "|Manufacturers and Traders Trust Company  |1.0901213110384766E10|\n",
            "|Wells Fargo Bank, National Association   |9.660352278121094E9  |\n",
            "|KeyBank National Association             |9.113303359088867E9  |\n",
            "|Zions Bank, A Division of                |8.598843965685852E9  |\n",
            "|The Huntington National Bank             |8.550929716760345E9  |\n",
            "|Loan Source Incorporated                 |8.416361993942444E9  |\n",
            "+-----------------------------------------+---------------------+\n",
            "only showing top 10 rows\n",
            "\n"
          ]
        }
      ]
    },
    {
      "cell_type": "markdown",
      "source": [
        "## (4) Which banks loaned the most money to businesses that were in the same State?\n",
        "You will need to do a logical statement here! For example, given that a bank is headquarted in CT, how much money was loaned to CT businesses by this bank?\n",
        "\n",
        "Generalize to all banks and businesses where this is true, then sort from high to low (return the top 10.)"
      ],
      "metadata": {
        "id": "rP4B2AScMFvE"
      }
    },
    {
      "cell_type": "code",
      "source": [
        "#we perform logical statements on lender and borrower state and group them according to lender name\n",
        "#the sum of money is then found and displayed in descening order\n",
        "(df\n",
        " .where(\"BorrowerState == ServicingLenderState\")\\\n",
        " .where(\"BorrowerState is not null\")\\\n",
        " .where(\"ServicingLenderState is not null\")\\\n",
        " .withColumn(\"CurrentApprovalAmount\", df.CurrentApprovalAmount.cast(\"float\"))\\\n",
        " .groupby([\"ServicingLenderName\", \"BorrowerState\"])\\\n",
        " .agg(F.sum(\"CurrentApprovalAmount\").alias(\"TotLoanAmt\"))\\\n",
        " .orderBy(\"TotLoanAmt\", ascending = False).show(10, truncate = False))"
      ],
      "metadata": {
        "id": "_bg4qzwjMdRO",
        "colab": {
          "base_uri": "https://localhost:8080/"
        },
        "outputId": "f45ca057-448c-47d1-a2c7-e9be07619128"
      },
      "execution_count": null,
      "outputs": [
        {
          "output_type": "stream",
          "name": "stdout",
          "text": [
            "+---------------------------------------+-------------+--------------------+\n",
            "|ServicingLenderName                    |BorrowerState|TotLoanAmt          |\n",
            "+---------------------------------------+-------------+--------------------+\n",
            "|City National Bank                     |CA           |4.5722114298063965E9|\n",
            "|Manufacturers and Traders Trust Company|NY           |4.003545698484375E9 |\n",
            "|Frost Bank                             |TX           |3.588387734296875E9 |\n",
            "|The Huntington National Bank           |OH           |3.26970364146875E9  |\n",
            "|Bank of the West                       |CA           |2.8896981181171875E9|\n",
            "|MUFG Union Bank, National Association  |CA           |2.880900688368286E9 |\n",
            "|Harvest Small Business Finance, LLC    |CA           |2.3870945708529663E9|\n",
            "|Signature Bank                         |NY           |2.2491512203125E9   |\n",
            "|Truist Bank                            |NC           |2.124761042046875E9 |\n",
            "|East West Bank                         |CA           |2.0044987149685059E9|\n",
            "+---------------------------------------+-------------+--------------------+\n",
            "only showing top 10 rows\n",
            "\n"
          ]
        }
      ]
    },
    {
      "cell_type": "markdown",
      "source": [
        "## (5) Which zipcodes received the most funding per capita?\n",
        "This requires you to calculate the sum of funds per zipcode and then divide by the population per zipcode, then sort from high to low. \n",
        "\n",
        "Make sure you use the clean 5 digit zip code!"
      ],
      "metadata": {
        "id": "4a9w5k3LyTkY"
      }
    },
    {
      "cell_type": "code",
      "source": [
        "#find sum of amounts per zipcode and population. perform division operation and sort value(fund per capita) in descending order\n",
        "(df \n",
        "  .groupBy(\"ZCTA5\") \\\n",
        "  .agg(F.sum(F.col(\"CurrentApprovalAmount\").cast('double')).alias(\"Funds Total\")) \\\n",
        "  .join(census.select(F.col(\"ZCTA5\"), F.col(\"sex_and_age-population-total_population\").alias(\"Population\")), on = \"ZCTA5\")\n",
        "  .withColumn(\"Funds per Capita\", F.col(\"Funds Total\").cast('double') / F.col(\"Population\").cast('double')) \\\n",
        "  .select(F.col(\"ZCTA5\"), \n",
        "          F.col(\"Population\"),\n",
        "          F.col(\"Funds Total\"),\n",
        "          F.col(\"Funds per Capita\")) \\\n",
        "  .orderBy('Funds per Capita', ascending = False).show(100, False))"
      ],
      "metadata": {
        "id": "sDDIwUx3-_Qf",
        "colab": {
          "base_uri": "https://localhost:8080/"
        },
        "outputId": "ed620326-5d9b-49e0-d488-3442551abcbf"
      },
      "execution_count": null,
      "outputs": [
        {
          "output_type": "stream",
          "name": "stdout",
          "text": [
            "+-----+----------+--------------------+------------------+\n",
            "|ZCTA5|Population|Funds Total         |Funds per Capita  |\n",
            "+-----+----------+--------------------+------------------+\n",
            "|32830|11.0      |1.0692705E7         |972064.0909090909 |\n",
            "|20118|6.0       |5015358.0           |835893.0          |\n",
            "|99706|3.0       |1738518.22          |579506.0733333334 |\n",
            "|06856|6.0       |3237329.0           |539554.8333333334 |\n",
            "|11556|14.0      |7313721.0           |522408.64285714284|\n",
            "|00951|8.0       |3187699.0           |398462.375        |\n",
            "|55111|4.0       |1441780.0           |360445.0          |\n",
            "|18454|4.0       |1357999.5           |339499.875        |\n",
            "|94104|489.0     |1.1996629496E8      |245329.84654396726|\n",
            "|33122|151.0     |3.339230034E7       |221141.06185430463|\n",
            "|07608|86.0      |1.454016167E7       |169071.6473255814 |\n",
            "|86003|4.0       |611469.91           |152867.4775       |\n",
            "|55402|309.0     |4.303935032E7       |139285.92336569578|\n",
            "|70801|32.0      |4293092.82          |134159.150625     |\n",
            "|94573|86.0      |1.136207471E7       |132117.1477906977 |\n",
            "|64065|39.0      |4622800.0           |118533.33333333333|\n",
            "|17507|36.0      |4088305.0           |113564.02777777778|\n",
            "|85654|53.0      |5438185.0           |102607.2641509434 |\n",
            "|95305|28.0      |2700464.0           |96445.14285714286 |\n",
            "|11430|179.0     |1.7259957E7         |96424.3407821229  |\n",
            "|19710|15.0      |1304059.0           |86937.26666666666 |\n",
            "|98164|135.0     |1.172506135E7       |86852.30629629629 |\n",
            "|28725|33.0      |2438535.0           |73895.0           |\n",
            "|10519|137.0     |9796046.940000001   |71503.99226277374 |\n",
            "|79085|19.0      |1340400.0           |70547.36842105263 |\n",
            "|75247|661.0     |4.532323078000001E7 |68567.67137670198 |\n",
            "|11931|34.0      |2176194.5           |64005.720588235294|\n",
            "|60603|1029.0    |6.078950664E7       |59076.294110787174|\n",
            "|10915|14.0      |820385.55           |58598.96785714286 |\n",
            "|98134|847.0     |4.9173014559999995E7|58055.507154663515|\n",
            "|11042|549.0     |3.110030482E7       |56649.006958105645|\n",
            "|32461|21.0      |1176063.4100000001  |56003.01952380953 |\n",
            "|89402|14.0      |767995.0            |54856.78571428572 |\n",
            "|60604|619.0     |3.332654182E7       |53839.32442649435 |\n",
            "|61077|40.0      |2137726.6           |53443.165         |\n",
            "|60602|1252.0    |6.560910133E7       |52403.43556709265 |\n",
            "|46290|231.0     |1.207403747E7       |52268.560476190476|\n",
            "|10018|9684.0    |4.8494671331000006E8|50077.10794196613 |\n",
            "|60606|3011.0    |1.5034872726999998E8|49933.15419129856 |\n",
            "|80544|34.0      |1687104.0           |49620.705882352944|\n",
            "|10004|3044.0    |1.3947474199E8      |45819.56044349541 |\n",
            "|30336|522.0     |2.381218528E7       |45617.21318007663 |\n",
            "|19735|50.0      |2269000.0           |45380.0           |\n",
            "|45041|101.0     |4557907.0           |45127.792079207924|\n",
            "|07870|8.0       |353230.0            |44153.75          |\n",
            "|03911|64.0      |2820521.0           |44070.640625      |\n",
            "|02110|2124.0    |9.337536554E7       |43962.03650659134 |\n",
            "|10545|131.0     |5644587.0           |43088.45038167939 |\n",
            "|92121|4588.0    |1.9378076508999994E8|42236.43528552745 |\n",
            "|94111|3432.0    |1.440224845799999E8 |41964.59340909088 |\n",
            "|93634|23.0      |930020.0            |40435.65217391304 |\n",
            "|14539|186.0     |7479898.0           |40214.50537634409 |\n",
            "|72679|49.0      |1955200.0           |39902.04081632653 |\n",
            "|22845|10.0      |388080.0            |38808.0           |\n",
            "|29122|32.0      |1215562.0           |37986.3125        |\n",
            "|48139|140.0     |5311679.5           |37940.56785714286 |\n",
            "|97204|1033.0    |3.808529419E7       |36868.62941916747 |\n",
            "|24011|357.0     |1.31145582E7        |36735.45714285714 |\n",
            "|98235|57.0      |2079404.5           |36480.78070175439 |\n",
            "|40110|12.0      |412800.0            |34400.0           |\n",
            "|94128|119.0     |3974875.24          |33402.312941176475|\n",
            "|37213|108.0     |3536817.0           |32748.305555555555|\n",
            "|92332|3.0       |97309.0             |32436.333333333332|\n",
            "|27201|69.0      |2206572.75          |31979.315217391304|\n",
            "|70340|146.0     |4585117.49          |31404.914315068494|\n",
            "|86016|46.0      |1428000.0           |31043.478260869564|\n",
            "|06103|1490.0    |4.4452728449999996E7|29834.045939597312|\n",
            "|59065|116.0     |3234212.0           |27881.137931034482|\n",
            "|14302|48.0      |1325952.0           |27624.0           |\n",
            "|17570|233.0     |6435230.0           |27619.012875536482|\n",
            "|44274|351.0     |9654634.5           |27506.081196581195|\n",
            "|11770|65.0      |1786772.0           |27488.8           |\n",
            "|80477|149.0     |3963544.95          |26600.972818791946|\n",
            "|90058|2674.0    |7.011364505000001E7 |26220.510489902772|\n",
            "|95113|1332.0    |3.4625010260000005E7|25994.752447447452|\n",
            "|21705|13.0      |337400.0            |25953.846153846152|\n",
            "|02210|2461.0    |6.3220765169999994E7|25689.05533116619 |\n",
            "|06336|85.0      |2124779.0           |24997.4           |\n",
            "|49434|14.0      |333500.0            |23821.428571428572|\n",
            "|94940|223.0     |5128718.0           |22998.735426008967|\n",
            "|44080|53.0      |1173600.0           |22143.396226415094|\n",
            "|72201|763.0     |1.669117973E7       |21875.727038007863|\n",
            "|20036|5655.0    |1.2343686328999999E8|21827.915701149424|\n",
            "|14203|1807.0    |3.9346372E7         |21774.41726618705 |\n",
            "|14788|209.0     |4537540.0           |21710.71770334928 |\n",
            "|83203|279.0     |5958272.0           |21355.813620071684|\n",
            "|02643|9.0       |191737.0            |21304.11111111111 |\n",
            "|61027|8.0       |170005.0            |21250.625         |\n",
            "|10006|3277.0    |6.84649058E7        |20892.555935306682|\n",
            "|64066|30.0      |621200.0            |20706.666666666668|\n",
            "|92590|3951.0    |7.999889475000001E7 |20247.758731966594|\n",
            "|33855|15.0      |303401.0            |20226.733333333334|\n",
            "|00694|66.0      |1306662.0           |19797.909090909092|\n",
            "|90067|2355.0    |4.6333054220000006E7|19674.333002123145|\n",
            "|04944|51.0      |1000000.0           |19607.843137254902|\n",
            "|87525|143.0     |2802988.0           |19601.314685314686|\n",
            "|17072|82.0      |1558000.0           |19000.0           |\n",
            "|94105|6793.0    |1.2585319891999997E8|18526.89517444428 |\n",
            "|90010|3524.0    |6.4781809869999975E7|18383.033447786598|\n",
            "|14585|75.0      |1352760.0           |18036.8           |\n",
            "+-----+----------+--------------------+------------------+\n",
            "only showing top 100 rows\n",
            "\n"
          ]
        }
      ]
    },
    {
      "cell_type": "markdown",
      "source": [
        "## (6) What is the top industry (NAICS codes) in the top 100 zip codes that received money?\n",
        "Top 100 zip codes meaning the zip codes that borrowed the most money. I want the most common NAICS code per zip code. Show all 100 rows then sum per NAICS to describe overall trends.\n",
        "\n",
        "This one is tricky!"
      ],
      "metadata": {
        "id": "rNFUWD1vxUg7"
      }
    },
    {
      "cell_type": "code",
      "source": [
        "#find the top zipcodes according to funds approved and the funds recieved per naics count\n",
        "#display results grouped by zipcode  \n",
        "top_zips = (df\n",
        "            .groupBy(F.col(\"ZCTA5\")) \\\n",
        "            .agg(F.sum(F.col(\"CurrentApprovalAmount\")).alias(\"Funds Loaned per Zip\")) \\\n",
        "            .orderBy(F.col(\"Funds Loaned per Zip\"), ascending=False) \\\n",
        "            .na.drop(\"any\") \\\n",
        "            .limit(100))\n",
        "\n",
        "\n",
        "naics_count = (df \n",
        "              .join(top_zips, on = 'ZCTA5', how = 'right') \\\n",
        "              .groupBy(F.col(\"ZCTA5\"), F.col(\"NAICSCode\")) \\\n",
        "              .agg(F.count(F.col(\"NAICSCode\")).alias(\"NAICS Count\"),\n",
        "                   F.sum(F.col(\"Funds Loaned Per Zip\")).alias(\"Funds per NAICS\")) \\\n",
        "              .orderBy(\"NAICS Count\") \\\n",
        "              .na.drop(\"any\") \\\n",
        "              .withColumnRenamed(\"NAICSCode\", \"Industry Code\"))\n",
        "\n",
        "\n",
        "(naics_count\n",
        " .groupBy(F.col(\"ZCTA5\")) \\\n",
        " .agg(F.first(F.col(\"Industry Code\")).alias(\"Industry Code\"),\n",
        "      F.first(F.col(\"Funds per NAICS\")).alias(\"Top Industry Funds Loaned\")) \\\n",
        " .show(100, False))"
      ],
      "metadata": {
        "id": "RL_jPktlJQGu",
        "colab": {
          "base_uri": "https://localhost:8080/"
        },
        "outputId": "3dd313e7-d585-4c28-e04e-0d0bc59d26d4"
      },
      "execution_count": null,
      "outputs": [
        {
          "output_type": "stream",
          "name": "stdout",
          "text": [
            "+-----+-------------+-------------------------+\n",
            "|ZCTA5|Industry Code|Top Industry Funds Loaned|\n",
            "+-----+-------------+-------------------------+\n",
            "|02110|541219       |9.337536554E7            |\n",
            "|07004|722310       |8.151596273000002E7      |\n",
            "|08701|813212       |1.0516999690000005E8     |\n",
            "|10001|813212       |3.913636451900001E8      |\n",
            "|10003|611110       |1.6754776149E8           |\n",
            "|10004|923110       |1.3947474199E8           |\n",
            "|10005|561311       |1.0199213233E8           |\n",
            "|10007|541990       |8.705208341999999E7      |\n",
            "|10010|453210       |1.5566481278E8           |\n",
            "|10011|448150       |1.2214098554E8           |\n",
            "|10012|446120       |1.426357084E8            |\n",
            "|10013|621491       |1.8114775193E8           |\n",
            "|10014|315240       |8.463660722E7            |\n",
            "|10016|623110       |2.747660216699999E8      |\n",
            "|10017|813212       |2.9386059899999994E8     |\n",
            "|10018|448140       |4.8494671331000006E8     |\n",
            "|10019|713940       |1.6103545155000004E8     |\n",
            "|10022|541612       |2.416522745299999E8      |\n",
            "|10036|525910       |2.195267634199999E8      |\n",
            "|10038|541214       |9.211859735E7            |\n",
            "|11101|325620       |1.9670583314E8           |\n",
            "|11201|611310       |1.2679343447999999E8     |\n",
            "|11211|621610       |8.293006382E7            |\n",
            "|11219|623110       |9.049247850999999E7      |\n",
            "|11735|623311       |9.135687202999999E7      |\n",
            "|11747|483113       |9.411843089E7            |\n",
            "|11788|624110       |1.1098830616E8           |\n",
            "|14221|541513       |9.411254613E7            |\n",
            "|19103|518210       |1.1510028691E8           |\n",
            "|20005|541519       |8.664388178E7            |\n",
            "|20036|813212       |1.2343686328999999E8     |\n",
            "|20850|111998       |1.0576099424E8           |\n",
            "|21046|339112       |8.185505322E7            |\n",
            "|22102|323111       |9.082425250999999E7      |\n",
            "|22314|561621       |8.704236247999999E7      |\n",
            "|30305|561599       |8.175619655E7            |\n",
            "|30339|236116       |9.869445725000001E7      |\n",
            "|60601|541720       |1.0870688544E8           |\n",
            "|60606|813319       |1.5034872726999998E8     |\n",
            "|60607|236220       |8.194076439999998E7      |\n",
            "|60654|327120       |9.203664129E7            |\n",
            "|75244|237120       |8.228177344E7            |\n",
            "|77041|532412       |8.816553438999999E7      |\n",
            "|77478|561320       |9.353032566E7            |\n",
            "|80111|213112       |8.314115822000001E7      |\n",
            "|80112|522220       |1.3977024861E8           |\n",
            "|80202|561320       |1.1694331521000001E8     |\n",
            "|85260|339112       |1.1566561558999999E8     |\n",
            "|85281|522390       |8.581480807999995E7      |\n",
            "|89119|623110       |8.147903582E7            |\n",
            "|90025|423430       |1.0448531451000002E8     |\n",
            "|90045|722110       |8.469970560999998E7      |\n",
            "|90670|441210       |1.1852597797E8           |\n",
            "|91311|334511       |1.0177911181E8           |\n",
            "|91355|339992       |1.1638661905E8           |\n",
            "|91730|311710       |9.882093921000001E7      |\n",
            "|91761|335129       |1.1846390135E8           |\n",
            "|92008|333999       |8.931852161999999E7      |\n",
            "|92101|611310       |1.5895994537E8           |\n",
            "|92108|624310       |9.275883846E7            |\n",
            "|92110|541512       |8.036552838000001E7      |\n",
            "|92121|492110       |1.9378076509E8           |\n",
            "|92123|541620       |9.013893157E7            |\n",
            "|92614|522292       |1.3508296744E8           |\n",
            "|92618|512191       |2.1711713292000002E8     |\n",
            "|92626|517312       |1.3151158933000001E8     |\n",
            "|92660|523120       |1.4309841599000004E8     |\n",
            "|92705|238310       |1.0380879538000001E8     |\n",
            "|92780|238150       |8.699481311000001E7      |\n",
            "|92806|335228       |1.1476392633999999E8     |\n",
            "|92807|238310       |8.294774388999999E7      |\n",
            "|92821|423860       |9.315548328999999E7      |\n",
            "|93308|237110       |8.016018425999999E7      |\n",
            "|93401|624310       |8.074719313E7            |\n",
            "|94010|311351       |1.1889905868E8           |\n",
            "|94063|442299       |9.967083793000002E7      |\n",
            "|94080|812332       |9.221879896E7            |\n",
            "|94103|621610       |1.7560016120999998E8     |\n",
            "|94104|532111       |1.1996629496E8           |\n",
            "|94105|621610       |1.2585319891999999E8     |\n",
            "|94107|515210       |1.2654947841000001E8     |\n",
            "|94108|624310       |8.695952032999998E7      |\n",
            "|94111|238210       |1.4402248457999995E8     |\n",
            "|94520|483111       |1.0191524170999998E8     |\n",
            "|94538|212321       |2.109112367E8            |\n",
            "|94545|314999       |9.802572592E7            |\n",
            "|94558|238120       |9.206543928999999E7      |\n",
            "|94566|236116       |8.055929521999998E7      |\n",
            "|94583|531110       |9.588878419E7            |\n",
            "|94588|813410       |9.385040460999998E7      |\n",
            "|94612|551112       |9.557041555999997E7      |\n",
            "|94901|325612       |1.0609766036000004E8     |\n",
            "|95008|454110       |9.233048615E7            |\n",
            "|95035|238330       |9.02147808E7             |\n",
            "|95054|334516       |1.1097955223999998E8     |\n",
            "|95112|238120       |1.1654355141999997E8     |\n",
            "|95131|238310       |8.322697752E7            |\n",
            "|98052|238340       |9.207815499999999E7      |\n",
            "|98101|454110       |1.3290265515E8           |\n",
            "|99503|221122       |8.181685115999992E7      |\n",
            "+-----+-------------+-------------------------+\n",
            "\n"
          ]
        }
      ]
    },
    {
      "cell_type": "markdown",
      "source": [
        "## (7) What are the socioeconomic characteristics of the top 100 zip codes? How do they relate to loan amounts?\n",
        "\n",
        "Select two census variables that look interesting to you. \n",
        "\n",
        "Create histograms or scatterplots of those interesting socioeconomic variables with data from the PPP. Make them beautiful and describe what you see.\n",
        "\n",
        "Don't just pick random variables - try to find an interesting story to tell with data and motivate WHY you picked this column!"
      ],
      "metadata": {
        "id": "apfTMApzwEwp"
      }
    },
    {
      "cell_type": "code",
      "source": [
        "#select parameters businees type and approval amount which is ordered by approved funds. Display the scatterpot \n",
        "#to find relationship between both\n",
        "import matplotlib.pyplot as plt\n",
        "\n",
        "\n",
        "ppp_data_filtered = df.select(\"BusinessType\", \"CurrentApprovalAmount\", \"ZCTA5\") \\\n",
        "                      .orderBy(\"CurrentApprovalAmount\", ascending = False) \\\n",
        "                      .limit(100)\n",
        "\n",
        "ppp_data_filtered.show()\n",
        "\n",
        "plt.figure(figsize=(20,20))\n",
        "sns.scatterplot(data=ppp_data_filtered.toPandas(), x=\"CurrentApprovalAmount\", y=\"BusinessType\")\n",
        "plt.title(\"Relationship between Loan Approval Amount and Business Type\")\n",
        "plt.xticks(rotation=90, ha='right')\n",
        "plt.show()\n",
        "\n",
        "\n"
      ],
      "metadata": {
        "id": "LxlatTV-xTEt",
        "colab": {
          "base_uri": "https://localhost:8080/",
          "height": 1000
        },
        "outputId": "2a60dc8d-83c6-42c0-9375-9356018794d4"
      },
      "execution_count": null,
      "outputs": [
        {
          "output_type": "stream",
          "name": "stdout",
          "text": [
            "+--------------------+---------------------+-----+\n",
            "|        BusinessType|CurrentApprovalAmount|ZCTA5|\n",
            "+--------------------+---------------------+-----+\n",
            "|Limited  Liabilit...|              9999999| null|\n",
            "|         Corporation|              9999999| null|\n",
            "|501(c)3 – Non Profit|              9999997|98108|\n",
            "|Limited  Liabilit...|              9999997| null|\n",
            "|501(c)3 – Non Profit|              9999997|55012|\n",
            "|         Corporation|              9999997| null|\n",
            "|         Corporation|              9999995|94608|\n",
            "|         Corporation|            999999.99| null|\n",
            "|         Corporation|            999999.99| null|\n",
            "|         Corporation|            999999.99| null|\n",
            "|Non-Profit Organi...|            999999.99| null|\n",
            "|         Corporation|               999999| null|\n",
            "|Non-Profit Organi...|               999999|80731|\n",
            "|Limited  Liabilit...|               999999| null|\n",
            "|         Partnership|               999999| null|\n",
            "|Limited  Liabilit...|               999999| null|\n",
            "|Limited  Liabilit...|               999999| null|\n",
            "|Subchapter S Corp...|               999999| null|\n",
            "|Limited  Liabilit...|               999997| null|\n",
            "|Subchapter S Corp...|               999996|93609|\n",
            "+--------------------+---------------------+-----+\n",
            "only showing top 20 rows\n",
            "\n"
          ]
        },
        {
          "output_type": "display_data",
          "data": {
            "text/plain": [
              "<Figure size 1440x1440 with 1 Axes>"
            ],
            "image/png": "[encoded data removed]"
          },
          "metadata": {
            "needs_background": "light"
          }
        }
      ]
    },
    {
      "cell_type": "markdown",
      "source": [
        "Here we try to find the types of businesses which lend the most munny and understand the trends. It is clear that  corporations not only lent the biggest amounts but are spread out through all amounts , LLC's and subchapter corporations are also spread out but they are not very prevalent in the higher ranges. Induvidual contractors seem to be the most absent in borrowing higher amounts followed by self employed induviduals."
      ],
      "metadata": {
        "id": "2YFsOT_tfKsM"
      }
    },
    {
      "cell_type": "markdown",
      "source": [
        "## (8) Optional extra credit for +10 points. What are the Top 10 zipcodes that had the highest per capita amount of loans going to Women-Owned businesses?\n",
        "\n",
        "This column is called `Gender` in the `PPP` data.\n",
        "\n",
        "* What State are these zipcodes in? \n",
        "* Comment on if they have anything in common? "
      ],
      "metadata": {
        "id": "9ay33g4BH83C"
      }
    },
    {
      "cell_type": "code",
      "source": [
        "#select zipcodes which are not null and female owned . \n",
        "#find the zipcodes in descending order of summation of approved funds\n",
        "(df\n",
        " .where(\"Gender == 'Female Owned'\")\\\n",
        " .where(\"ZCTA5 is not null\")\\\n",
        " .where(\"BorrowerState is not null\")\\\n",
        " .withColumn(\"CurrentApprovalAmount\", df.CurrentApprovalAmount.cast(\"float\"))\\\n",
        " .groupby([\"BorrowerState\", \"ZCTA5\"])\\\n",
        " .agg(F.sum(\"CurrentApprovalAmount\").alias(\"TotLoanAmt\"))\\\n",
        " .orderBy(\"TotLoanAmt\", ascending = False).show(10, truncate = False))"
      ],
      "metadata": {
        "id": "ygBON1OjLM2k",
        "colab": {
          "base_uri": "https://localhost:8080/"
        },
        "outputId": "7f355318-33ce-415f-a88f-2efb8175a9d9"
      },
      "execution_count": null,
      "outputs": [
        {
          "output_type": "stream",
          "name": "stdout",
          "text": [
            "+-------------+-----+--------------------+\n",
            "|BorrowerState|ZCTA5|TotLoanAmt          |\n",
            "+-------------+-----+--------------------+\n",
            "|AZ           |86409|2.4837696E7         |\n",
            "|NY           |10018|2.38916820625E7     |\n",
            "|NY           |10012|1.47100295E7        |\n",
            "|NY           |11354|1.3405267E7         |\n",
            "|CA           |92101|1.3393197380859375E7|\n",
            "|TX           |75024|1.23005725E7        |\n",
            "|MI           |48075|1.1907094E7         |\n",
            "|PR           |00907|1.1309088984375E7   |\n",
            "|NY           |10001|1.1241899015625E7   |\n",
            "|LA           |70354|1.09348E7           |\n",
            "+-------------+-----+--------------------+\n",
            "only showing top 10 rows\n",
            "\n"
          ]
        }
      ]
    },
    {
      "cell_type": "markdown",
      "source": [
        "# 🔴 Conclusion (5 pts)"
      ],
      "metadata": {
        "id": "ilXXyWRlJwyY"
      }
    },
    {
      "cell_type": "markdown",
      "source": [
        "## (1) What did you learn? \n",
        "Write five detailed bullets about what you learned. "
      ],
      "metadata": {
        "id": "GgO8oYoNAKSw"
      }
    },
    {
      "cell_type": "markdown",
      "source": [
        "1. We learned how we need to sample the data to make scatterplots run. Initially we tried to plot amounts for all zipcodes but the execution kept failing. Upon selecting the first 100 we were successful in getting results\n",
        "\n",
        "2. We learned that we can perform multiple aggregations in the same query.\n",
        "\n",
        "3. We learned the use of for statements to access all columns, upon starting we faced quite a few syntax and scope errors\n",
        "4. We understood the need of typecasting when performing operations on columns. Question 5 required the column data types to be converted to double to get the right answers\n",
        "5. We learned the nuances of plots in matplotlib. For instance the labels of y axis needed to be rotated 90 degrees so that the graph could be more readable"
      ],
      "metadata": {
        "id": "xfG7hf-Wst5b"
      }
    },
    {
      "cell_type": "markdown",
      "source": [
        "# On Your Own (no credit)\n",
        "No points - but can you download ALL files for PPP data (several gigabytes of data) and re-run this script with ease? Post on the discussion board if you do!"
      ],
      "metadata": {
        "id": "HmBomBoEmyrm"
      }
    }
  ]
}